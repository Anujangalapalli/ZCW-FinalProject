{
 "cells": [
  {
   "cell_type": "code",
   "execution_count": 1,
   "metadata": {
    "execution": {
     "iopub.execute_input": "2021-01-15T21:42:43.844299Z",
     "iopub.status.busy": "2021-01-15T21:42:43.843027Z",
     "iopub.status.idle": "2021-01-15T21:42:43.845738Z",
     "shell.execute_reply": "2021-01-15T21:42:43.846575Z"
    },
    "papermill": {
     "duration": 0.028203,
     "end_time": "2021-01-15T21:42:43.846849",
     "exception": false,
     "start_time": "2021-01-15T21:42:43.818646",
     "status": "completed"
    },
    "tags": [
     "injected-parameters"
    ]
   },
   "outputs": [],
   "source": [
    "# Parameters\n",
    "TEST = True\n",
    "QUICK_RUN = True\n"
   ]
  },
  {
   "cell_type": "code",
   "execution_count": 2,
   "metadata": {
    "execution": {
     "iopub.execute_input": "2021-01-15T21:42:43.891033Z",
     "iopub.status.busy": "2021-01-15T21:42:43.888915Z",
     "iopub.status.idle": "2021-01-15T21:42:46.211204Z",
     "shell.execute_reply": "2021-01-15T21:42:46.212284Z"
    },
    "papermill": {
     "duration": 2.346776,
     "end_time": "2021-01-15T21:42:46.212598",
     "exception": false,
     "start_time": "2021-01-15T21:42:43.865822",
     "status": "completed"
    },
    "tags": []
   },
   "outputs": [],
   "source": [
    "import pandas as pd\n",
    "import numpy as np\n",
    "import matplotlib.pyplot as plt\n",
    "import seaborn as sns\n",
    "from nltk.stem import PorterStemmer, WordNetLemmatizer\n",
    "from nltk.corpus import stopwords\n",
    "from nltk.tokenize import word_tokenize, sent_tokenize\n",
    "\n",
    "\n",
    "import sys"
   ]
  },
  {
   "cell_type": "code",
   "execution_count": 3,
   "metadata": {
    "execution": {
     "iopub.execute_input": "2021-01-15T21:42:46.260979Z",
     "iopub.status.busy": "2021-01-15T21:42:46.259129Z",
     "iopub.status.idle": "2021-01-15T21:42:46.341765Z",
     "shell.execute_reply": "2021-01-15T21:42:46.342818Z"
    },
    "papermill": {
     "duration": 0.111145,
     "end_time": "2021-01-15T21:42:46.343018",
     "exception": false,
     "start_time": "2021-01-15T21:42:46.231873",
     "status": "completed"
    },
    "tags": []
   },
   "outputs": [],
   "source": [
    "import sys\n",
    "sys.path.insert(0,\"/usr/local/lib/python3.9/site-packages\")\n",
    "import pymysql\n",
    "from textblob import TextBlob\n",
    "import plotly as px"
   ]
  },
  {
   "cell_type": "code",
   "execution_count": 4,
   "metadata": {
    "execution": {
     "iopub.execute_input": "2021-01-15T21:42:46.395582Z",
     "iopub.status.busy": "2021-01-15T21:42:46.393657Z",
     "iopub.status.idle": "2021-01-15T21:42:46.396937Z",
     "shell.execute_reply": "2021-01-15T21:42:46.397868Z"
    },
    "papermill": {
     "duration": 0.035756,
     "end_time": "2021-01-15T21:42:46.398070",
     "exception": false,
     "start_time": "2021-01-15T21:42:46.362314",
     "status": "completed"
    },
    "tags": []
   },
   "outputs": [],
   "source": [
    "import sys\n",
    "sys.path.insert(0,\"/usr/local/lib/python3.9/site-packages\")\n",
    "import pymysql"
   ]
  },
  {
   "cell_type": "code",
   "execution_count": 5,
   "metadata": {
    "execution": {
     "iopub.execute_input": "2021-01-15T21:42:46.452396Z",
     "iopub.status.busy": "2021-01-15T21:42:46.450912Z",
     "iopub.status.idle": "2021-01-15T21:42:46.453783Z",
     "shell.execute_reply": "2021-01-15T21:42:46.454721Z"
    },
    "papermill": {
     "duration": 0.035604,
     "end_time": "2021-01-15T21:42:46.454905",
     "exception": false,
     "start_time": "2021-01-15T21:42:46.419301",
     "status": "completed"
    },
    "tags": []
   },
   "outputs": [],
   "source": [
    "import os\n",
    "\n",
    "host_name = os.getenv('host_name')\n",
    "passwd = os.getenv('aws_password')\n",
    "user='group2'\n",
    "database='group2db'"
   ]
  },
  {
   "cell_type": "code",
   "execution_count": 6,
   "metadata": {
    "execution": {
     "iopub.execute_input": "2021-01-15T21:42:46.506839Z",
     "iopub.status.busy": "2021-01-15T21:42:46.505006Z",
     "iopub.status.idle": "2021-01-15T21:42:46.728501Z",
     "shell.execute_reply": "2021-01-15T21:42:46.729660Z"
    },
    "papermill": {
     "duration": 0.247814,
     "end_time": "2021-01-15T21:42:46.729903",
     "exception": false,
     "start_time": "2021-01-15T21:42:46.482089",
     "status": "completed"
    },
    "tags": []
   },
   "outputs": [],
   "source": [
    "# Connecting AWS mysql Database\n",
    "db = pymysql.connect(host=host_name,user=user,passwd=passwd,db=database)"
   ]
  },
  {
   "cell_type": "code",
   "execution_count": 7,
   "metadata": {
    "execution": {
     "iopub.execute_input": "2021-01-15T21:42:46.777096Z",
     "iopub.status.busy": "2021-01-15T21:42:46.775820Z",
     "iopub.status.idle": "2021-01-15T21:42:46.778500Z",
     "shell.execute_reply": "2021-01-15T21:42:46.779602Z"
    },
    "papermill": {
     "duration": 0.027593,
     "end_time": "2021-01-15T21:42:46.779845",
     "exception": false,
     "start_time": "2021-01-15T21:42:46.752252",
     "status": "completed"
    },
    "tags": []
   },
   "outputs": [],
   "source": [
    "cursor = db.cursor()"
   ]
  },
  {
   "cell_type": "code",
   "execution_count": 8,
   "metadata": {
    "execution": {
     "iopub.execute_input": "2021-01-15T21:42:46.822930Z",
     "iopub.status.busy": "2021-01-15T21:42:46.821581Z",
     "iopub.status.idle": "2021-01-15T21:42:47.098998Z",
     "shell.execute_reply": "2021-01-15T21:42:47.100175Z"
    },
    "papermill": {
     "duration": 0.301042,
     "end_time": "2021-01-15T21:42:47.100482",
     "exception": false,
     "start_time": "2021-01-15T21:42:46.799440",
     "status": "completed"
    },
    "tags": []
   },
   "outputs": [],
   "source": [
    "# Reading sql table for WEST into pandas DataFrame\n",
    "west = pd.read_sql_query('''select * from tweets_locations where location IN ('Washington', 'Oregan', 'California', 'Montana', 'Idaho', 'Wyoming', 'Nevada', 'Utah', 'Colorado', 'Arizona', 'New Mexico') ''', db)"
   ]
  },
  {
   "cell_type": "code",
   "execution_count": 9,
   "metadata": {
    "execution": {
     "iopub.execute_input": "2021-01-15T21:42:47.141053Z",
     "iopub.status.busy": "2021-01-15T21:42:47.138475Z",
     "iopub.status.idle": "2021-01-15T21:42:47.144248Z",
     "shell.execute_reply": "2021-01-15T21:42:47.145087Z"
    },
    "papermill": {
     "duration": 0.026472,
     "end_time": "2021-01-15T21:42:47.145397",
     "exception": false,
     "start_time": "2021-01-15T21:42:47.118925",
     "status": "completed"
    },
    "tags": []
   },
   "outputs": [
    {
     "data": {
      "text/plain": [
       "(876, 3)"
      ]
     },
     "execution_count": 9,
     "metadata": {},
     "output_type": "execute_result"
    }
   ],
   "source": [
    "west.shape"
   ]
  },
  {
   "cell_type": "code",
   "execution_count": 10,
   "metadata": {
    "execution": {
     "iopub.execute_input": "2021-01-15T21:42:47.185567Z",
     "iopub.status.busy": "2021-01-15T21:42:47.184143Z",
     "iopub.status.idle": "2021-01-15T21:42:47.278083Z",
     "shell.execute_reply": "2021-01-15T21:42:47.279095Z"
    },
    "papermill": {
     "duration": 0.117607,
     "end_time": "2021-01-15T21:42:47.279296",
     "exception": false,
     "start_time": "2021-01-15T21:42:47.161689",
     "status": "completed"
    },
    "tags": []
   },
   "outputs": [],
   "source": [
    "# Reading sql table for Mid WEST into pandas DataFrame\n",
    "midwest = pd.read_sql_query('''select * from tweets_locations where location IN ('North Dakota', 'Minnesota', 'South Dakota', 'Iowa', 'Nebraska', 'Kansas', 'Missouri', 'Wisconsin', 'Michigan', 'Illinois', 'Indiana', 'Ohio'\n",
    ") ''', db)"
   ]
  },
  {
   "cell_type": "code",
   "execution_count": 11,
   "metadata": {
    "execution": {
     "iopub.execute_input": "2021-01-15T21:42:47.322868Z",
     "iopub.status.busy": "2021-01-15T21:42:47.321626Z",
     "iopub.status.idle": "2021-01-15T21:42:47.326530Z",
     "shell.execute_reply": "2021-01-15T21:42:47.325535Z"
    },
    "papermill": {
     "duration": 0.027282,
     "end_time": "2021-01-15T21:42:47.326749",
     "exception": false,
     "start_time": "2021-01-15T21:42:47.299467",
     "status": "completed"
    },
    "tags": []
   },
   "outputs": [
    {
     "data": {
      "text/plain": [
       "(699, 3)"
      ]
     },
     "execution_count": 11,
     "metadata": {},
     "output_type": "execute_result"
    }
   ],
   "source": [
    "midwest.shape"
   ]
  },
  {
   "cell_type": "code",
   "execution_count": 12,
   "metadata": {
    "execution": {
     "iopub.execute_input": "2021-01-15T21:42:47.366153Z",
     "iopub.status.busy": "2021-01-15T21:42:47.364985Z",
     "iopub.status.idle": "2021-01-15T21:42:47.506070Z",
     "shell.execute_reply": "2021-01-15T21:42:47.507161Z"
    },
    "papermill": {
     "duration": 0.163846,
     "end_time": "2021-01-15T21:42:47.507361",
     "exception": false,
     "start_time": "2021-01-15T21:42:47.343515",
     "status": "completed"
    },
    "tags": []
   },
   "outputs": [],
   "source": [
    "\n",
    "# Reading sql table for South into pandas DataFrame\n",
    "south = pd.read_sql_query('''select * from tweets_locations where location IN ('Oklahoma', 'Arkansas', 'Texas', 'Louisiana', 'Kentucky', 'Tennessee', 'Mississippi', 'Alabama', 'Maryland', 'Delaware', 'West Virginia', 'Virginia', 'North Carolina', 'South Carolina', 'Georgia', 'Florida')\n",
    " ''', db)"
   ]
  },
  {
   "cell_type": "code",
   "execution_count": 13,
   "metadata": {
    "execution": {
     "iopub.execute_input": "2021-01-15T21:42:47.557580Z",
     "iopub.status.busy": "2021-01-15T21:42:47.556349Z",
     "iopub.status.idle": "2021-01-15T21:42:47.560898Z",
     "shell.execute_reply": "2021-01-15T21:42:47.560043Z"
    },
    "papermill": {
     "duration": 0.02598,
     "end_time": "2021-01-15T21:42:47.561149",
     "exception": false,
     "start_time": "2021-01-15T21:42:47.535169",
     "status": "completed"
    },
    "tags": []
   },
   "outputs": [
    {
     "data": {
      "text/plain": [
       "(1474, 3)"
      ]
     },
     "execution_count": 13,
     "metadata": {},
     "output_type": "execute_result"
    }
   ],
   "source": [
    "south.shape"
   ]
  },
  {
   "cell_type": "code",
   "execution_count": 14,
   "metadata": {
    "execution": {
     "iopub.execute_input": "2021-01-15T21:42:47.602815Z",
     "iopub.status.busy": "2021-01-15T21:42:47.601819Z",
     "iopub.status.idle": "2021-01-15T21:42:47.731942Z",
     "shell.execute_reply": "2021-01-15T21:42:47.732899Z"
    },
    "papermill": {
     "duration": 0.153792,
     "end_time": "2021-01-15T21:42:47.733096",
     "exception": false,
     "start_time": "2021-01-15T21:42:47.579304",
     "status": "completed"
    },
    "tags": []
   },
   "outputs": [],
   "source": [
    "# Reading sql table for EAST into pandas DataFrame\n",
    "east = pd.read_sql_query('''select * from tweets_locations where location IN ('ME', 'Maine', 'NH', 'New Hampshire', 'VT', 'Vermont', 'MA', 'Massachusetts', 'CT', 'Connecticut', 'RI', 'Rhode Island', 'NY', 'New York', 'PA', 'Pennsylvania', 'NJ', 'New Jersey') ''', db)"
   ]
  },
  {
   "cell_type": "code",
   "execution_count": 15,
   "metadata": {
    "execution": {
     "iopub.execute_input": "2021-01-15T21:42:47.775489Z",
     "iopub.status.busy": "2021-01-15T21:42:47.774441Z",
     "iopub.status.idle": "2021-01-15T21:42:47.778268Z",
     "shell.execute_reply": "2021-01-15T21:42:47.779065Z"
    },
    "papermill": {
     "duration": 0.026413,
     "end_time": "2021-01-15T21:42:47.779242",
     "exception": false,
     "start_time": "2021-01-15T21:42:47.752829",
     "status": "completed"
    },
    "tags": []
   },
   "outputs": [
    {
     "data": {
      "text/plain": [
       "(1286, 3)"
      ]
     },
     "execution_count": 15,
     "metadata": {},
     "output_type": "execute_result"
    }
   ],
   "source": [
    "east.shape"
   ]
  },
  {
   "cell_type": "code",
   "execution_count": 16,
   "metadata": {
    "execution": {
     "iopub.execute_input": "2021-01-15T21:42:47.820026Z",
     "iopub.status.busy": "2021-01-15T21:42:47.818793Z",
     "iopub.status.idle": "2021-01-15T21:42:47.823462Z",
     "shell.execute_reply": "2021-01-15T21:42:47.822606Z"
    },
    "papermill": {
     "duration": 0.026096,
     "end_time": "2021-01-15T21:42:47.823620",
     "exception": false,
     "start_time": "2021-01-15T21:42:47.797524",
     "status": "completed"
    },
    "tags": []
   },
   "outputs": [
    {
     "data": {
      "text/plain": [
       "'!\"#$%&\\'()*+,-./:;<=>?@[\\\\]^_`{|}~'"
      ]
     },
     "execution_count": 16,
     "metadata": {},
     "output_type": "execute_result"
    }
   ],
   "source": [
    "import string\n",
    "string.punctuation"
   ]
  },
  {
   "cell_type": "code",
   "execution_count": 17,
   "metadata": {
    "execution": {
     "iopub.execute_input": "2021-01-15T21:42:47.866905Z",
     "iopub.status.busy": "2021-01-15T21:42:47.865755Z",
     "iopub.status.idle": "2021-01-15T21:42:47.868132Z",
     "shell.execute_reply": "2021-01-15T21:42:47.868990Z"
    },
    "papermill": {
     "duration": 0.027271,
     "end_time": "2021-01-15T21:42:47.869173",
     "exception": false,
     "start_time": "2021-01-15T21:42:47.841902",
     "status": "completed"
    },
    "tags": []
   },
   "outputs": [],
   "source": [
    "#  Function to clean the tweets\n",
    "def remove_punc(message):\n",
    "    Test_punc_removed = [ char for char in message if char not in string.punctuation]\n",
    "    Test_punc_removed_join = ''.join(Test_punc_removed)\n",
    "    return Test_punc_removed_join"
   ]
  },
  {
   "cell_type": "code",
   "execution_count": 18,
   "metadata": {
    "execution": {
     "iopub.execute_input": "2021-01-15T21:42:47.967578Z",
     "iopub.status.busy": "2021-01-15T21:42:47.951606Z",
     "iopub.status.idle": "2021-01-15T21:42:47.969526Z",
     "shell.execute_reply": "2021-01-15T21:42:47.970489Z"
    },
    "papermill": {
     "duration": 0.082939,
     "end_time": "2021-01-15T21:42:47.970677",
     "exception": false,
     "start_time": "2021-01-15T21:42:47.887738",
     "status": "completed"
    },
    "tags": []
   },
   "outputs": [],
   "source": [
    "west['tweet'] = west['tweet'].apply(remove_punc)\n",
    "midwest['tweet'] = midwest['tweet'].apply(remove_punc)\n",
    "south['tweet'] = south['tweet'].apply(remove_punc)\n",
    "east['tweet'] = east['tweet'].apply(remove_punc)"
   ]
  },
  {
   "cell_type": "code",
   "execution_count": 19,
   "metadata": {
    "execution": {
     "iopub.execute_input": "2021-01-15T21:42:48.015988Z",
     "iopub.status.busy": "2021-01-15T21:42:48.014849Z",
     "iopub.status.idle": "2021-01-15T21:42:48.018179Z",
     "shell.execute_reply": "2021-01-15T21:42:48.019034Z"
    },
    "papermill": {
     "duration": 0.030279,
     "end_time": "2021-01-15T21:42:48.019249",
     "exception": false,
     "start_time": "2021-01-15T21:42:47.988970",
     "status": "completed"
    },
    "tags": []
   },
   "outputs": [],
   "source": [
    "from nltk.corpus import stopwords\n",
    "stop_words = stopwords.words('english')\n",
    "stop_words.extend(['from', 'subject', 're', 'edu', 'use','will','aap','co','day','user','tweet','today','week','year', 'https','httpstco', 'rt', 'RT'])"
   ]
  },
  {
   "cell_type": "code",
   "execution_count": 20,
   "metadata": {
    "execution": {
     "iopub.execute_input": "2021-01-15T21:42:48.064492Z",
     "iopub.status.busy": "2021-01-15T21:42:48.063133Z",
     "iopub.status.idle": "2021-01-15T21:42:48.065779Z",
     "shell.execute_reply": "2021-01-15T21:42:48.066585Z"
    },
    "papermill": {
     "duration": 0.026642,
     "end_time": "2021-01-15T21:42:48.066765",
     "exception": false,
     "start_time": "2021-01-15T21:42:48.040123",
     "status": "completed"
    },
    "tags": []
   },
   "outputs": [],
   "source": [
    "# Remove stopwords and remove short words (less than 2 characters)\n",
    "def preprocess(text):\n",
    "    result = []\n",
    "    for token in gensim.utils.simple_preprocess(text):\n",
    "        if token not in stop_words and len(token) >= 2:\n",
    "            result.append(token)\n",
    "    return result"
   ]
  },
  {
   "cell_type": "code",
   "execution_count": 21,
   "metadata": {
    "execution": {
     "iopub.execute_input": "2021-01-15T21:42:48.116820Z",
     "iopub.status.busy": "2021-01-15T21:42:48.115722Z",
     "iopub.status.idle": "2021-01-15T21:42:50.113449Z",
     "shell.execute_reply": "2021-01-15T21:42:50.114289Z"
    },
    "papermill": {
     "duration": 2.0245,
     "end_time": "2021-01-15T21:42:50.114473",
     "exception": false,
     "start_time": "2021-01-15T21:42:48.089973",
     "status": "completed"
    },
    "tags": []
   },
   "outputs": [],
   "source": [
    "# Function to get the subjectivity\n",
    "def getSubjectivity(text):\n",
    "    return TextBlob(text).sentiment.subjectivity\n",
    "\n",
    "# Create a function to get the polarity\n",
    "def getPolarity(text):\n",
    "    return TextBlob(text).sentiment.polarity\n",
    "\n",
    "# Creating two new columns Subjectivity, Polarity\n",
    "west['Subjectivity'] = west['tweet'].apply(getSubjectivity)\n",
    "west['Polarity'] = west['tweet'].apply(getPolarity)\n",
    "\n",
    "midwest['Subjectivity'] = midwest['tweet'].apply(getSubjectivity)\n",
    "midwest['Polarity'] = midwest['tweet'].apply(getPolarity)\n",
    "\n",
    "south['Subjectivity'] = south['tweet'].apply(getSubjectivity)\n",
    "south['Polarity'] = south['tweet'].apply(getPolarity)\n",
    "\n",
    "east['Subjectivity'] = east['tweet'].apply(getSubjectivity)\n",
    "east['Polarity'] = east['tweet'].apply(getPolarity)"
   ]
  },
  {
   "cell_type": "code",
   "execution_count": 22,
   "metadata": {
    "execution": {
     "iopub.execute_input": "2021-01-15T21:42:50.167695Z",
     "iopub.status.busy": "2021-01-15T21:42:50.166587Z",
     "iopub.status.idle": "2021-01-15T21:42:50.181512Z",
     "shell.execute_reply": "2021-01-15T21:42:50.182742Z"
    },
    "papermill": {
     "duration": 0.049598,
     "end_time": "2021-01-15T21:42:50.183061",
     "exception": false,
     "start_time": "2021-01-15T21:42:50.133463",
     "status": "completed"
    },
    "tags": []
   },
   "outputs": [
    {
     "data": {
      "text/html": [
       "<div>\n",
       "<style scoped>\n",
       "    .dataframe tbody tr th:only-of-type {\n",
       "        vertical-align: middle;\n",
       "    }\n",
       "\n",
       "    .dataframe tbody tr th {\n",
       "        vertical-align: top;\n",
       "    }\n",
       "\n",
       "    .dataframe thead th {\n",
       "        text-align: right;\n",
       "    }\n",
       "</style>\n",
       "<table border=\"1\" class=\"dataframe\">\n",
       "  <thead>\n",
       "    <tr style=\"text-align: right;\">\n",
       "      <th></th>\n",
       "      <th>tweet_id</th>\n",
       "      <th>tweet</th>\n",
       "      <th>location</th>\n",
       "      <th>Subjectivity</th>\n",
       "      <th>Polarity</th>\n",
       "    </tr>\n",
       "  </thead>\n",
       "  <tbody>\n",
       "    <tr>\n",
       "      <th>0</th>\n",
       "      <td>6</td>\n",
       "      <td>RT DavidCaltabiano I spoke to countless senior...</td>\n",
       "      <td>Arizona</td>\n",
       "      <td>0.500000</td>\n",
       "      <td>0.250000</td>\n",
       "    </tr>\n",
       "    <tr>\n",
       "      <th>1</th>\n",
       "      <td>20</td>\n",
       "      <td>RT charlesgaba Holy shit They’re holding vacci...</td>\n",
       "      <td>Colorado</td>\n",
       "      <td>0.800000</td>\n",
       "      <td>-0.200000</td>\n",
       "    </tr>\n",
       "    <tr>\n",
       "      <th>2</th>\n",
       "      <td>25</td>\n",
       "      <td>nypost Wear a mask but write a message on it l...</td>\n",
       "      <td>California</td>\n",
       "      <td>0.500000</td>\n",
       "      <td>0.136364</td>\n",
       "    </tr>\n",
       "    <tr>\n",
       "      <th>3</th>\n",
       "      <td>26</td>\n",
       "      <td>RT AynRandPaulRyan Translation The Michigan st...</td>\n",
       "      <td>Colorado</td>\n",
       "      <td>0.000000</td>\n",
       "      <td>0.000000</td>\n",
       "    </tr>\n",
       "    <tr>\n",
       "      <th>4</th>\n",
       "      <td>29</td>\n",
       "      <td>RT realJeff45 This is why were supposed to que...</td>\n",
       "      <td>California</td>\n",
       "      <td>0.000000</td>\n",
       "      <td>0.000000</td>\n",
       "    </tr>\n",
       "    <tr>\n",
       "      <th>...</th>\n",
       "      <td>...</td>\n",
       "      <td>...</td>\n",
       "      <td>...</td>\n",
       "      <td>...</td>\n",
       "      <td>...</td>\n",
       "    </tr>\n",
       "    <tr>\n",
       "      <th>871</th>\n",
       "      <td>4540</td>\n",
       "      <td>RT SusanHennessey If you are a DC resident ove...</td>\n",
       "      <td>California</td>\n",
       "      <td>0.000000</td>\n",
       "      <td>0.000000</td>\n",
       "    </tr>\n",
       "    <tr>\n",
       "      <th>872</th>\n",
       "      <td>4544</td>\n",
       "      <td>Increased Exports\\nBorder Wall\\nRemain in Mexi...</td>\n",
       "      <td>California</td>\n",
       "      <td>0.000000</td>\n",
       "      <td>0.000000</td>\n",
       "    </tr>\n",
       "    <tr>\n",
       "      <th>873</th>\n",
       "      <td>4563</td>\n",
       "      <td>RT DrTomFrieden Hey My 91yearold mother just g...</td>\n",
       "      <td>New Mexico</td>\n",
       "      <td>0.333333</td>\n",
       "      <td>0.250000</td>\n",
       "    </tr>\n",
       "    <tr>\n",
       "      <th>874</th>\n",
       "      <td>4566</td>\n",
       "      <td>RT BrandonBeaber Get your vaccine as soon as i...</td>\n",
       "      <td>New Mexico</td>\n",
       "      <td>0.400000</td>\n",
       "      <td>0.400000</td>\n",
       "    </tr>\n",
       "    <tr>\n",
       "      <th>875</th>\n",
       "      <td>4582</td>\n",
       "      <td>RT rachsieg Details are out on Bidens 19 covid...</td>\n",
       "      <td>Colorado</td>\n",
       "      <td>0.000000</td>\n",
       "      <td>0.000000</td>\n",
       "    </tr>\n",
       "  </tbody>\n",
       "</table>\n",
       "<p>876 rows × 5 columns</p>\n",
       "</div>"
      ],
      "text/plain": [
       "     tweet_id                                              tweet    location  \\\n",
       "0           6  RT DavidCaltabiano I spoke to countless senior...     Arizona   \n",
       "1          20  RT charlesgaba Holy shit They’re holding vacci...    Colorado   \n",
       "2          25  nypost Wear a mask but write a message on it l...  California   \n",
       "3          26  RT AynRandPaulRyan Translation The Michigan st...    Colorado   \n",
       "4          29  RT realJeff45 This is why were supposed to que...  California   \n",
       "..        ...                                                ...         ...   \n",
       "871      4540  RT SusanHennessey If you are a DC resident ove...  California   \n",
       "872      4544  Increased Exports\\nBorder Wall\\nRemain in Mexi...  California   \n",
       "873      4563  RT DrTomFrieden Hey My 91yearold mother just g...  New Mexico   \n",
       "874      4566  RT BrandonBeaber Get your vaccine as soon as i...  New Mexico   \n",
       "875      4582  RT rachsieg Details are out on Bidens 19 covid...    Colorado   \n",
       "\n",
       "     Subjectivity  Polarity  \n",
       "0        0.500000  0.250000  \n",
       "1        0.800000 -0.200000  \n",
       "2        0.500000  0.136364  \n",
       "3        0.000000  0.000000  \n",
       "4        0.000000  0.000000  \n",
       "..            ...       ...  \n",
       "871      0.000000  0.000000  \n",
       "872      0.000000  0.000000  \n",
       "873      0.333333  0.250000  \n",
       "874      0.400000  0.400000  \n",
       "875      0.000000  0.000000  \n",
       "\n",
       "[876 rows x 5 columns]"
      ]
     },
     "execution_count": 22,
     "metadata": {},
     "output_type": "execute_result"
    }
   ],
   "source": [
    "west"
   ]
  },
  {
   "cell_type": "code",
   "execution_count": 23,
   "metadata": {
    "execution": {
     "iopub.execute_input": "2021-01-15T21:42:50.240645Z",
     "iopub.status.busy": "2021-01-15T21:42:50.239395Z",
     "iopub.status.idle": "2021-01-15T21:42:50.244661Z",
     "shell.execute_reply": "2021-01-15T21:42:50.243706Z"
    },
    "papermill": {
     "duration": 0.036915,
     "end_time": "2021-01-15T21:42:50.244835",
     "exception": false,
     "start_time": "2021-01-15T21:42:50.207920",
     "status": "completed"
    },
    "tags": []
   },
   "outputs": [
    {
     "data": {
      "text/html": [
       "<div>\n",
       "<style scoped>\n",
       "    .dataframe tbody tr th:only-of-type {\n",
       "        vertical-align: middle;\n",
       "    }\n",
       "\n",
       "    .dataframe tbody tr th {\n",
       "        vertical-align: top;\n",
       "    }\n",
       "\n",
       "    .dataframe thead th {\n",
       "        text-align: right;\n",
       "    }\n",
       "</style>\n",
       "<table border=\"1\" class=\"dataframe\">\n",
       "  <thead>\n",
       "    <tr style=\"text-align: right;\">\n",
       "      <th></th>\n",
       "      <th>tweet_id</th>\n",
       "      <th>tweet</th>\n",
       "      <th>location</th>\n",
       "      <th>Subjectivity</th>\n",
       "      <th>Polarity</th>\n",
       "    </tr>\n",
       "  </thead>\n",
       "  <tbody>\n",
       "    <tr>\n",
       "      <th>0</th>\n",
       "      <td>1</td>\n",
       "      <td>RT JoeBiden Folks I just received the second d...</td>\n",
       "      <td>Michigan</td>\n",
       "      <td>0.333333</td>\n",
       "      <td>0.270833</td>\n",
       "    </tr>\n",
       "    <tr>\n",
       "      <th>1</th>\n",
       "      <td>2</td>\n",
       "      <td>RT charlesgaba Holy shit They’re holding vacci...</td>\n",
       "      <td>Ohio</td>\n",
       "      <td>0.800000</td>\n",
       "      <td>-0.200000</td>\n",
       "    </tr>\n",
       "    <tr>\n",
       "      <th>2</th>\n",
       "      <td>9</td>\n",
       "      <td>RT HighImpactFlix Doctor on CNN Don’t be ‘alar...</td>\n",
       "      <td>Michigan</td>\n",
       "      <td>0.000000</td>\n",
       "      <td>0.000000</td>\n",
       "    </tr>\n",
       "    <tr>\n",
       "      <th>3</th>\n",
       "      <td>32</td>\n",
       "      <td>I want it</td>\n",
       "      <td>Michigan</td>\n",
       "      <td>0.000000</td>\n",
       "      <td>0.000000</td>\n",
       "    </tr>\n",
       "    <tr>\n",
       "      <th>4</th>\n",
       "      <td>38</td>\n",
       "      <td>RT BoSnerdley Los Angeles students required to...</td>\n",
       "      <td>Illinois</td>\n",
       "      <td>0.400000</td>\n",
       "      <td>0.400000</td>\n",
       "    </tr>\n",
       "    <tr>\n",
       "      <th>...</th>\n",
       "      <td>...</td>\n",
       "      <td>...</td>\n",
       "      <td>...</td>\n",
       "      <td>...</td>\n",
       "      <td>...</td>\n",
       "    </tr>\n",
       "    <tr>\n",
       "      <th>694</th>\n",
       "      <td>4556</td>\n",
       "      <td>For awhile I wasnt sure if I would get the COV...</td>\n",
       "      <td>Illinois</td>\n",
       "      <td>0.888889</td>\n",
       "      <td>0.500000</td>\n",
       "    </tr>\n",
       "    <tr>\n",
       "      <th>695</th>\n",
       "      <td>4565</td>\n",
       "      <td>Wait They are throwing away spare doses and pe...</td>\n",
       "      <td>Kansas</td>\n",
       "      <td>0.500000</td>\n",
       "      <td>0.500000</td>\n",
       "    </tr>\n",
       "    <tr>\n",
       "      <th>696</th>\n",
       "      <td>4571</td>\n",
       "      <td>RT brandonjsmith5 I expect well hear this late...</td>\n",
       "      <td>Indiana</td>\n",
       "      <td>0.038462</td>\n",
       "      <td>0.000000</td>\n",
       "    </tr>\n",
       "    <tr>\n",
       "      <th>697</th>\n",
       "      <td>4573</td>\n",
       "      <td>Rodsplace Building antibodies is so 20th centu...</td>\n",
       "      <td>Missouri</td>\n",
       "      <td>0.000000</td>\n",
       "      <td>0.000000</td>\n",
       "    </tr>\n",
       "    <tr>\n",
       "      <th>698</th>\n",
       "      <td>4576</td>\n",
       "      <td>Welcome news regarding the COVID19 vaccine fro...</td>\n",
       "      <td>Missouri</td>\n",
       "      <td>0.900000</td>\n",
       "      <td>0.800000</td>\n",
       "    </tr>\n",
       "  </tbody>\n",
       "</table>\n",
       "<p>699 rows × 5 columns</p>\n",
       "</div>"
      ],
      "text/plain": [
       "     tweet_id                                              tweet  location  \\\n",
       "0           1  RT JoeBiden Folks I just received the second d...  Michigan   \n",
       "1           2  RT charlesgaba Holy shit They’re holding vacci...      Ohio   \n",
       "2           9  RT HighImpactFlix Doctor on CNN Don’t be ‘alar...  Michigan   \n",
       "3          32                                          I want it  Michigan   \n",
       "4          38  RT BoSnerdley Los Angeles students required to...  Illinois   \n",
       "..        ...                                                ...       ...   \n",
       "694      4556  For awhile I wasnt sure if I would get the COV...  Illinois   \n",
       "695      4565  Wait They are throwing away spare doses and pe...    Kansas   \n",
       "696      4571  RT brandonjsmith5 I expect well hear this late...   Indiana   \n",
       "697      4573  Rodsplace Building antibodies is so 20th centu...  Missouri   \n",
       "698      4576  Welcome news regarding the COVID19 vaccine fro...  Missouri   \n",
       "\n",
       "     Subjectivity  Polarity  \n",
       "0        0.333333  0.270833  \n",
       "1        0.800000 -0.200000  \n",
       "2        0.000000  0.000000  \n",
       "3        0.000000  0.000000  \n",
       "4        0.400000  0.400000  \n",
       "..            ...       ...  \n",
       "694      0.888889  0.500000  \n",
       "695      0.500000  0.500000  \n",
       "696      0.038462  0.000000  \n",
       "697      0.000000  0.000000  \n",
       "698      0.900000  0.800000  \n",
       "\n",
       "[699 rows x 5 columns]"
      ]
     },
     "execution_count": 23,
     "metadata": {},
     "output_type": "execute_result"
    }
   ],
   "source": [
    "midwest"
   ]
  },
  {
   "cell_type": "code",
   "execution_count": 24,
   "metadata": {
    "execution": {
     "iopub.execute_input": "2021-01-15T21:42:50.299126Z",
     "iopub.status.busy": "2021-01-15T21:42:50.297452Z",
     "iopub.status.idle": "2021-01-15T21:42:50.302386Z",
     "shell.execute_reply": "2021-01-15T21:42:50.303249Z"
    },
    "papermill": {
     "duration": 0.037736,
     "end_time": "2021-01-15T21:42:50.303430",
     "exception": false,
     "start_time": "2021-01-15T21:42:50.265694",
     "status": "completed"
    },
    "tags": []
   },
   "outputs": [
    {
     "data": {
      "text/html": [
       "<div>\n",
       "<style scoped>\n",
       "    .dataframe tbody tr th:only-of-type {\n",
       "        vertical-align: middle;\n",
       "    }\n",
       "\n",
       "    .dataframe tbody tr th {\n",
       "        vertical-align: top;\n",
       "    }\n",
       "\n",
       "    .dataframe thead th {\n",
       "        text-align: right;\n",
       "    }\n",
       "</style>\n",
       "<table border=\"1\" class=\"dataframe\">\n",
       "  <thead>\n",
       "    <tr style=\"text-align: right;\">\n",
       "      <th></th>\n",
       "      <th>tweet_id</th>\n",
       "      <th>tweet</th>\n",
       "      <th>location</th>\n",
       "      <th>Subjectivity</th>\n",
       "      <th>Polarity</th>\n",
       "    </tr>\n",
       "  </thead>\n",
       "  <tbody>\n",
       "    <tr>\n",
       "      <th>0</th>\n",
       "      <td>14</td>\n",
       "      <td>RT FowlerSarah Clearing up some Mississippi Co...</td>\n",
       "      <td>Mississippi</td>\n",
       "      <td>0.000000</td>\n",
       "      <td>0.000000</td>\n",
       "    </tr>\n",
       "    <tr>\n",
       "      <th>1</th>\n",
       "      <td>15</td>\n",
       "      <td>RT RepAdamSchiff This plan is a no brainer\\n\\n...</td>\n",
       "      <td>Florida</td>\n",
       "      <td>0.454545</td>\n",
       "      <td>0.136364</td>\n",
       "    </tr>\n",
       "    <tr>\n",
       "      <th>2</th>\n",
       "      <td>16</td>\n",
       "      <td>RT samstein NEW Amid the deadliest turn of the...</td>\n",
       "      <td>Texas</td>\n",
       "      <td>0.227273</td>\n",
       "      <td>0.068182</td>\n",
       "    </tr>\n",
       "    <tr>\n",
       "      <th>3</th>\n",
       "      <td>18</td>\n",
       "      <td>RT harrisonjaime Folks in SC please make sure ...</td>\n",
       "      <td>Texas</td>\n",
       "      <td>0.662963</td>\n",
       "      <td>0.466667</td>\n",
       "    </tr>\n",
       "    <tr>\n",
       "      <th>4</th>\n",
       "      <td>19</td>\n",
       "      <td>RT JoeBiden Folks I just received the second d...</td>\n",
       "      <td>Texas</td>\n",
       "      <td>0.333333</td>\n",
       "      <td>0.270833</td>\n",
       "    </tr>\n",
       "    <tr>\n",
       "      <th>...</th>\n",
       "      <td>...</td>\n",
       "      <td>...</td>\n",
       "      <td>...</td>\n",
       "      <td>...</td>\n",
       "      <td>...</td>\n",
       "    </tr>\n",
       "    <tr>\n",
       "      <th>1469</th>\n",
       "      <td>4574</td>\n",
       "      <td>RT SunSentinel COVID19 vaccine could soon be o...</td>\n",
       "      <td>Florida</td>\n",
       "      <td>0.000000</td>\n",
       "      <td>0.000000</td>\n",
       "    </tr>\n",
       "    <tr>\n",
       "      <th>1470</th>\n",
       "      <td>4575</td>\n",
       "      <td>RT HealthyOklahoma ALERT Please remain cautiou...</td>\n",
       "      <td>Oklahoma</td>\n",
       "      <td>0.233333</td>\n",
       "      <td>0.066667</td>\n",
       "    </tr>\n",
       "    <tr>\n",
       "      <th>1471</th>\n",
       "      <td>4579</td>\n",
       "      <td>RT NationHahn I loved hearing about NCHealthNe...</td>\n",
       "      <td>North Carolina</td>\n",
       "      <td>0.800000</td>\n",
       "      <td>0.700000</td>\n",
       "    </tr>\n",
       "    <tr>\n",
       "      <th>1472</th>\n",
       "      <td>4580</td>\n",
       "      <td>Can Flu Vaccine Increase COVID Risk • Children...</td>\n",
       "      <td>Texas</td>\n",
       "      <td>0.000000</td>\n",
       "      <td>0.000000</td>\n",
       "    </tr>\n",
       "    <tr>\n",
       "      <th>1473</th>\n",
       "      <td>4581</td>\n",
       "      <td>RT yattypat Mexican doctor hospitalized after ...</td>\n",
       "      <td>Texas</td>\n",
       "      <td>0.000000</td>\n",
       "      <td>0.000000</td>\n",
       "    </tr>\n",
       "  </tbody>\n",
       "</table>\n",
       "<p>1474 rows × 5 columns</p>\n",
       "</div>"
      ],
      "text/plain": [
       "      tweet_id                                              tweet  \\\n",
       "0           14  RT FowlerSarah Clearing up some Mississippi Co...   \n",
       "1           15  RT RepAdamSchiff This plan is a no brainer\\n\\n...   \n",
       "2           16  RT samstein NEW Amid the deadliest turn of the...   \n",
       "3           18  RT harrisonjaime Folks in SC please make sure ...   \n",
       "4           19  RT JoeBiden Folks I just received the second d...   \n",
       "...        ...                                                ...   \n",
       "1469      4574  RT SunSentinel COVID19 vaccine could soon be o...   \n",
       "1470      4575  RT HealthyOklahoma ALERT Please remain cautiou...   \n",
       "1471      4579  RT NationHahn I loved hearing about NCHealthNe...   \n",
       "1472      4580  Can Flu Vaccine Increase COVID Risk • Children...   \n",
       "1473      4581  RT yattypat Mexican doctor hospitalized after ...   \n",
       "\n",
       "            location  Subjectivity  Polarity  \n",
       "0        Mississippi      0.000000  0.000000  \n",
       "1            Florida      0.454545  0.136364  \n",
       "2              Texas      0.227273  0.068182  \n",
       "3              Texas      0.662963  0.466667  \n",
       "4              Texas      0.333333  0.270833  \n",
       "...              ...           ...       ...  \n",
       "1469         Florida      0.000000  0.000000  \n",
       "1470        Oklahoma      0.233333  0.066667  \n",
       "1471  North Carolina      0.800000  0.700000  \n",
       "1472           Texas      0.000000  0.000000  \n",
       "1473           Texas      0.000000  0.000000  \n",
       "\n",
       "[1474 rows x 5 columns]"
      ]
     },
     "execution_count": 24,
     "metadata": {},
     "output_type": "execute_result"
    }
   ],
   "source": [
    "south"
   ]
  },
  {
   "cell_type": "code",
   "execution_count": 25,
   "metadata": {
    "execution": {
     "iopub.execute_input": "2021-01-15T21:42:50.361875Z",
     "iopub.status.busy": "2021-01-15T21:42:50.360717Z",
     "iopub.status.idle": "2021-01-15T21:42:50.365524Z",
     "shell.execute_reply": "2021-01-15T21:42:50.364663Z"
    },
    "papermill": {
     "duration": 0.041362,
     "end_time": "2021-01-15T21:42:50.365686",
     "exception": false,
     "start_time": "2021-01-15T21:42:50.324324",
     "status": "completed"
    },
    "tags": []
   },
   "outputs": [
    {
     "data": {
      "text/html": [
       "<div>\n",
       "<style scoped>\n",
       "    .dataframe tbody tr th:only-of-type {\n",
       "        vertical-align: middle;\n",
       "    }\n",
       "\n",
       "    .dataframe tbody tr th {\n",
       "        vertical-align: top;\n",
       "    }\n",
       "\n",
       "    .dataframe thead th {\n",
       "        text-align: right;\n",
       "    }\n",
       "</style>\n",
       "<table border=\"1\" class=\"dataframe\">\n",
       "  <thead>\n",
       "    <tr style=\"text-align: right;\">\n",
       "      <th></th>\n",
       "      <th>tweet_id</th>\n",
       "      <th>tweet</th>\n",
       "      <th>location</th>\n",
       "      <th>Subjectivity</th>\n",
       "      <th>Polarity</th>\n",
       "    </tr>\n",
       "  </thead>\n",
       "  <tbody>\n",
       "    <tr>\n",
       "      <th>0</th>\n",
       "      <td>3</td>\n",
       "      <td>I will be Mr President Need to know when the h...</td>\n",
       "      <td>Massachusetts</td>\n",
       "      <td>0.540000</td>\n",
       "      <td>0.160000</td>\n",
       "    </tr>\n",
       "    <tr>\n",
       "      <th>1</th>\n",
       "      <td>4</td>\n",
       "      <td>RT rmslim Friends all of whom are physicians w...</td>\n",
       "      <td>New York</td>\n",
       "      <td>0.000000</td>\n",
       "      <td>0.000000</td>\n",
       "    </tr>\n",
       "    <tr>\n",
       "      <th>2</th>\n",
       "      <td>5</td>\n",
       "      <td>RT KyleLacio McMaster is skipping the grocery ...</td>\n",
       "      <td>New Jersey</td>\n",
       "      <td>0.000000</td>\n",
       "      <td>0.000000</td>\n",
       "    </tr>\n",
       "    <tr>\n",
       "      <th>3</th>\n",
       "      <td>7</td>\n",
       "      <td>RT PowerDNSBert After dissecting the BioNTechG...</td>\n",
       "      <td>Massachusetts</td>\n",
       "      <td>0.000000</td>\n",
       "      <td>0.000000</td>\n",
       "    </tr>\n",
       "    <tr>\n",
       "      <th>4</th>\n",
       "      <td>8</td>\n",
       "      <td>eugenegu Why did they take years and why did t...</td>\n",
       "      <td>New York</td>\n",
       "      <td>0.950000</td>\n",
       "      <td>0.300000</td>\n",
       "    </tr>\n",
       "    <tr>\n",
       "      <th>...</th>\n",
       "      <td>...</td>\n",
       "      <td>...</td>\n",
       "      <td>...</td>\n",
       "      <td>...</td>\n",
       "      <td>...</td>\n",
       "    </tr>\n",
       "    <tr>\n",
       "      <th>1281</th>\n",
       "      <td>4567</td>\n",
       "      <td>So why did we NY throw vaccines away CNN FoxNe...</td>\n",
       "      <td>New York</td>\n",
       "      <td>0.000000</td>\n",
       "      <td>0.000000</td>\n",
       "    </tr>\n",
       "    <tr>\n",
       "      <th>1282</th>\n",
       "      <td>4569</td>\n",
       "      <td>RT rickberke NEW reporting from HelenBranswell...</td>\n",
       "      <td>New York</td>\n",
       "      <td>0.454545</td>\n",
       "      <td>0.136364</td>\n",
       "    </tr>\n",
       "    <tr>\n",
       "      <th>1283</th>\n",
       "      <td>4572</td>\n",
       "      <td>RT HeatherHPierce A5 Recent polls show that 71...</td>\n",
       "      <td>New York</td>\n",
       "      <td>0.500000</td>\n",
       "      <td>0.125000</td>\n",
       "    </tr>\n",
       "    <tr>\n",
       "      <th>1284</th>\n",
       "      <td>4577</td>\n",
       "      <td>We good</td>\n",
       "      <td>New Jersey</td>\n",
       "      <td>0.600000</td>\n",
       "      <td>0.700000</td>\n",
       "    </tr>\n",
       "    <tr>\n",
       "      <th>1285</th>\n",
       "      <td>4578</td>\n",
       "      <td>MEPublicHealth newscentermaine Retired nurses ...</td>\n",
       "      <td>Maine</td>\n",
       "      <td>0.916667</td>\n",
       "      <td>0.216667</td>\n",
       "    </tr>\n",
       "  </tbody>\n",
       "</table>\n",
       "<p>1286 rows × 5 columns</p>\n",
       "</div>"
      ],
      "text/plain": [
       "      tweet_id                                              tweet  \\\n",
       "0            3  I will be Mr President Need to know when the h...   \n",
       "1            4  RT rmslim Friends all of whom are physicians w...   \n",
       "2            5  RT KyleLacio McMaster is skipping the grocery ...   \n",
       "3            7  RT PowerDNSBert After dissecting the BioNTechG...   \n",
       "4            8  eugenegu Why did they take years and why did t...   \n",
       "...        ...                                                ...   \n",
       "1281      4567  So why did we NY throw vaccines away CNN FoxNe...   \n",
       "1282      4569  RT rickberke NEW reporting from HelenBranswell...   \n",
       "1283      4572  RT HeatherHPierce A5 Recent polls show that 71...   \n",
       "1284      4577                                            We good   \n",
       "1285      4578  MEPublicHealth newscentermaine Retired nurses ...   \n",
       "\n",
       "           location  Subjectivity  Polarity  \n",
       "0     Massachusetts      0.540000  0.160000  \n",
       "1          New York      0.000000  0.000000  \n",
       "2        New Jersey      0.000000  0.000000  \n",
       "3     Massachusetts      0.000000  0.000000  \n",
       "4          New York      0.950000  0.300000  \n",
       "...             ...           ...       ...  \n",
       "1281       New York      0.000000  0.000000  \n",
       "1282       New York      0.454545  0.136364  \n",
       "1283       New York      0.500000  0.125000  \n",
       "1284     New Jersey      0.600000  0.700000  \n",
       "1285          Maine      0.916667  0.216667  \n",
       "\n",
       "[1286 rows x 5 columns]"
      ]
     },
     "execution_count": 25,
     "metadata": {},
     "output_type": "execute_result"
    }
   ],
   "source": [
    "east"
   ]
  },
  {
   "cell_type": "code",
   "execution_count": 26,
   "metadata": {
    "execution": {
     "iopub.execute_input": "2021-01-15T21:42:50.416996Z",
     "iopub.status.busy": "2021-01-15T21:42:50.415562Z",
     "iopub.status.idle": "2021-01-15T21:42:50.418197Z",
     "shell.execute_reply": "2021-01-15T21:42:50.419002Z"
    },
    "papermill": {
     "duration": 0.033285,
     "end_time": "2021-01-15T21:42:50.419255",
     "exception": false,
     "start_time": "2021-01-15T21:42:50.385970",
     "status": "completed"
    },
    "tags": []
   },
   "outputs": [],
   "source": [
    "# Create a function to compute the negative, neutral and positive analysis\n",
    "def getAnalysis(score):\n",
    "    if score < 0:\n",
    "        return 'Negative'\n",
    "    elif score == 0:\n",
    "        return \"Neutral\"\n",
    "    else:\n",
    "        return 'Positive'\n",
    "\n",
    "west['West Analysis'] = west['Polarity'].apply(getAnalysis)\n",
    "midwest['MidWest'] = midwest['Polarity'].apply(getAnalysis)\n",
    "south['South Analysis'] = south['Polarity'].apply(getAnalysis)\n",
    "east['East Analysis'] = east['Polarity'].apply(getAnalysis)"
   ]
  },
  {
   "cell_type": "code",
   "execution_count": 27,
   "metadata": {
    "execution": {
     "iopub.execute_input": "2021-01-15T21:42:50.476578Z",
     "iopub.status.busy": "2021-01-15T21:42:50.475019Z",
     "iopub.status.idle": "2021-01-15T21:42:50.480284Z",
     "shell.execute_reply": "2021-01-15T21:42:50.479431Z"
    },
    "papermill": {
     "duration": 0.040372,
     "end_time": "2021-01-15T21:42:50.480442",
     "exception": false,
     "start_time": "2021-01-15T21:42:50.440070",
     "status": "completed"
    },
    "tags": []
   },
   "outputs": [
    {
     "data": {
      "text/html": [
       "<div>\n",
       "<style scoped>\n",
       "    .dataframe tbody tr th:only-of-type {\n",
       "        vertical-align: middle;\n",
       "    }\n",
       "\n",
       "    .dataframe tbody tr th {\n",
       "        vertical-align: top;\n",
       "    }\n",
       "\n",
       "    .dataframe thead th {\n",
       "        text-align: right;\n",
       "    }\n",
       "</style>\n",
       "<table border=\"1\" class=\"dataframe\">\n",
       "  <thead>\n",
       "    <tr style=\"text-align: right;\">\n",
       "      <th></th>\n",
       "      <th>tweet_id</th>\n",
       "      <th>tweet</th>\n",
       "      <th>location</th>\n",
       "      <th>Subjectivity</th>\n",
       "      <th>Polarity</th>\n",
       "      <th>West Analysis</th>\n",
       "    </tr>\n",
       "  </thead>\n",
       "  <tbody>\n",
       "    <tr>\n",
       "      <th>0</th>\n",
       "      <td>6</td>\n",
       "      <td>RT DavidCaltabiano I spoke to countless senior...</td>\n",
       "      <td>Arizona</td>\n",
       "      <td>0.5</td>\n",
       "      <td>0.250000</td>\n",
       "      <td>Positive</td>\n",
       "    </tr>\n",
       "    <tr>\n",
       "      <th>1</th>\n",
       "      <td>20</td>\n",
       "      <td>RT charlesgaba Holy shit They’re holding vacci...</td>\n",
       "      <td>Colorado</td>\n",
       "      <td>0.8</td>\n",
       "      <td>-0.200000</td>\n",
       "      <td>Negative</td>\n",
       "    </tr>\n",
       "    <tr>\n",
       "      <th>2</th>\n",
       "      <td>25</td>\n",
       "      <td>nypost Wear a mask but write a message on it l...</td>\n",
       "      <td>California</td>\n",
       "      <td>0.5</td>\n",
       "      <td>0.136364</td>\n",
       "      <td>Positive</td>\n",
       "    </tr>\n",
       "    <tr>\n",
       "      <th>3</th>\n",
       "      <td>26</td>\n",
       "      <td>RT AynRandPaulRyan Translation The Michigan st...</td>\n",
       "      <td>Colorado</td>\n",
       "      <td>0.0</td>\n",
       "      <td>0.000000</td>\n",
       "      <td>Neutral</td>\n",
       "    </tr>\n",
       "    <tr>\n",
       "      <th>4</th>\n",
       "      <td>29</td>\n",
       "      <td>RT realJeff45 This is why were supposed to que...</td>\n",
       "      <td>California</td>\n",
       "      <td>0.0</td>\n",
       "      <td>0.000000</td>\n",
       "      <td>Neutral</td>\n",
       "    </tr>\n",
       "  </tbody>\n",
       "</table>\n",
       "</div>"
      ],
      "text/plain": [
       "   tweet_id                                              tweet    location  \\\n",
       "0         6  RT DavidCaltabiano I spoke to countless senior...     Arizona   \n",
       "1        20  RT charlesgaba Holy shit They’re holding vacci...    Colorado   \n",
       "2        25  nypost Wear a mask but write a message on it l...  California   \n",
       "3        26  RT AynRandPaulRyan Translation The Michigan st...    Colorado   \n",
       "4        29  RT realJeff45 This is why were supposed to que...  California   \n",
       "\n",
       "   Subjectivity  Polarity West Analysis  \n",
       "0           0.5  0.250000      Positive  \n",
       "1           0.8 -0.200000      Negative  \n",
       "2           0.5  0.136364      Positive  \n",
       "3           0.0  0.000000       Neutral  \n",
       "4           0.0  0.000000       Neutral  "
      ]
     },
     "execution_count": 27,
     "metadata": {},
     "output_type": "execute_result"
    }
   ],
   "source": [
    "west.head()"
   ]
  },
  {
   "cell_type": "code",
   "execution_count": 28,
   "metadata": {
    "execution": {
     "iopub.execute_input": "2021-01-15T21:42:50.534164Z",
     "iopub.status.busy": "2021-01-15T21:42:50.532834Z",
     "iopub.status.idle": "2021-01-15T21:42:50.624015Z",
     "shell.execute_reply": "2021-01-15T21:42:50.625071Z"
    },
    "papermill": {
     "duration": 0.123549,
     "end_time": "2021-01-15T21:42:50.625264",
     "exception": false,
     "start_time": "2021-01-15T21:42:50.501715",
     "status": "completed"
    },
    "tags": []
   },
   "outputs": [
    {
     "data": {
      "text/plain": [
       "<matplotlib.axes._subplots.AxesSubplot at 0x7f9830387ac0>"
      ]
     },
     "execution_count": 28,
     "metadata": {},
     "output_type": "execute_result"
    },
    {
     "data": {
      "image/png": "[encoded data removed]",
      "text/plain": [
       "<Figure size 504x504 with 1 Axes>"
      ]
     },
     "metadata": {},
     "output_type": "display_data"
    }
   ],
   "source": [
    "west['West Analysis'].value_counts().plot(kind='pie', autopct='%1.1f%%', figsize=(7,7), colors=['blue', 'green', 'orange'])"
   ]
  },
  {
   "cell_type": "code",
   "execution_count": 29,
   "metadata": {
    "execution": {
     "iopub.execute_input": "2021-01-15T21:42:50.681073Z",
     "iopub.status.busy": "2021-01-15T21:42:50.679806Z",
     "iopub.status.idle": "2021-01-15T21:42:50.726107Z",
     "shell.execute_reply": "2021-01-15T21:42:50.727000Z"
    },
    "papermill": {
     "duration": 0.080023,
     "end_time": "2021-01-15T21:42:50.727186",
     "exception": false,
     "start_time": "2021-01-15T21:42:50.647163",
     "status": "completed"
    },
    "tags": []
   },
   "outputs": [
    {
     "data": {
      "text/plain": [
       "<matplotlib.axes._subplots.AxesSubplot at 0x7f98304d6640>"
      ]
     },
     "execution_count": 29,
     "metadata": {},
     "output_type": "execute_result"
    },
    {
     "data": {
      "image/png": "[encoded data removed]",
      "text/plain": [
       "<Figure size 504x504 with 1 Axes>"
      ]
     },
     "metadata": {},
     "output_type": "display_data"
    }
   ],
   "source": [
    "midwest['MidWest'].value_counts().plot(kind='pie', autopct='%1.1f%%', figsize=(7,7), colors=['green', 'orange', 'blue'])"
   ]
  },
  {
   "cell_type": "code",
   "execution_count": 30,
   "metadata": {
    "execution": {
     "iopub.execute_input": "2021-01-15T21:42:50.789563Z",
     "iopub.status.busy": "2021-01-15T21:42:50.788185Z",
     "iopub.status.idle": "2021-01-15T21:42:50.831331Z",
     "shell.execute_reply": "2021-01-15T21:42:50.830492Z"
    },
    "papermill": {
     "duration": 0.079992,
     "end_time": "2021-01-15T21:42:50.831543",
     "exception": false,
     "start_time": "2021-01-15T21:42:50.751551",
     "status": "completed"
    },
    "tags": []
   },
   "outputs": [
    {
     "data": {
      "text/plain": [
       "<matplotlib.axes._subplots.AxesSubplot at 0x7f9830910490>"
      ]
     },
     "execution_count": 30,
     "metadata": {},
     "output_type": "execute_result"
    },
    {
     "data": {
      "image/png": "[encoded data removed]",
      "text/plain": [
       "<Figure size 504x504 with 1 Axes>"
      ]
     },
     "metadata": {},
     "output_type": "display_data"
    }
   ],
   "source": [
    "south['South Analysis'].value_counts().plot(kind='pie', autopct='%1.1f%%', figsize=(7,7), colors=['green', 'blue', 'orange'])"
   ]
  },
  {
   "cell_type": "code",
   "execution_count": 31,
   "metadata": {
    "execution": {
     "iopub.execute_input": "2021-01-15T21:42:50.894316Z",
     "iopub.status.busy": "2021-01-15T21:42:50.892925Z",
     "iopub.status.idle": "2021-01-15T21:42:50.935637Z",
     "shell.execute_reply": "2021-01-15T21:42:50.936655Z"
    },
    "papermill": {
     "duration": 0.081004,
     "end_time": "2021-01-15T21:42:50.936855",
     "exception": false,
     "start_time": "2021-01-15T21:42:50.855851",
     "status": "completed"
    },
    "tags": []
   },
   "outputs": [
    {
     "data": {
      "text/plain": [
       "<matplotlib.axes._subplots.AxesSubplot at 0x7f9830aa11f0>"
      ]
     },
     "execution_count": 31,
     "metadata": {},
     "output_type": "execute_result"
    },
    {
     "data": {
      "image/png": "[encoded data removed]",
      "text/plain": [
       "<Figure size 504x504 with 1 Axes>"
      ]
     },
     "metadata": {},
     "output_type": "display_data"
    }
   ],
   "source": [
    "east['East Analysis'].value_counts().plot(kind='pie', autopct='%1.1f%%', figsize=(7,7), colors=['green', 'blue', 'orange'])"
   ]
  },
  {
   "cell_type": "code",
   "execution_count": 32,
   "metadata": {
    "execution": {
     "iopub.execute_input": "2021-01-15T21:42:50.991447Z",
     "iopub.status.busy": "2021-01-15T21:42:50.990126Z",
     "iopub.status.idle": "2021-01-15T21:42:51.000218Z",
     "shell.execute_reply": "2021-01-15T21:42:51.001433Z"
    },
    "papermill": {
     "duration": 0.039697,
     "end_time": "2021-01-15T21:42:51.001741",
     "exception": false,
     "start_time": "2021-01-15T21:42:50.962044",
     "status": "completed"
    },
    "tags": []
   },
   "outputs": [
    {
     "data": {
      "text/html": [
       "<div>\n",
       "<style scoped>\n",
       "    .dataframe tbody tr th:only-of-type {\n",
       "        vertical-align: middle;\n",
       "    }\n",
       "\n",
       "    .dataframe tbody tr th {\n",
       "        vertical-align: top;\n",
       "    }\n",
       "\n",
       "    .dataframe thead th {\n",
       "        text-align: right;\n",
       "    }\n",
       "</style>\n",
       "<table border=\"1\" class=\"dataframe\">\n",
       "  <thead>\n",
       "    <tr style=\"text-align: right;\">\n",
       "      <th></th>\n",
       "      <th>West Analysis</th>\n",
       "      <th>MidWest Analysis</th>\n",
       "      <th>South Analysis</th>\n",
       "      <th>East Analysis</th>\n",
       "    </tr>\n",
       "  </thead>\n",
       "  <tbody>\n",
       "    <tr>\n",
       "      <th>0</th>\n",
       "      <td>Positive</td>\n",
       "      <td>Positive</td>\n",
       "      <td>Neutral</td>\n",
       "      <td>Positive</td>\n",
       "    </tr>\n",
       "    <tr>\n",
       "      <th>1</th>\n",
       "      <td>Negative</td>\n",
       "      <td>Negative</td>\n",
       "      <td>Positive</td>\n",
       "      <td>Neutral</td>\n",
       "    </tr>\n",
       "    <tr>\n",
       "      <th>2</th>\n",
       "      <td>Positive</td>\n",
       "      <td>Neutral</td>\n",
       "      <td>Positive</td>\n",
       "      <td>Neutral</td>\n",
       "    </tr>\n",
       "    <tr>\n",
       "      <th>3</th>\n",
       "      <td>Neutral</td>\n",
       "      <td>Neutral</td>\n",
       "      <td>Positive</td>\n",
       "      <td>Neutral</td>\n",
       "    </tr>\n",
       "    <tr>\n",
       "      <th>4</th>\n",
       "      <td>Neutral</td>\n",
       "      <td>Positive</td>\n",
       "      <td>Positive</td>\n",
       "      <td>Positive</td>\n",
       "    </tr>\n",
       "  </tbody>\n",
       "</table>\n",
       "</div>"
      ],
      "text/plain": [
       "  West Analysis MidWest Analysis South Analysis East Analysis\n",
       "0      Positive         Positive        Neutral      Positive\n",
       "1      Negative         Negative       Positive       Neutral\n",
       "2      Positive          Neutral       Positive       Neutral\n",
       "3       Neutral          Neutral       Positive       Neutral\n",
       "4       Neutral         Positive       Positive      Positive"
      ]
     },
     "execution_count": 32,
     "metadata": {},
     "output_type": "execute_result"
    }
   ],
   "source": [
    "df = pd.DataFrame({'West Analysis':west['West Analysis'], 'MidWest Analysis': midwest['MidWest'], 'South Analysis': south['South Analysis'], 'East Analysis': east['East Analysis']})\n",
    "df.head()\n"
   ]
  },
  {
   "cell_type": "code",
   "execution_count": 33,
   "metadata": {
    "execution": {
     "iopub.execute_input": "2021-01-15T21:42:51.060127Z",
     "iopub.status.busy": "2021-01-15T21:42:51.058615Z",
     "iopub.status.idle": "2021-01-15T21:42:51.063746Z",
     "shell.execute_reply": "2021-01-15T21:42:51.062767Z"
    },
    "papermill": {
     "duration": 0.037347,
     "end_time": "2021-01-15T21:42:51.063984",
     "exception": false,
     "start_time": "2021-01-15T21:42:51.026637",
     "status": "completed"
    },
    "tags": []
   },
   "outputs": [
    {
     "data": {
      "text/html": [
       "<div>\n",
       "<style scoped>\n",
       "    .dataframe tbody tr th:only-of-type {\n",
       "        vertical-align: middle;\n",
       "    }\n",
       "\n",
       "    .dataframe tbody tr th {\n",
       "        vertical-align: top;\n",
       "    }\n",
       "\n",
       "    .dataframe thead th {\n",
       "        text-align: right;\n",
       "    }\n",
       "</style>\n",
       "<table border=\"1\" class=\"dataframe\">\n",
       "  <thead>\n",
       "    <tr style=\"text-align: right;\">\n",
       "      <th></th>\n",
       "      <th>West Analysis</th>\n",
       "      <th>MidWest Analysis</th>\n",
       "      <th>South Analysis</th>\n",
       "      <th>East Analysis</th>\n",
       "    </tr>\n",
       "  </thead>\n",
       "  <tbody>\n",
       "    <tr>\n",
       "      <th>1469</th>\n",
       "      <td>NaN</td>\n",
       "      <td>NaN</td>\n",
       "      <td>Neutral</td>\n",
       "      <td>NaN</td>\n",
       "    </tr>\n",
       "    <tr>\n",
       "      <th>1470</th>\n",
       "      <td>NaN</td>\n",
       "      <td>NaN</td>\n",
       "      <td>Positive</td>\n",
       "      <td>NaN</td>\n",
       "    </tr>\n",
       "    <tr>\n",
       "      <th>1471</th>\n",
       "      <td>NaN</td>\n",
       "      <td>NaN</td>\n",
       "      <td>Positive</td>\n",
       "      <td>NaN</td>\n",
       "    </tr>\n",
       "    <tr>\n",
       "      <th>1472</th>\n",
       "      <td>NaN</td>\n",
       "      <td>NaN</td>\n",
       "      <td>Neutral</td>\n",
       "      <td>NaN</td>\n",
       "    </tr>\n",
       "    <tr>\n",
       "      <th>1473</th>\n",
       "      <td>NaN</td>\n",
       "      <td>NaN</td>\n",
       "      <td>Neutral</td>\n",
       "      <td>NaN</td>\n",
       "    </tr>\n",
       "  </tbody>\n",
       "</table>\n",
       "</div>"
      ],
      "text/plain": [
       "     West Analysis MidWest Analysis South Analysis East Analysis\n",
       "1469           NaN              NaN        Neutral           NaN\n",
       "1470           NaN              NaN       Positive           NaN\n",
       "1471           NaN              NaN       Positive           NaN\n",
       "1472           NaN              NaN        Neutral           NaN\n",
       "1473           NaN              NaN        Neutral           NaN"
      ]
     },
     "execution_count": 33,
     "metadata": {},
     "output_type": "execute_result"
    }
   ],
   "source": [
    "df.tail()"
   ]
  },
  {
   "cell_type": "code",
   "execution_count": 34,
   "metadata": {
    "execution": {
     "iopub.execute_input": "2021-01-15T21:42:51.118381Z",
     "iopub.status.busy": "2021-01-15T21:42:51.117280Z",
     "iopub.status.idle": "2021-01-15T21:42:51.126856Z",
     "shell.execute_reply": "2021-01-15T21:42:51.127762Z"
    },
    "papermill": {
     "duration": 0.039001,
     "end_time": "2021-01-15T21:42:51.127956",
     "exception": false,
     "start_time": "2021-01-15T21:42:51.088955",
     "status": "completed"
    },
    "tags": []
   },
   "outputs": [],
   "source": [
    "df2 = df.apply(pd.value_counts)"
   ]
  },
  {
   "cell_type": "code",
   "execution_count": 35,
   "metadata": {
    "execution": {
     "iopub.execute_input": "2021-01-15T21:42:51.192923Z",
     "iopub.status.busy": "2021-01-15T21:42:51.191722Z",
     "iopub.status.idle": "2021-01-15T21:42:51.197193Z",
     "shell.execute_reply": "2021-01-15T21:42:51.195781Z"
    },
    "papermill": {
     "duration": 0.03796,
     "end_time": "2021-01-15T21:42:51.197485",
     "exception": false,
     "start_time": "2021-01-15T21:42:51.159525",
     "status": "completed"
    },
    "tags": []
   },
   "outputs": [
    {
     "data": {
      "text/html": [
       "<div>\n",
       "<style scoped>\n",
       "    .dataframe tbody tr th:only-of-type {\n",
       "        vertical-align: middle;\n",
       "    }\n",
       "\n",
       "    .dataframe tbody tr th {\n",
       "        vertical-align: top;\n",
       "    }\n",
       "\n",
       "    .dataframe thead th {\n",
       "        text-align: right;\n",
       "    }\n",
       "</style>\n",
       "<table border=\"1\" class=\"dataframe\">\n",
       "  <thead>\n",
       "    <tr style=\"text-align: right;\">\n",
       "      <th></th>\n",
       "      <th>West Analysis</th>\n",
       "      <th>MidWest Analysis</th>\n",
       "      <th>South Analysis</th>\n",
       "      <th>East Analysis</th>\n",
       "    </tr>\n",
       "  </thead>\n",
       "  <tbody>\n",
       "    <tr>\n",
       "      <th>Positive</th>\n",
       "      <td>387</td>\n",
       "      <td>317</td>\n",
       "      <td>654</td>\n",
       "      <td>614</td>\n",
       "    </tr>\n",
       "    <tr>\n",
       "      <th>Neutral</th>\n",
       "      <td>360</td>\n",
       "      <td>254</td>\n",
       "      <td>586</td>\n",
       "      <td>444</td>\n",
       "    </tr>\n",
       "    <tr>\n",
       "      <th>Negative</th>\n",
       "      <td>129</td>\n",
       "      <td>128</td>\n",
       "      <td>234</td>\n",
       "      <td>228</td>\n",
       "    </tr>\n",
       "  </tbody>\n",
       "</table>\n",
       "</div>"
      ],
      "text/plain": [
       "          West Analysis  MidWest Analysis  South Analysis  East Analysis\n",
       "Positive            387               317             654            614\n",
       "Neutral             360               254             586            444\n",
       "Negative            129               128             234            228"
      ]
     },
     "execution_count": 35,
     "metadata": {},
     "output_type": "execute_result"
    }
   ],
   "source": [
    "df2"
   ]
  },
  {
   "cell_type": "code",
   "execution_count": 36,
   "metadata": {
    "execution": {
     "iopub.execute_input": "2021-01-15T21:42:51.277996Z",
     "iopub.status.busy": "2021-01-15T21:42:51.276745Z",
     "iopub.status.idle": "2021-01-15T21:42:51.279144Z",
     "shell.execute_reply": "2021-01-15T21:42:51.279943Z"
    },
    "papermill": {
     "duration": 0.041241,
     "end_time": "2021-01-15T21:42:51.280122",
     "exception": false,
     "start_time": "2021-01-15T21:42:51.238881",
     "status": "completed"
    },
    "tags": []
   },
   "outputs": [],
   "source": [
    "# df2 = df2.rename(columns={'index':'Analysis'})"
   ]
  },
  {
   "cell_type": "code",
   "execution_count": 37,
   "metadata": {
    "execution": {
     "iopub.execute_input": "2021-01-15T21:42:51.340050Z",
     "iopub.status.busy": "2021-01-15T21:42:51.338737Z",
     "iopub.status.idle": "2021-01-15T21:42:51.341325Z",
     "shell.execute_reply": "2021-01-15T21:42:51.342139Z"
    },
    "papermill": {
     "duration": 0.035321,
     "end_time": "2021-01-15T21:42:51.342347",
     "exception": false,
     "start_time": "2021-01-15T21:42:51.307026",
     "status": "completed"
    },
    "tags": []
   },
   "outputs": [],
   "source": [
    "# df2"
   ]
  },
  {
   "cell_type": "code",
   "execution_count": 38,
   "metadata": {
    "execution": {
     "iopub.execute_input": "2021-01-15T21:42:51.405638Z",
     "iopub.status.busy": "2021-01-15T21:42:51.404363Z",
     "iopub.status.idle": "2021-01-15T21:42:51.534734Z",
     "shell.execute_reply": "2021-01-15T21:42:51.535703Z"
    },
    "papermill": {
     "duration": 0.167262,
     "end_time": "2021-01-15T21:42:51.535978",
     "exception": false,
     "start_time": "2021-01-15T21:42:51.368716",
     "status": "completed"
    },
    "tags": []
   },
   "outputs": [
    {
     "data": {
      "text/plain": [
       "<matplotlib.axes._subplots.AxesSubplot at 0x7f9830b91a90>"
      ]
     },
     "execution_count": 38,
     "metadata": {},
     "output_type": "execute_result"
    },
    {
     "data": {
      "image/png": "[encoded data removed]",
      "text/plain": [
       "<Figure size 432x288 with 1 Axes>"
      ]
     },
     "metadata": {
      "needs_background": "light"
     },
     "output_type": "display_data"
    }
   ],
   "source": [
    "df2.plot(y=['West Analysis', 'MidWest Analysis', 'South Analysis', 'East Analysis'], kind='bar')"
   ]
  },
  {
   "cell_type": "code",
   "execution_count": 39,
   "metadata": {
    "execution": {
     "iopub.execute_input": "2021-01-15T21:42:51.600733Z",
     "iopub.status.busy": "2021-01-15T21:42:51.599208Z",
     "iopub.status.idle": "2021-01-15T21:42:51.604485Z",
     "shell.execute_reply": "2021-01-15T21:42:51.603487Z"
    },
    "papermill": {
     "duration": 0.039638,
     "end_time": "2021-01-15T21:42:51.604650",
     "exception": false,
     "start_time": "2021-01-15T21:42:51.565012",
     "status": "completed"
    },
    "tags": []
   },
   "outputs": [
    {
     "data": {
      "text/html": [
       "<div>\n",
       "<style scoped>\n",
       "    .dataframe tbody tr th:only-of-type {\n",
       "        vertical-align: middle;\n",
       "    }\n",
       "\n",
       "    .dataframe tbody tr th {\n",
       "        vertical-align: top;\n",
       "    }\n",
       "\n",
       "    .dataframe thead th {\n",
       "        text-align: right;\n",
       "    }\n",
       "</style>\n",
       "<table border=\"1\" class=\"dataframe\">\n",
       "  <thead>\n",
       "    <tr style=\"text-align: right;\">\n",
       "      <th></th>\n",
       "      <th>Positive</th>\n",
       "      <th>Neutral</th>\n",
       "      <th>Negative</th>\n",
       "    </tr>\n",
       "  </thead>\n",
       "  <tbody>\n",
       "    <tr>\n",
       "      <th>West Analysis</th>\n",
       "      <td>387</td>\n",
       "      <td>360</td>\n",
       "      <td>129</td>\n",
       "    </tr>\n",
       "    <tr>\n",
       "      <th>MidWest Analysis</th>\n",
       "      <td>317</td>\n",
       "      <td>254</td>\n",
       "      <td>128</td>\n",
       "    </tr>\n",
       "    <tr>\n",
       "      <th>South Analysis</th>\n",
       "      <td>654</td>\n",
       "      <td>586</td>\n",
       "      <td>234</td>\n",
       "    </tr>\n",
       "    <tr>\n",
       "      <th>East Analysis</th>\n",
       "      <td>614</td>\n",
       "      <td>444</td>\n",
       "      <td>228</td>\n",
       "    </tr>\n",
       "  </tbody>\n",
       "</table>\n",
       "</div>"
      ],
      "text/plain": [
       "                  Positive  Neutral  Negative\n",
       "West Analysis          387      360       129\n",
       "MidWest Analysis       317      254       128\n",
       "South Analysis         654      586       234\n",
       "East Analysis          614      444       228"
      ]
     },
     "execution_count": 39,
     "metadata": {},
     "output_type": "execute_result"
    }
   ],
   "source": [
    "df3 = df2.T\n",
    "df3"
   ]
  },
  {
   "cell_type": "code",
   "execution_count": null,
   "metadata": {
    "papermill": {
     "duration": 0.026509,
     "end_time": "2021-01-15T21:42:51.658493",
     "exception": false,
     "start_time": "2021-01-15T21:42:51.631984",
     "status": "completed"
    },
    "tags": []
   },
   "outputs": [],
   "source": []
  },
  {
   "cell_type": "code",
   "execution_count": 40,
   "metadata": {
    "execution": {
     "iopub.execute_input": "2021-01-15T21:42:51.723280Z",
     "iopub.status.busy": "2021-01-15T21:42:51.722175Z",
     "iopub.status.idle": "2021-01-15T21:42:51.726761Z",
     "shell.execute_reply": "2021-01-15T21:42:51.725905Z"
    },
    "papermill": {
     "duration": 0.041879,
     "end_time": "2021-01-15T21:42:51.726928",
     "exception": false,
     "start_time": "2021-01-15T21:42:51.685049",
     "status": "completed"
    },
    "tags": []
   },
   "outputs": [
    {
     "data": {
      "text/html": [
       "<div>\n",
       "<style scoped>\n",
       "    .dataframe tbody tr th:only-of-type {\n",
       "        vertical-align: middle;\n",
       "    }\n",
       "\n",
       "    .dataframe tbody tr th {\n",
       "        vertical-align: top;\n",
       "    }\n",
       "\n",
       "    .dataframe thead th {\n",
       "        text-align: right;\n",
       "    }\n",
       "</style>\n",
       "<table border=\"1\" class=\"dataframe\">\n",
       "  <thead>\n",
       "    <tr style=\"text-align: right;\">\n",
       "      <th></th>\n",
       "      <th>USA REGIONS</th>\n",
       "      <th>Positive</th>\n",
       "      <th>Neutral</th>\n",
       "      <th>Negative</th>\n",
       "    </tr>\n",
       "  </thead>\n",
       "  <tbody>\n",
       "    <tr>\n",
       "      <th>0</th>\n",
       "      <td>West Analysis</td>\n",
       "      <td>387</td>\n",
       "      <td>360</td>\n",
       "      <td>129</td>\n",
       "    </tr>\n",
       "    <tr>\n",
       "      <th>1</th>\n",
       "      <td>MidWest Analysis</td>\n",
       "      <td>317</td>\n",
       "      <td>254</td>\n",
       "      <td>128</td>\n",
       "    </tr>\n",
       "    <tr>\n",
       "      <th>2</th>\n",
       "      <td>South Analysis</td>\n",
       "      <td>654</td>\n",
       "      <td>586</td>\n",
       "      <td>234</td>\n",
       "    </tr>\n",
       "    <tr>\n",
       "      <th>3</th>\n",
       "      <td>East Analysis</td>\n",
       "      <td>614</td>\n",
       "      <td>444</td>\n",
       "      <td>228</td>\n",
       "    </tr>\n",
       "  </tbody>\n",
       "</table>\n",
       "</div>"
      ],
      "text/plain": [
       "        USA REGIONS  Positive  Neutral  Negative\n",
       "0     West Analysis       387      360       129\n",
       "1  MidWest Analysis       317      254       128\n",
       "2    South Analysis       654      586       234\n",
       "3     East Analysis       614      444       228"
      ]
     },
     "execution_count": 40,
     "metadata": {},
     "output_type": "execute_result"
    }
   ],
   "source": [
    "df4 = df3.reset_index()\n",
    "df4 = df4.rename(columns={'index':'USA REGIONS'})\n",
    "df4"
   ]
  },
  {
   "cell_type": "code",
   "execution_count": 41,
   "metadata": {
    "execution": {
     "iopub.execute_input": "2021-01-15T21:42:51.800496Z",
     "iopub.status.busy": "2021-01-15T21:42:51.798779Z",
     "iopub.status.idle": "2021-01-15T21:42:51.937481Z",
     "shell.execute_reply": "2021-01-15T21:42:51.936572Z"
    },
    "papermill": {
     "duration": 0.183009,
     "end_time": "2021-01-15T21:42:51.937713",
     "exception": false,
     "start_time": "2021-01-15T21:42:51.754704",
     "status": "completed"
    },
    "tags": []
   },
   "outputs": [
    {
     "data": {
      "text/plain": [
       "<matplotlib.axes._subplots.AxesSubplot at 0x7f9830be7e50>"
      ]
     },
     "execution_count": 41,
     "metadata": {},
     "output_type": "execute_result"
    },
    {
     "data": {
      "image/png": "[encoded data removed]",
      "text/plain": [
       "<Figure size 504x504 with 1 Axes>"
      ]
     },
     "metadata": {
      "needs_background": "light"
     },
     "output_type": "display_data"
    }
   ],
   "source": [
    "df4.plot(x='USA REGIONS', y=['Negative', 'Neutral', 'Positive'], \n",
    "                       kind='bar', stacked=True, \n",
    "                       title='Sentiment Analysis for USA by Region', figsize=(7,7))"
   ]
  },
  {
   "cell_type": "code",
   "execution_count": 42,
   "metadata": {
    "execution": {
     "iopub.execute_input": "2021-01-15T21:42:52.007201Z",
     "iopub.status.busy": "2021-01-15T21:42:52.005914Z",
     "iopub.status.idle": "2021-01-15T21:42:52.163600Z",
     "shell.execute_reply": "2021-01-15T21:42:52.164537Z"
    },
    "papermill": {
     "duration": 0.197988,
     "end_time": "2021-01-15T21:42:52.164792",
     "exception": false,
     "start_time": "2021-01-15T21:42:51.966804",
     "status": "completed"
    },
    "scrolled": true,
    "tags": []
   },
   "outputs": [
    {
     "data": {
      "image/png": "[encoded data removed]",
      "text/plain": [
       "<Figure size 720x504 with 1 Axes>"
      ]
     },
     "metadata": {
      "needs_background": "light"
     },
     "output_type": "display_data"
    }
   ],
   "source": [
    "#Get values from the group and categories\n",
    "x_axis = df4['USA REGIONS']\n",
    "Negative = df4['Negative']\n",
    "Neutral = df4['Neutral']\n",
    "Positive = df4['Positive']\n",
    "total = Negative + Neutral + Positive\n",
    "# print(total)\n",
    "\n",
    "proportion_Negative = np.true_divide(Negative, total) * 100\n",
    "proportion_Neutral = np.true_divide(Neutral, total) * 100\n",
    "proportion_Positive = np.true_divide(Positive, total) * 100\n",
    "  \n",
    "#add colors\n",
    "colors = ['#FF9999', '#00BFFF','#C1FFC1']\n",
    "\n",
    "# The position of the bars on the x-axis\n",
    "r = range(len(x_axis))\n",
    "\n",
    "barWidth = 1\n",
    "\n",
    "#plot bars\n",
    "plt.figure(figsize=(10, 7))\n",
    "ax1 = plt.bar(r, proportion_Negative, bottom=proportion_Neutral+proportion_Positive, color=colors[0], edgecolor='white', width=barWidth, label=\"Negative\")\n",
    "ax2 = plt.bar(r, proportion_Neutral, bottom=proportion_Positive, color=colors[1], edgecolor='white', width=barWidth, label='Neutral')\n",
    "ax3 = plt.bar(r, proportion_Positive, color=colors[2], edgecolor='white', width=barWidth, label='Positive')\n",
    "plt.legend()\n",
    "plt.xticks(r, x_axis, fontweight='bold')\n",
    "plt.ylabel(\"Analysis\")\n",
    "\n",
    "plt.show()"
   ]
  },
  {
   "cell_type": "code",
   "execution_count": null,
   "metadata": {
    "papermill": {
     "duration": 0.040341,
     "end_time": "2021-01-15T21:42:52.236701",
     "exception": false,
     "start_time": "2021-01-15T21:42:52.196360",
     "status": "completed"
    },
    "tags": []
   },
   "outputs": [],
   "source": []
  },
  {
   "cell_type": "code",
   "execution_count": null,
   "metadata": {
    "papermill": {
     "duration": 0.033579,
     "end_time": "2021-01-15T21:42:52.303306",
     "exception": false,
     "start_time": "2021-01-15T21:42:52.269727",
     "status": "completed"
    },
    "tags": []
   },
   "outputs": [],
   "source": []
  },
  {
   "cell_type": "code",
   "execution_count": null,
   "metadata": {
    "papermill": {
     "duration": 0.037496,
     "end_time": "2021-01-15T21:42:52.372664",
     "exception": false,
     "start_time": "2021-01-15T21:42:52.335168",
     "status": "completed"
    },
    "tags": []
   },
   "outputs": [],
   "source": []
  }
 ],
 "metadata": {
  "kernelspec": {
   "display_name": "Python 3",
   "language": "python",
   "name": "python3"
  },
  "language_info": {
   "codemirror_mode": {
    "name": "ipython",
    "version": 3
   },
   "file_extension": ".py",
   "mimetype": "text/x-python",
   "name": "python",
   "nbconvert_exporter": "python",
   "pygments_lexer": "ipython3",
   "version": "3.8.3"
  },
  "papermill": {
   "default_parameters": {},
   "duration": 11.132525,
   "end_time": "2021-01-15T21:42:53.787117",
   "environment_variables": {},
   "exception": null,
   "input_path": "/Users/suma/ZCW-FinalProject/Sentiment_Analysis/Sentiment_Analysis_visualization.ipynb",
   "output_path": "/Users/suma/ZCW-FinalProject/Output_Files/Output_Sentiment_Analysis_visualization.ipynb",
   "parameters": {
    "QUICK_RUN": true,
    "TEST": true
   },
   "start_time": "2021-01-15T21:42:42.654592",
   "version": "2.2.2"
  }
 },
 "nbformat": 4,
 "nbformat_minor": 4
}