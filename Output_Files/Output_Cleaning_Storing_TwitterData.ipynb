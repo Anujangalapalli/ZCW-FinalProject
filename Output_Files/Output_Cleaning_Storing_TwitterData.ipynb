{
 "cells": [
  {
   "cell_type": "code",
   "execution_count": 1,
   "metadata": {
    "execution": {
     "iopub.execute_input": "2021-01-15T21:33:15.675152Z",
     "iopub.status.busy": "2021-01-15T21:33:15.673135Z",
     "iopub.status.idle": "2021-01-15T21:33:15.676463Z",
     "shell.execute_reply": "2021-01-15T21:33:15.677295Z"
    },
    "papermill": {
     "duration": 0.022658,
     "end_time": "2021-01-15T21:33:15.677627",
     "exception": false,
     "start_time": "2021-01-15T21:33:15.654969",
     "status": "completed"
    },
    "tags": [
     "injected-parameters"
    ]
   },
   "outputs": [],
   "source": [
    "# Parameters\n",
    "TEST = True\n",
    "QUICK_RUN = True\n"
   ]
  },
  {
   "cell_type": "code",
   "execution_count": 2,
   "metadata": {
    "execution": {
     "iopub.execute_input": "2021-01-15T21:33:15.705892Z",
     "iopub.status.busy": "2021-01-15T21:33:15.704439Z",
     "iopub.status.idle": "2021-01-15T21:33:16.599742Z",
     "shell.execute_reply": "2021-01-15T21:33:16.600757Z"
    },
    "papermill": {
     "duration": 0.911692,
     "end_time": "2021-01-15T21:33:16.600961",
     "exception": false,
     "start_time": "2021-01-15T21:33:15.689269",
     "status": "completed"
    },
    "tags": []
   },
   "outputs": [],
   "source": [
    "import numpy\n",
    "import pandas as pd\n",
    "import os\n",
    "import sys"
   ]
  },
  {
   "cell_type": "code",
   "execution_count": 3,
   "metadata": {
    "execution": {
     "iopub.execute_input": "2021-01-15T21:33:16.627528Z",
     "iopub.status.busy": "2021-01-15T21:33:16.626058Z",
     "iopub.status.idle": "2021-01-15T21:33:16.628664Z",
     "shell.execute_reply": "2021-01-15T21:33:16.629582Z"
    },
    "papermill": {
     "duration": 0.016602,
     "end_time": "2021-01-15T21:33:16.629819",
     "exception": false,
     "start_time": "2021-01-15T21:33:16.613217",
     "status": "completed"
    },
    "tags": []
   },
   "outputs": [],
   "source": [
    "sys.path.insert(0,\"/usr/local/lib/python3.9/site-packages\")"
   ]
  },
  {
   "cell_type": "code",
   "execution_count": 4,
   "metadata": {
    "execution": {
     "iopub.execute_input": "2021-01-15T21:33:16.652269Z",
     "iopub.status.busy": "2021-01-15T21:33:16.651067Z",
     "iopub.status.idle": "2021-01-15T21:33:16.784156Z",
     "shell.execute_reply": "2021-01-15T21:33:16.785166Z"
    },
    "papermill": {
     "duration": 0.146501,
     "end_time": "2021-01-15T21:33:16.785368",
     "exception": false,
     "start_time": "2021-01-15T21:33:16.638867",
     "status": "completed"
    },
    "tags": []
   },
   "outputs": [],
   "source": [
    "import pyspark\n",
    "from pyspark.context import SparkContext\n",
    "from pyspark.sql.session import SparkSession\n",
    "import pymysql"
   ]
  },
  {
   "cell_type": "code",
   "execution_count": 5,
   "metadata": {
    "execution": {
     "iopub.execute_input": "2021-01-15T21:33:16.811880Z",
     "iopub.status.busy": "2021-01-15T21:33:16.810424Z",
     "iopub.status.idle": "2021-01-15T21:33:17.689370Z",
     "shell.execute_reply": "2021-01-15T21:33:17.690329Z"
    },
    "papermill": {
     "duration": 0.894997,
     "end_time": "2021-01-15T21:33:17.690575",
     "exception": false,
     "start_time": "2021-01-15T21:33:16.795578",
     "status": "completed"
    },
    "tags": []
   },
   "outputs": [],
   "source": [
    "host_name = os.environ.get('host_name')\n",
    "user = \"group2\"\n",
    "passwd = os.environ.get('aws_password')\n",
    "db=\"group2db\"\n",
    "# connect to MySQL\n",
    "con = pymysql.connect(host=host_name,user=user,passwd=passwd,db=db)\n",
    "cursor = con.cursor()\n",
    "SQL_Query = pd.read_sql_query(\n",
    "'''select * from tweets_with_location ''', con)"
   ]
  },
  {
   "cell_type": "code",
   "execution_count": 6,
   "metadata": {
    "execution": {
     "iopub.execute_input": "2021-01-15T21:33:17.721857Z",
     "iopub.status.busy": "2021-01-15T21:33:17.719433Z",
     "iopub.status.idle": "2021-01-15T21:33:17.723584Z",
     "shell.execute_reply": "2021-01-15T21:33:17.724877Z"
    },
    "papermill": {
     "duration": 0.021981,
     "end_time": "2021-01-15T21:33:17.725159",
     "exception": false,
     "start_time": "2021-01-15T21:33:17.703178",
     "status": "completed"
    },
    "tags": []
   },
   "outputs": [],
   "source": [
    "df = pd.DataFrame(SQL_Query)"
   ]
  },
  {
   "cell_type": "code",
   "execution_count": 7,
   "metadata": {
    "execution": {
     "iopub.execute_input": "2021-01-15T21:33:17.753076Z",
     "iopub.status.busy": "2021-01-15T21:33:17.751416Z",
     "iopub.status.idle": "2021-01-15T21:33:39.602470Z",
     "shell.execute_reply": "2021-01-15T21:33:39.603706Z"
    },
    "papermill": {
     "duration": 21.866838,
     "end_time": "2021-01-15T21:33:39.604041",
     "exception": false,
     "start_time": "2021-01-15T21:33:17.737203",
     "status": "completed"
    },
    "tags": []
   },
   "outputs": [],
   "source": [
    "spark = SparkSession \\\n",
    "    .builder \\\n",
    "    .appName(\"data_import\") \\\n",
    "    .config(\"spark.dynamicAllocation.enabled\", \"true\") \\\n",
    "    .config(\"spark.shuffle.service.enabled\", \"true\") \\\n",
    "    .enableHiveSupport() \\\n",
    "    .getOrCreate()"
   ]
  },
  {
   "cell_type": "code",
   "execution_count": 8,
   "metadata": {
    "execution": {
     "iopub.execute_input": "2021-01-15T21:33:39.632770Z",
     "iopub.status.busy": "2021-01-15T21:33:39.630127Z",
     "iopub.status.idle": "2021-01-15T21:33:42.482720Z",
     "shell.execute_reply": "2021-01-15T21:33:42.483665Z"
    },
    "papermill": {
     "duration": 2.868516,
     "end_time": "2021-01-15T21:33:42.483926",
     "exception": false,
     "start_time": "2021-01-15T21:33:39.615410",
     "status": "completed"
    },
    "tags": []
   },
   "outputs": [],
   "source": [
    "df_sp = spark.createDataFrame(df)"
   ]
  },
  {
   "cell_type": "code",
   "execution_count": 9,
   "metadata": {
    "execution": {
     "iopub.execute_input": "2021-01-15T21:33:42.514188Z",
     "iopub.status.busy": "2021-01-15T21:33:42.512068Z",
     "iopub.status.idle": "2021-01-15T21:33:45.832636Z",
     "shell.execute_reply": "2021-01-15T21:33:45.833606Z"
    },
    "papermill": {
     "duration": 3.339741,
     "end_time": "2021-01-15T21:33:45.833906",
     "exception": false,
     "start_time": "2021-01-15T21:33:42.494165",
     "status": "completed"
    },
    "tags": []
   },
   "outputs": [
    {
     "name": "stdout",
     "output_type": "stream",
     "text": [
      "+--------+---------------+-------------------+--------------------+-------------+-----------+-----+\n",
      "|tweet_id|       username|         created_at|               tweet|retweet_count|   location|place|\n",
      "+--------+---------------+-------------------+--------------------+-------------+-----------+-----+\n",
      "|       1|    Not_Silvers|2021-01-11 21:32:20|RT @tamrieldude: ...|            0|       Ohio| null|\n",
      "|       2|  EverydayEagle|2021-01-11 21:33:03|RT @GrassRootRevo...|            0|      Texas| null|\n",
      "|       3|        LaRene1|2021-01-11 21:33:22|@akgraham7 @Klapt...|            0|    Florida| null|\n",
      "|       4|       Crankzie|2021-01-11 21:33:48|@ZitoFN_ LMAO THI...|            0| California| null|\n",
      "|       5|       senschuh|2021-01-11 21:34:06|RT @jbryan522: Ma...|            0|Mississippi| null|\n",
      "|       6|RachelleBlidner|2021-01-11 21:34:23|500 people showed...|            0|   New York| null|\n",
      "|       7|       puffypcb|2021-01-11 21:34:29|@GovRonDeSantis H...|            0|    Florida| null|\n",
      "|       8|     StrackeKey|2021-01-11 21:34:49|RT @DrEricDing: H...|            0|   Maryland| null|\n",
      "|       9|       manielse|2021-01-11 21:35:00|Florida counties ...|            0|Connecticut| null|\n",
      "|      10|       dajosc11|2021-01-11 21:35:59|RT @CNN: Joe Bide...|            0|   Michigan| null|\n",
      "|      11|          MLive|2021-01-11 21:36:08|Schools optimisti...|            0|   Michigan| null|\n",
      "|      12|   LauraMarklin|2021-01-11 21:37:32|Old, Tired and Ou...|            0| New Jersey| null|\n",
      "|      13|    ksummerwine|2021-01-11 21:37:41|RT @LadyGretaBail...|            0|    Florida| null|\n",
      "|      14|  FloridaVoter7|2021-01-11 21:37:42|Hillsborough Coun...|            0|    Florida| null|\n",
      "|      15|     raluca3000|2021-01-11 21:38:23|RT @BioNTech_Grou...|            0|   New York| null|\n",
      "|      16|    ksummerwine|2021-01-11 21:38:23|RT @GinaRClark: @...|            0|    Florida| null|\n",
      "|      17|      Elischico|2021-01-11 21:38:54|RT @PortageCoHeal...|            0|       Ohio| null|\n",
      "|      18|  katherinebsph|2021-01-11 21:40:58|RT @Sawbones: Eve...|            0| New Jersey| null|\n",
      "|      19|     digdoug429|2021-01-11 21:41:03|LMAO this place w...|            0| California| null|\n",
      "|      20|   PoliticalBee|2021-01-11 21:41:19|RT @nycHealthy: E...|            0|    Florida| null|\n",
      "+--------+---------------+-------------------+--------------------+-------------+-----------+-----+\n",
      "only showing top 20 rows\n",
      "\n"
     ]
    }
   ],
   "source": [
    "df_sp.show()"
   ]
  },
  {
   "cell_type": "code",
   "execution_count": 10,
   "metadata": {
    "execution": {
     "iopub.execute_input": "2021-01-15T21:33:45.869941Z",
     "iopub.status.busy": "2021-01-15T21:33:45.862704Z",
     "iopub.status.idle": "2021-01-15T21:33:46.654158Z",
     "shell.execute_reply": "2021-01-15T21:33:46.655819Z"
    },
    "papermill": {
     "duration": 0.810106,
     "end_time": "2021-01-15T21:33:46.656226",
     "exception": false,
     "start_time": "2021-01-15T21:33:45.846120",
     "status": "completed"
    },
    "tags": []
   },
   "outputs": [
    {
     "data": {
      "text/plain": [
       "4582"
      ]
     },
     "execution_count": 10,
     "metadata": {},
     "output_type": "execute_result"
    }
   ],
   "source": [
    "df_sp.count()\n"
   ]
  },
  {
   "cell_type": "code",
   "execution_count": 11,
   "metadata": {
    "execution": {
     "iopub.execute_input": "2021-01-15T21:33:46.701801Z",
     "iopub.status.busy": "2021-01-15T21:33:46.698545Z",
     "iopub.status.idle": "2021-01-15T21:33:46.783862Z",
     "shell.execute_reply": "2021-01-15T21:33:46.785835Z"
    },
    "papermill": {
     "duration": 0.110129,
     "end_time": "2021-01-15T21:33:46.786154",
     "exception": false,
     "start_time": "2021-01-15T21:33:46.676025",
     "status": "completed"
    },
    "tags": []
   },
   "outputs": [],
   "source": [
    "tweet_df2 = df_sp.select('tweet_id','tweet','location').distinct()"
   ]
  },
  {
   "cell_type": "code",
   "execution_count": 12,
   "metadata": {
    "execution": {
     "iopub.execute_input": "2021-01-15T21:33:46.844180Z",
     "iopub.status.busy": "2021-01-15T21:33:46.842106Z",
     "iopub.status.idle": "2021-01-15T21:33:47.871182Z",
     "shell.execute_reply": "2021-01-15T21:33:47.872607Z"
    },
    "papermill": {
     "duration": 1.064757,
     "end_time": "2021-01-15T21:33:47.872911",
     "exception": false,
     "start_time": "2021-01-15T21:33:46.808154",
     "status": "completed"
    },
    "tags": []
   },
   "outputs": [
    {
     "name": "stdout",
     "output_type": "stream",
     "text": [
      "+--------+--------------------+-------------+\n",
      "|tweet_id|               tweet|     location|\n",
      "+--------+--------------------+-------------+\n",
      "|     317|RT @JoeBiden: Fol...|     Michigan|\n",
      "|     400|RT @charles_gaba:...|         Ohio|\n",
      "|     546|I will be, Mr. Pr...|Massachusetts|\n",
      "|     638|RT @rmslim: Frien...|     New York|\n",
      "|     948|RT @KyleLacio: Mc...|   New Jersey|\n",
      "|    1000|RT @DavidCaltabia...|      Arizona|\n",
      "|    1308|RT @PowerDNS_Bert...|Massachusetts|\n",
      "|    2133|@eugenegu Why did...|     New York|\n",
      "|    2375|RT @HighImpactFli...|     Michigan|\n",
      "|    2742|RT @NABTU: When w...|     New York|\n",
      "|    4122|Johnson &amp; Joh...|     New York|\n",
      "|    4245|@RealDoctorMike I...|   New Jersey|\n",
      "|    5052|RT @malaykaridwan...|  Puerto Rico|\n",
      "|    5061|RT @FowlerSarah: ...|  Mississippi|\n",
      "|    5152|RT @RepAdamSchiff...|      Florida|\n",
      "|    5193|RT @samstein: NEW...|        Texas|\n",
      "|      15|RT @BioNTech_Grou...|     New York|\n",
      "|     124|RT @harrisonjaime...|        Texas|\n",
      "|     263|RT @JoeBiden: Fol...|        Texas|\n",
      "|     426|RT @charles_gaba:...|     Colorado|\n",
      "+--------+--------------------+-------------+\n",
      "only showing top 20 rows\n",
      "\n"
     ]
    }
   ],
   "source": [
    "tweet_df2.show()"
   ]
  },
  {
   "cell_type": "code",
   "execution_count": 13,
   "metadata": {
    "execution": {
     "iopub.execute_input": "2021-01-15T21:33:47.903534Z",
     "iopub.status.busy": "2021-01-15T21:33:47.899829Z",
     "iopub.status.idle": "2021-01-15T21:33:49.831413Z",
     "shell.execute_reply": "2021-01-15T21:33:49.832809Z"
    },
    "papermill": {
     "duration": 1.945869,
     "end_time": "2021-01-15T21:33:49.833080",
     "exception": false,
     "start_time": "2021-01-15T21:33:47.887211",
     "status": "completed"
    },
    "tags": []
   },
   "outputs": [
    {
     "data": {
      "text/plain": [
       "4582"
      ]
     },
     "execution_count": 13,
     "metadata": {},
     "output_type": "execute_result"
    }
   ],
   "source": [
    "tweet_df2.count()"
   ]
  },
  {
   "cell_type": "code",
   "execution_count": 14,
   "metadata": {
    "execution": {
     "iopub.execute_input": "2021-01-15T21:33:49.885820Z",
     "iopub.status.busy": "2021-01-15T21:33:49.882635Z",
     "iopub.status.idle": "2021-01-15T21:33:49.893842Z",
     "shell.execute_reply": "2021-01-15T21:33:49.895009Z"
    },
    "papermill": {
     "duration": 0.041054,
     "end_time": "2021-01-15T21:33:49.895399",
     "exception": false,
     "start_time": "2021-01-15T21:33:49.854345",
     "status": "completed"
    },
    "tags": []
   },
   "outputs": [],
   "source": [
    "tweet_df4 = tweet_df2.select('tweet','location')"
   ]
  },
  {
   "cell_type": "code",
   "execution_count": 15,
   "metadata": {
    "execution": {
     "iopub.execute_input": "2021-01-15T21:33:49.934779Z",
     "iopub.status.busy": "2021-01-15T21:33:49.932352Z",
     "iopub.status.idle": "2021-01-15T21:33:51.159145Z",
     "shell.execute_reply": "2021-01-15T21:33:51.160536Z"
    },
    "papermill": {
     "duration": 1.25038,
     "end_time": "2021-01-15T21:33:51.160797",
     "exception": false,
     "start_time": "2021-01-15T21:33:49.910417",
     "status": "completed"
    },
    "tags": []
   },
   "outputs": [],
   "source": [
    "pand_df = tweet_df4.toPandas()\n"
   ]
  },
  {
   "cell_type": "code",
   "execution_count": 16,
   "metadata": {
    "execution": {
     "iopub.execute_input": "2021-01-15T21:33:51.206657Z",
     "iopub.status.busy": "2021-01-15T21:33:51.202156Z",
     "iopub.status.idle": "2021-01-15T21:33:51.218312Z",
     "shell.execute_reply": "2021-01-15T21:33:51.219826Z"
    },
    "papermill": {
     "duration": 0.041436,
     "end_time": "2021-01-15T21:33:51.220105",
     "exception": false,
     "start_time": "2021-01-15T21:33:51.178669",
     "status": "completed"
    },
    "tags": []
   },
   "outputs": [
    {
     "data": {
      "text/html": [
       "<div>\n",
       "<style scoped>\n",
       "    .dataframe tbody tr th:only-of-type {\n",
       "        vertical-align: middle;\n",
       "    }\n",
       "\n",
       "    .dataframe tbody tr th {\n",
       "        vertical-align: top;\n",
       "    }\n",
       "\n",
       "    .dataframe thead th {\n",
       "        text-align: right;\n",
       "    }\n",
       "</style>\n",
       "<table border=\"1\" class=\"dataframe\">\n",
       "  <thead>\n",
       "    <tr style=\"text-align: right;\">\n",
       "      <th></th>\n",
       "      <th>tweet</th>\n",
       "      <th>location</th>\n",
       "    </tr>\n",
       "  </thead>\n",
       "  <tbody>\n",
       "    <tr>\n",
       "      <th>0</th>\n",
       "      <td>RT @JoeBiden: Folks, I just received the secon...</td>\n",
       "      <td>Michigan</td>\n",
       "    </tr>\n",
       "    <tr>\n",
       "      <th>1</th>\n",
       "      <td>RT @charles_gaba: Holy shit. They’re holding v...</td>\n",
       "      <td>Ohio</td>\n",
       "    </tr>\n",
       "    <tr>\n",
       "      <th>2</th>\n",
       "      <td>I will be, Mr. President. Need to know when th...</td>\n",
       "      <td>Massachusetts</td>\n",
       "    </tr>\n",
       "    <tr>\n",
       "      <th>3</th>\n",
       "      <td>RT @rmslim: Friends, all of whom are physician...</td>\n",
       "      <td>New York</td>\n",
       "    </tr>\n",
       "    <tr>\n",
       "      <th>4</th>\n",
       "      <td>RT @KyleLacio: McMaster is skipping the grocer...</td>\n",
       "      <td>New Jersey</td>\n",
       "    </tr>\n",
       "    <tr>\n",
       "      <th>...</th>\n",
       "      <td>...</td>\n",
       "      <td>...</td>\n",
       "    </tr>\n",
       "    <tr>\n",
       "      <th>4577</th>\n",
       "      <td>.@MEPublicHealth @newscentermaine Retired nurs...</td>\n",
       "      <td>Maine</td>\n",
       "    </tr>\n",
       "    <tr>\n",
       "      <th>4578</th>\n",
       "      <td>RT @NationHahn: I loved hearing about @NCHealt...</td>\n",
       "      <td>North Carolina</td>\n",
       "    </tr>\n",
       "    <tr>\n",
       "      <th>4579</th>\n",
       "      <td>Can Flu Vaccine Increase COVID Risk? • Childre...</td>\n",
       "      <td>Texas</td>\n",
       "    </tr>\n",
       "    <tr>\n",
       "      <th>4580</th>\n",
       "      <td>RT @yattypat: Mexican doctor hospitalized afte...</td>\n",
       "      <td>Texas</td>\n",
       "    </tr>\n",
       "    <tr>\n",
       "      <th>4581</th>\n",
       "      <td>RT @rachsieg: Details are *out* on Biden's $1....</td>\n",
       "      <td>Colorado</td>\n",
       "    </tr>\n",
       "  </tbody>\n",
       "</table>\n",
       "<p>4582 rows × 2 columns</p>\n",
       "</div>"
      ],
      "text/plain": [
       "                                                  tweet        location\n",
       "0     RT @JoeBiden: Folks, I just received the secon...        Michigan\n",
       "1     RT @charles_gaba: Holy shit. They’re holding v...            Ohio\n",
       "2     I will be, Mr. President. Need to know when th...   Massachusetts\n",
       "3     RT @rmslim: Friends, all of whom are physician...        New York\n",
       "4     RT @KyleLacio: McMaster is skipping the grocer...      New Jersey\n",
       "...                                                 ...             ...\n",
       "4577  .@MEPublicHealth @newscentermaine Retired nurs...           Maine\n",
       "4578  RT @NationHahn: I loved hearing about @NCHealt...  North Carolina\n",
       "4579  Can Flu Vaccine Increase COVID Risk? • Childre...           Texas\n",
       "4580  RT @yattypat: Mexican doctor hospitalized afte...           Texas\n",
       "4581  RT @rachsieg: Details are *out* on Biden's $1....        Colorado\n",
       "\n",
       "[4582 rows x 2 columns]"
      ]
     },
     "execution_count": 16,
     "metadata": {},
     "output_type": "execute_result"
    }
   ],
   "source": [
    "pand_df"
   ]
  },
  {
   "cell_type": "code",
   "execution_count": 17,
   "metadata": {
    "execution": {
     "iopub.execute_input": "2021-01-15T21:33:51.282777Z",
     "iopub.status.busy": "2021-01-15T21:33:51.276565Z",
     "iopub.status.idle": "2021-01-15T21:33:51.542978Z",
     "shell.execute_reply": "2021-01-15T21:33:51.543805Z"
    },
    "papermill": {
     "duration": 0.302987,
     "end_time": "2021-01-15T21:33:51.543991",
     "exception": false,
     "start_time": "2021-01-15T21:33:51.241004",
     "status": "completed"
    },
    "tags": []
   },
   "outputs": [
    {
     "data": {
      "text/plain": [
       "0"
      ]
     },
     "execution_count": 17,
     "metadata": {},
     "output_type": "execute_result"
    }
   ],
   "source": [
    "\n",
    "host_name = os.environ.get('host_name')\n",
    "user = \"group2\"\n",
    "passwd = os.environ.get('aws_password')\n",
    "db=\"group2db\"\n",
    "# connect to MySQL\n",
    "con = pymysql.connect(host=host_name,user=user,passwd=passwd,db=db)\n",
    "cursor = con.cursor()\n",
    "# #### deleting a table in mysql\n",
    "delete_table=\"\"\"DROP TABLE IF EXISTS `tweets_locations`;\"\"\"\n",
    "cursor.execute(delete_table)\n",
    "# #"
   ]
  },
  {
   "cell_type": "code",
   "execution_count": 18,
   "metadata": {
    "execution": {
     "iopub.execute_input": "2021-01-15T21:33:51.577365Z",
     "iopub.status.busy": "2021-01-15T21:33:51.575978Z",
     "iopub.status.idle": "2021-01-15T21:33:51.810334Z",
     "shell.execute_reply": "2021-01-15T21:33:51.811517Z"
    },
    "papermill": {
     "duration": 0.252971,
     "end_time": "2021-01-15T21:33:51.811728",
     "exception": false,
     "start_time": "2021-01-15T21:33:51.558757",
     "status": "completed"
    },
    "tags": []
   },
   "outputs": [
    {
     "data": {
      "text/plain": [
       "0"
      ]
     },
     "execution_count": 18,
     "metadata": {},
     "output_type": "execute_result"
    }
   ],
   "source": [
    "\n",
    "host_name = os.environ.get('host_name')\n",
    "user = \"group2\"\n",
    "passwd = os.environ.get('aws_password')\n",
    "db=\"group2db\"\n",
    "# connect to MySQL\n",
    "con = pymysql.connect(host=host_name,user=user,passwd=passwd,db=db)\n",
    "cursor = con.cursor()\n",
    "# #### creating a table for sending dataframe into mysql\n",
    "create_table=\"\"\"CREATE TABLE tweets_locations(tweet_id INT(11) not null auto_increment primary key,  tweet TEXT,\n",
    "               location VARCHAR(100));\"\"\"\n",
    "cursor.execute(create_table)\n",
    "# #\n",
    "\n"
   ]
  },
  {
   "cell_type": "code",
   "execution_count": 19,
   "metadata": {
    "execution": {
     "iopub.execute_input": "2021-01-15T21:33:51.842334Z",
     "iopub.status.busy": "2021-01-15T21:33:51.841328Z",
     "iopub.status.idle": "2021-01-15T21:40:24.722820Z",
     "shell.execute_reply": "2021-01-15T21:40:24.720258Z"
    },
    "papermill": {
     "duration": 392.899206,
     "end_time": "2021-01-15T21:40:24.723584",
     "exception": false,
     "start_time": "2021-01-15T21:33:51.824378",
     "status": "completed"
    },
    "tags": []
   },
   "outputs": [],
   "source": [
    "cols = \"`,`\".join([str(i) for i in pand_df.columns.tolist()])\n",
    "\n",
    "# Insert DataFrame records one by one.\n",
    "for i,row in pand_df.iterrows():\n",
    "    sql = \"INSERT INTO `tweets_locations` (`\" +cols + \"`) VALUES (\" + \"%s,\"*(len(row)-1) + \"%s)\"\n",
    "    cursor.execute(sql, tuple(row))\n",
    "\n",
    "    # the connection is not autocommitted by default, so we must commit to save our changes\n",
    "    con.commit()"
   ]
  },
  {
   "cell_type": "code",
   "execution_count": null,
   "metadata": {
    "papermill": {
     "duration": 0.012201,
     "end_time": "2021-01-15T21:40:24.757639",
     "exception": false,
     "start_time": "2021-01-15T21:40:24.745438",
     "status": "completed"
    },
    "tags": []
   },
   "outputs": [],
   "source": []
  }
 ],
 "metadata": {
  "kernelspec": {
   "display_name": "Python 3",
   "language": "python",
   "name": "python3"
  },
  "language_info": {
   "codemirror_mode": {
    "name": "ipython",
    "version": 3
   },
   "file_extension": ".py",
   "mimetype": "text/x-python",
   "name": "python",
   "nbconvert_exporter": "python",
   "pygments_lexer": "ipython3",
   "version": "3.8.3"
  },
  "papermill": {
   "default_parameters": {},
   "duration": 431.117655,
   "end_time": "2021-01-15T21:40:25.190247",
   "environment_variables": {},
   "exception": null,
   "input_path": "/Users/suma/ZCW-FinalProject/Gathering_Cleaning_TwitterData/Cleaning_Storing_TwitterData.ipynb",
   "output_path": "/Users/suma/ZCW-FinalProject/Output_Files/Output_Cleaning_Storing_TwitterData.ipynb",
   "parameters": {
    "QUICK_RUN": true,
    "TEST": true
   },
   "start_time": "2021-01-15T21:33:14.072592",
   "version": "2.2.2"
  }
 },
 "nbformat": 4,
 "nbformat_minor": 4
}