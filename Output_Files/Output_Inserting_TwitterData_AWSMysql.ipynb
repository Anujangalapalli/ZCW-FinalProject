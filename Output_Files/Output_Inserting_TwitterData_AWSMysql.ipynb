{
 "cells": [
  {
   "cell_type": "code",
   "execution_count": 1,
   "metadata": {
    "execution": {
     "iopub.execute_input": "2021-01-15T21:20:15.851482Z",
     "iopub.status.busy": "2021-01-15T21:20:15.849985Z",
     "iopub.status.idle": "2021-01-15T21:20:15.853563Z",
     "shell.execute_reply": "2021-01-15T21:20:15.854859Z"
    },
    "papermill": {
     "duration": 0.01827,
     "end_time": "2021-01-15T21:20:15.855485",
     "exception": false,
     "start_time": "2021-01-15T21:20:15.837215",
     "status": "completed"
    },
    "tags": [
     "injected-parameters"
    ]
   },
   "outputs": [],
   "source": [
    "# Parameters\n",
    "TEST = True\n",
    "QUICK_RUN = True\n"
   ]
  },
  {
   "cell_type": "code",
   "execution_count": 2,
   "metadata": {
    "execution": {
     "iopub.execute_input": "2021-01-15T21:20:15.871289Z",
     "iopub.status.busy": "2021-01-15T21:20:15.869980Z",
     "iopub.status.idle": "2021-01-15T21:20:16.726612Z",
     "shell.execute_reply": "2021-01-15T21:20:16.727612Z"
    },
    "papermill": {
     "duration": 0.865276,
     "end_time": "2021-01-15T21:20:16.727866",
     "exception": false,
     "start_time": "2021-01-15T21:20:15.862590",
     "status": "completed"
    },
    "tags": []
   },
   "outputs": [],
   "source": [
    "import pandas as pd\n",
    "import numpy as np\n",
    "import sys"
   ]
  },
  {
   "cell_type": "code",
   "execution_count": 3,
   "metadata": {
    "execution": {
     "iopub.execute_input": "2021-01-15T21:20:16.741038Z",
     "iopub.status.busy": "2021-01-15T21:20:16.739727Z",
     "iopub.status.idle": "2021-01-15T21:20:16.742302Z",
     "shell.execute_reply": "2021-01-15T21:20:16.743533Z"
    },
    "papermill": {
     "duration": 0.010733,
     "end_time": "2021-01-15T21:20:16.743729",
     "exception": false,
     "start_time": "2021-01-15T21:20:16.732996",
     "status": "completed"
    },
    "tags": []
   },
   "outputs": [],
   "source": [
    "sys.path.insert(0,\"/usr/local/lib/python3.9/site-packages\")"
   ]
  },
  {
   "cell_type": "code",
   "execution_count": 4,
   "metadata": {
    "execution": {
     "iopub.execute_input": "2021-01-15T21:20:16.757780Z",
     "iopub.status.busy": "2021-01-15T21:20:16.756411Z",
     "iopub.status.idle": "2021-01-15T21:20:17.378274Z",
     "shell.execute_reply": "2021-01-15T21:20:17.379246Z"
    },
    "papermill": {
     "duration": 0.631335,
     "end_time": "2021-01-15T21:20:17.379500",
     "exception": false,
     "start_time": "2021-01-15T21:20:16.748165",
     "status": "completed"
    },
    "tags": []
   },
   "outputs": [],
   "source": [
    "from sqlalchemy import create_engine\n",
    "from sqlalchemy.ext.declarative import declarative_base\n",
    "from sqlalchemy import Column, Integer, String\n",
    "from sqlalchemy.orm import sessionmaker\n",
    "import tweepy\n",
    "import mysql.connector\n",
    "from mysql.connector import Error\n",
    "import json\n",
    "from dateutil import parser\n",
    "import time\n",
    "import os\n",
    "import subprocess\n",
    "import pymysql\n",
    "import requests\n",
    "from bs4 import BeautifulSoup\n",
    "import pprint"
   ]
  },
  {
   "cell_type": "code",
   "execution_count": 5,
   "metadata": {
    "execution": {
     "iopub.execute_input": "2021-01-15T21:20:17.408758Z",
     "iopub.status.busy": "2021-01-15T21:20:17.407292Z",
     "iopub.status.idle": "2021-01-15T21:20:24.693148Z",
     "shell.execute_reply": "2021-01-15T21:20:24.694288Z"
    },
    "papermill": {
     "duration": 7.310188,
     "end_time": "2021-01-15T21:20:24.694541",
     "exception": false,
     "start_time": "2021-01-15T21:20:17.384353",
     "status": "completed"
    },
    "tags": []
   },
   "outputs": [
    {
     "name": "stdout",
     "output_type": "stream",
     "text": [
      "You are connected to the Twitter API\n"
     ]
    },
    {
     "name": "stdout",
     "output_type": "stream",
     "text": [
      "completed\n"
     ]
    }
   ],
   "source": [
    "#streaming data from twitter and adding that data to AWS mysql\n",
    "\n",
    "consumer_key = os.environ.get('consumer_key')\n",
    "consumer_secret = os.environ.get('consumer_secret')\n",
    "access_token = os.environ.get('access_token')\n",
    "access_token_secret = os.environ.get('access_token_secret')\n",
    "password = \"password\"\n",
    "host_name = os.environ.get('host_name')\n",
    "user = \"group2\"\n",
    "aws_password = os.environ.get('aws_password')\n",
    "db=\"group2db\"\n",
    "states = {\n",
    "    'AK': 'Alaska',\n",
    "    'AL': 'Alabama',\n",
    "    'AR': 'Arkansas',\n",
    "    'AS': 'American Samoa',\n",
    "    'AZ': 'Arizona',\n",
    "    'CA': 'California',\n",
    "    'CO': 'Colorado',\n",
    "    'CT': 'Connecticut',\n",
    "    'DC': 'District of Columbia',\n",
    "    'DE': 'Delaware',\n",
    "    'FL': 'Florida',\n",
    "    'GA': 'Georgia',\n",
    "    'GU': 'Guam',\n",
    "    'HI': 'Hawaii',\n",
    "    'IA': 'Iowa',\n",
    "    'ID': 'Idaho',\n",
    "    'IL': 'Illinois',\n",
    "    'IN': 'Indiana',\n",
    "    'KS': 'Kansas',\n",
    "    'KY': 'Kentucky',\n",
    "    'LA': 'Louisiana',\n",
    "    'MA': 'Massachusetts',\n",
    "    'MD': 'Maryland',\n",
    "    'ME': 'Maine',\n",
    "    'MI': 'Michigan',\n",
    "    'MN': 'Minnesota',\n",
    "    'MO': 'Missouri',\n",
    "    'MP': 'Northern Mariana Islands',\n",
    "    'MS': 'Mississippi',\n",
    "    'MT': 'Montana',\n",
    "    'NA': 'National',\n",
    "    'NC': 'North Carolina',\n",
    "    'ND': 'North Dakota',\n",
    "    'NE': 'Nebraska',\n",
    "    'NH': 'New Hampshire',\n",
    "    'NJ': 'New Jersey',\n",
    "    'NM': 'New Mexico',\n",
    "    'NV': 'Nevada',\n",
    "    'NY': 'New York',\n",
    "    'OH': 'Ohio',\n",
    "    'OK': 'Oklahoma',\n",
    "    'OR': 'Oregon',\n",
    "    'PA': 'Pennsylvania',\n",
    "    'PR': 'Puerto Rico',\n",
    "    'RI': 'Rhode Island',\n",
    "    'SC': 'South Carolina',\n",
    "    'SD': 'South Dakota',\n",
    "    'TN': 'Tennessee',\n",
    "    'TX': 'Texas',\n",
    "    'UT': 'Utah',\n",
    "    'VA': 'Virginia',\n",
    "    'VI': 'Virgin Islands',\n",
    "    'VT': 'Vermont',\n",
    "    'WA': 'Washington',\n",
    "    'WI': 'Wisconsin',\n",
    "    'WV': 'West Virginia',\n",
    "    'WY': 'Wyoming'\n",
    "}\n",
    "\n",
    "def connect(username, created_at, tweet, retweet_count, place, location):\n",
    "\n",
    "    \"\"\"\n",
    "    connect to MySQL database and insert twitter data\n",
    "    \"\"\"\n",
    "    global cursor\n",
    "    try:\n",
    "        con = mysql.connector.connect(host=host_name,\n",
    "                                      database=db, user=user, password=aws_password, charset='utf8')\n",
    "        if con.is_connected():\n",
    "            \"\"\"\n",
    "            Insert twitter data\n",
    "            \"\"\"\n",
    "            cursor = con.cursor()\n",
    "            #######creating table is AWS mysql\n",
    "#             create_table=\"\"\"CREATE TABLE tweets_with_location (tweet_id INT(11) not null auto_increment primary key, username VARCHAR(255), \n",
    "#                created_at VARCHAR(45), tweet TEXT,\n",
    "#                retweet_count INT(11), location VARCHAR(100), place VARCHAR(100));\"\"\"\n",
    "#             cursor.execute(create_table)\n",
    "            # twitter\n",
    "            \n",
    "            if location in states.values()or location in states.keys():\n",
    "                if location in states.keys():\n",
    "                    location = states.get(location)\n",
    "                query = \"INSERT INTO tweets_with_location (username, created_at, tweet, retweet_count,place, location) VALUES (%s, %s, %s, %s, %s, %s)\"\n",
    "                cursor.execute(query, (username, created_at, tweet, retweet_count, place, location))\n",
    "                con.commit()\n",
    "\n",
    "    except Error as e:\n",
    "        print(e)\n",
    "    cursor.close()\n",
    "    con.close()\n",
    "    return\n",
    "# Tweepy class to access Twitter API\n",
    "class Streamlistener(tweepy.StreamListener):\n",
    "    max_tweets = 20\n",
    "    tweet_count = 0\n",
    "    def on_connect(self):\n",
    "        print(\"You are connected to the Twitter API\")\n",
    "    def on_error(self):\n",
    "        if status_code != 200:\n",
    "            print(\"error found\")\n",
    "            # returning false disconnects the stream\n",
    "            return False\n",
    "    \"\"\"\n",
    "    This method reads in tweet data as Json\n",
    "    and extracts the data we want.\n",
    "    \"\"\"\n",
    "    def on_data(self, data):\n",
    "        try:\n",
    "            self.tweet_count+=1\n",
    "            if(self.tweet_count==self.max_tweets):\n",
    "                print(\"completed\")\n",
    "                return(False)\n",
    "            else:\n",
    "                raw_data = json.loads(data)\n",
    "                if 'text' in raw_data :\n",
    "\n",
    "                    username = raw_data['user']['screen_name']\n",
    "                    created_at = parser.parse(raw_data['created_at'])\n",
    "                    tweet = raw_data['text']\n",
    "                    retweet_count = raw_data['retweet_count']\n",
    "                    if raw_data['place'] is not None:\n",
    "                        place = raw_data['place']['country']\n",
    "                    else:\n",
    "                        place = None\n",
    "                        location = raw_data['user']['location']\n",
    "                        # insert data just collected into MySQL database\n",
    "                        connect(username, created_at, tweet, retweet_count, place, location)\n",
    "        #                     print(\"Tweet colleted at: {} \".format(str(created_at)))\n",
    "                            \n",
    "        except Error as e:\n",
    "            print('completed')\n",
    "            print(e)\n",
    "if __name__ == '__main__':\n",
    "    # # #Allow user input\n",
    "   \n",
    "    auth = tweepy.OAuthHandler(consumer_key, consumer_secret)\n",
    "    auth.set_access_token(access_token, access_token_secret)\n",
    "    api = tweepy.API(auth, wait_on_rate_limit=True)\n",
    "    # create instance of Streamlistener\n",
    "    listener = Streamlistener(api=api)\n",
    "    stream = tweepy.Stream(auth, listener=listener)\n",
    "    track = ['covid vaccine', 'covid-19 vaccine', 'Covid-19 vaccine','Covid 19 vaccine']\n",
    "    # choose what we want to filter by\n",
    "    stream.filter(track=track, languages=['en'])"
   ]
  },
  {
   "cell_type": "code",
   "execution_count": null,
   "metadata": {
    "papermill": {
     "duration": 0.005228,
     "end_time": "2021-01-15T21:20:24.706672",
     "exception": false,
     "start_time": "2021-01-15T21:20:24.701444",
     "status": "completed"
    },
    "tags": []
   },
   "outputs": [],
   "source": []
  },
  {
   "cell_type": "code",
   "execution_count": null,
   "metadata": {
    "papermill": {
     "duration": 0.004048,
     "end_time": "2021-01-15T21:20:24.715178",
     "exception": false,
     "start_time": "2021-01-15T21:20:24.711130",
     "status": "completed"
    },
    "tags": []
   },
   "outputs": [],
   "source": []
  }
 ],
 "metadata": {
  "kernelspec": {
   "display_name": "Python 3",
   "language": "python",
   "name": "python3"
  },
  "language_info": {
   "codemirror_mode": {
    "name": "ipython",
    "version": 3
   },
   "file_extension": ".py",
   "mimetype": "text/x-python",
   "name": "python",
   "nbconvert_exporter": "python",
   "pygments_lexer": "ipython3",
   "version": "3.8.3"
  },
  "papermill": {
   "default_parameters": {},
   "duration": 10.654939,
   "end_time": "2021-01-15T21:20:25.041872",
   "environment_variables": {},
   "exception": null,
   "input_path": "/Users/suma/ZCW-FinalProject/Gathering_Cleaning_TwitterData/Inserting_TwitterData_AWSMysql.ipynb",
   "output_path": "/Users/suma/ZCW-FinalProject/Output_Files/Output_Inserting_TwitterData_AWSMysql.ipynb",
   "parameters": {
    "QUICK_RUN": true,
    "TEST": true
   },
   "start_time": "2021-01-15T21:20:14.386933",
   "version": "2.2.2"
  }
 },
 "nbformat": 4,
 "nbformat_minor": 4
}