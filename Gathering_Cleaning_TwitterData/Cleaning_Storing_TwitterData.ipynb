{
 "cells": [
  {
   "cell_type": "code",
   "execution_count": 2,
   "metadata": {
    "execution": {
     "iopub.execute_input": "2021-01-12T19:16:46.516154Z",
     "iopub.status.busy": "2021-01-12T19:16:46.514881Z",
     "iopub.status.idle": "2021-01-12T19:16:47.285280Z",
     "shell.execute_reply": "2021-01-12T19:16:47.286185Z"
    },
    "papermill": {
     "duration": 0.783568,
     "end_time": "2021-01-12T19:16:47.286474",
     "exception": false,
     "start_time": "2021-01-12T19:16:46.502906",
     "status": "completed"
    },
    "tags": []
   },
   "outputs": [],
   "source": [
    "import numpy\n",
    "import pandas as pd\n",
    "import os\n",
    "import sys\n",
    "import pyspark\n",
    "from pyspark.context import SparkContext\n",
    "from pyspark.sql.session import SparkSession\n",
    "import pymysql"
   ]
  },
  {
   "cell_type": "code",
   "execution_count": 5,
   "metadata": {
    "execution": {
     "iopub.execute_input": "2021-01-12T19:16:47.493303Z",
     "iopub.status.busy": "2021-01-12T19:16:47.491780Z",
     "iopub.status.idle": "2021-01-12T19:16:48.043674Z",
     "shell.execute_reply": "2021-01-12T19:16:48.044815Z"
    },
    "papermill": {
     "duration": 0.567227,
     "end_time": "2021-01-12T19:16:48.045026",
     "exception": false,
     "start_time": "2021-01-12T19:16:47.477799",
     "status": "completed"
    },
    "tags": []
   },
   "outputs": [],
   "source": [
    "host_name = os.environ.get('host_name')\n",
    "user = \"group2\"\n",
    "passwd = os.environ.get('aws_password')\n",
    "db=\"group2db\"\n",
    "# connect to MySQL\n",
    "con = pymysql.connect(host=host_name,user=user,passwd=passwd,db=db)\n",
    "cursor = con.cursor()\n",
    "SQL_Query = pd.read_sql_query(\n",
    "'''select * from tweets_with_location ''', con)"
   ]
  },
  {
   "cell_type": "code",
   "execution_count": 6,
   "metadata": {
    "execution": {
     "iopub.execute_input": "2021-01-12T19:16:48.073118Z",
     "iopub.status.busy": "2021-01-12T19:16:48.069808Z",
     "iopub.status.idle": "2021-01-12T19:16:48.075479Z",
     "shell.execute_reply": "2021-01-12T19:16:48.077420Z"
    },
    "papermill": {
     "duration": 0.02202,
     "end_time": "2021-01-12T19:16:48.077796",
     "exception": false,
     "start_time": "2021-01-12T19:16:48.055776",
     "status": "completed"
    },
    "tags": []
   },
   "outputs": [],
   "source": [
    "df = pd.DataFrame(SQL_Query)"
   ]
  },
  {
   "cell_type": "code",
   "execution_count": 7,
   "metadata": {
    "execution": {
     "iopub.execute_input": "2021-01-12T19:16:48.114103Z",
     "iopub.status.busy": "2021-01-12T19:16:48.112432Z",
     "iopub.status.idle": "2021-01-12T19:17:09.295495Z",
     "shell.execute_reply": "2021-01-12T19:17:09.296761Z"
    },
    "papermill": {
     "duration": 21.205602,
     "end_time": "2021-01-12T19:17:09.296956",
     "exception": false,
     "start_time": "2021-01-12T19:16:48.091354",
     "status": "completed"
    },
    "tags": []
   },
   "outputs": [],
   "source": [
    "spark = SparkSession \\\n",
    "    .builder \\\n",
    "    .appName(\"data_import\") \\\n",
    "    .config(\"spark.dynamicAllocation.enabled\", \"true\") \\\n",
    "    .config(\"spark.shuffle.service.enabled\", \"true\") \\\n",
    "    .enableHiveSupport() \\\n",
    "    .getOrCreate()"
   ]
  },
  {
   "cell_type": "code",
   "execution_count": 8,
   "metadata": {
    "execution": {
     "iopub.execute_input": "2021-01-12T19:17:09.345189Z",
     "iopub.status.busy": "2021-01-12T19:17:09.340518Z",
     "iopub.status.idle": "2021-01-12T19:17:11.965158Z",
     "shell.execute_reply": "2021-01-12T19:17:11.966046Z"
    },
    "papermill": {
     "duration": 2.656326,
     "end_time": "2021-01-12T19:17:11.966230",
     "exception": false,
     "start_time": "2021-01-12T19:17:09.309904",
     "status": "completed"
    },
    "tags": []
   },
   "outputs": [],
   "source": [
    "df_sp = spark.createDataFrame(df)"
   ]
  },
  {
   "cell_type": "code",
   "execution_count": 9,
   "metadata": {
    "execution": {
     "iopub.execute_input": "2021-01-12T19:17:11.997160Z",
     "iopub.status.busy": "2021-01-12T19:17:11.995182Z",
     "iopub.status.idle": "2021-01-12T19:17:15.845530Z",
     "shell.execute_reply": "2021-01-12T19:17:15.846973Z"
    },
    "papermill": {
     "duration": 3.865951,
     "end_time": "2021-01-12T19:17:15.847295",
     "exception": false,
     "start_time": "2021-01-12T19:17:11.981344",
     "status": "completed"
    },
    "tags": []
   },
   "outputs": [
    {
     "name": "stdout",
     "output_type": "stream",
     "text": [
      "+--------+---------------+-------------------+--------------------+-------------+-----------+-----+\n",
      "|tweet_id|       username|         created_at|               tweet|retweet_count|   location|place|\n",
      "+--------+---------------+-------------------+--------------------+-------------+-----------+-----+\n",
      "|       1|    Not_Silvers|2021-01-11 21:32:20|RT @tamrieldude: ...|            0|       Ohio| null|\n",
      "|       2|  EverydayEagle|2021-01-11 21:33:03|RT @GrassRootRevo...|            0|      Texas| null|\n",
      "|       3|        LaRene1|2021-01-11 21:33:22|@akgraham7 @Klapt...|            0|    Florida| null|\n",
      "|       4|       Crankzie|2021-01-11 21:33:48|@ZitoFN_ LMAO THI...|            0| California| null|\n",
      "|       5|       senschuh|2021-01-11 21:34:06|RT @jbryan522: Ma...|            0|Mississippi| null|\n",
      "|       6|RachelleBlidner|2021-01-11 21:34:23|500 people showed...|            0|   New York| null|\n",
      "|       7|       puffypcb|2021-01-11 21:34:29|@GovRonDeSantis H...|            0|    Florida| null|\n",
      "|       8|     StrackeKey|2021-01-11 21:34:49|RT @DrEricDing: H...|            0|   Maryland| null|\n",
      "|       9|       manielse|2021-01-11 21:35:00|Florida counties ...|            0|Connecticut| null|\n",
      "|      10|       dajosc11|2021-01-11 21:35:59|RT @CNN: Joe Bide...|            0|   Michigan| null|\n",
      "|      11|          MLive|2021-01-11 21:36:08|Schools optimisti...|            0|   Michigan| null|\n",
      "|      12|   LauraMarklin|2021-01-11 21:37:32|Old, Tired and Ou...|            0| New Jersey| null|\n",
      "|      13|    ksummerwine|2021-01-11 21:37:41|RT @LadyGretaBail...|            0|    Florida| null|\n",
      "|      14|  FloridaVoter7|2021-01-11 21:37:42|Hillsborough Coun...|            0|    Florida| null|\n",
      "|      15|     raluca3000|2021-01-11 21:38:23|RT @BioNTech_Grou...|            0|   New York| null|\n",
      "|      16|    ksummerwine|2021-01-11 21:38:23|RT @GinaRClark: @...|            0|    Florida| null|\n",
      "|      17|      Elischico|2021-01-11 21:38:54|RT @PortageCoHeal...|            0|       Ohio| null|\n",
      "|      18|  katherinebsph|2021-01-11 21:40:58|RT @Sawbones: Eve...|            0| New Jersey| null|\n",
      "|      19|     digdoug429|2021-01-11 21:41:03|LMAO this place w...|            0| California| null|\n",
      "|      20|   PoliticalBee|2021-01-11 21:41:19|RT @nycHealthy: E...|            0|    Florida| null|\n",
      "+--------+---------------+-------------------+--------------------+-------------+-----------+-----+\n",
      "only showing top 20 rows\n",
      "\n"
     ]
    }
   ],
   "source": [
    "df_sp.show()"
   ]
  },
  {
   "cell_type": "code",
   "execution_count": 10,
   "metadata": {
    "execution": {
     "iopub.execute_input": "2021-01-12T19:17:15.900522Z",
     "iopub.status.busy": "2021-01-12T19:17:15.894832Z",
     "iopub.status.idle": "2021-01-12T19:17:16.611442Z",
     "shell.execute_reply": "2021-01-12T19:17:16.612967Z"
    },
    "papermill": {
     "duration": 0.743259,
     "end_time": "2021-01-12T19:17:16.613273",
     "exception": false,
     "start_time": "2021-01-12T19:17:15.870014",
     "status": "completed"
    },
    "tags": []
   },
   "outputs": [
    {
     "data": {
      "text/plain": [
       "4698"
      ]
     },
     "execution_count": 10,
     "metadata": {},
     "output_type": "execute_result"
    }
   ],
   "source": [
    "df_sp.count()\n"
   ]
  },
  {
   "cell_type": "code",
   "execution_count": 11,
   "metadata": {
    "execution": {
     "iopub.execute_input": "2021-01-12T19:17:16.647849Z",
     "iopub.status.busy": "2021-01-12T19:17:16.646389Z",
     "iopub.status.idle": "2021-01-12T19:17:16.818212Z",
     "shell.execute_reply": "2021-01-12T19:17:16.819674Z"
    },
    "papermill": {
     "duration": 0.191094,
     "end_time": "2021-01-12T19:17:16.820468",
     "exception": false,
     "start_time": "2021-01-12T19:17:16.629374",
     "status": "completed"
    },
    "tags": []
   },
   "outputs": [],
   "source": [
    "tweet_df2 = df_sp.select('tweet','location').distinct()"
   ]
  },
  {
   "cell_type": "code",
   "execution_count": 12,
   "metadata": {
    "execution": {
     "iopub.execute_input": "2021-01-12T19:17:16.849096Z",
     "iopub.status.busy": "2021-01-12T19:17:16.847299Z",
     "iopub.status.idle": "2021-01-12T19:17:17.953739Z",
     "shell.execute_reply": "2021-01-12T19:17:17.955328Z"
    },
    "papermill": {
     "duration": 1.124633,
     "end_time": "2021-01-12T19:17:17.956046",
     "exception": false,
     "start_time": "2021-01-12T19:17:16.831413",
     "status": "completed"
    },
    "tags": []
   },
   "outputs": [
    {
     "name": "stdout",
     "output_type": "stream",
     "text": [
      "+--------------------+-------------+\n",
      "|               tweet|     location|\n",
      "+--------------------+-------------+\n",
      "|RT @laggy_mads: Y...|       Oregon|\n",
      "|I've been trying ...|     New York|\n",
      "|Pro-life my ass.????|     Colorado|\n",
      "|RT @ImmunoFever: ...|      Arizona|\n",
      "|RT @WSJ: U.S. off...|     New York|\n",
      "|My mom called to ...|     Michigan|\n",
      "|RT @Mistresshicks...|        Texas|\n",
      "|RT @lisachristine...|   California|\n",
      "|@CEUhungary @Elli...| Rhode Island|\n",
      "|New Jersey reside...|   New Jersey|\n",
      "|January 21: \"Your...|Massachusetts|\n",
      "|@GovRonDeSantis  ...|     New York|\n",
      "|RT @JoeNBC: Opera...|  Connecticut|\n",
      "|RT @drdavidsamadi...|  Mississippi|\n",
      "|RT @drdavidsamadi...|     Colorado|\n",
      "|RT @JoeBiden: Fol...|West Virginia|\n",
      "|RT @MatRyanELATea...|Massachusetts|\n",
      "|Meanwhile my elde...|     New York|\n",
      "|RT @okprogressnow...|     Oklahoma|\n",
      "|RT @thehill: Euro...|     New York|\n",
      "+--------------------+-------------+\n",
      "only showing top 20 rows\n",
      "\n"
     ]
    }
   ],
   "source": [
    "tweet_df2.show()"
   ]
  },
  {
   "cell_type": "code",
   "execution_count": 13,
   "metadata": {
    "execution": {
     "iopub.execute_input": "2021-01-12T19:17:18.003292Z",
     "iopub.status.busy": "2021-01-12T19:17:17.999276Z",
     "iopub.status.idle": "2021-01-12T19:17:20.299046Z",
     "shell.execute_reply": "2021-01-12T19:17:20.300868Z"
    },
    "papermill": {
     "duration": 2.328451,
     "end_time": "2021-01-12T19:17:20.301108",
     "exception": false,
     "start_time": "2021-01-12T19:17:17.972657",
     "status": "completed"
    },
    "tags": []
   },
   "outputs": [
    {
     "data": {
      "text/plain": [
       "4208"
      ]
     },
     "execution_count": 13,
     "metadata": {},
     "output_type": "execute_result"
    }
   ],
   "source": [
    "tweet_df2.count()"
   ]
  },
  {
   "cell_type": "code",
   "execution_count": 14,
   "metadata": {
    "execution": {
     "iopub.execute_input": "2021-01-12T19:17:20.346319Z",
     "iopub.status.busy": "2021-01-12T19:17:20.343287Z",
     "iopub.status.idle": "2021-01-12T19:17:20.357130Z",
     "shell.execute_reply": "2021-01-12T19:17:20.358681Z"
    },
    "papermill": {
     "duration": 0.043312,
     "end_time": "2021-01-12T19:17:20.361075",
     "exception": false,
     "start_time": "2021-01-12T19:17:20.317763",
     "status": "completed"
    },
    "tags": []
   },
   "outputs": [],
   "source": [
    "tweet_df4 = tweet_df2.select('tweet','location')"
   ]
  },
  {
   "cell_type": "code",
   "execution_count": 15,
   "metadata": {
    "execution": {
     "iopub.execute_input": "2021-01-12T19:17:20.405642Z",
     "iopub.status.busy": "2021-01-12T19:17:20.402872Z",
     "iopub.status.idle": "2021-01-12T19:17:21.542589Z",
     "shell.execute_reply": "2021-01-12T19:17:21.544244Z"
    },
    "papermill": {
     "duration": 1.16584,
     "end_time": "2021-01-12T19:17:21.544546",
     "exception": false,
     "start_time": "2021-01-12T19:17:20.378706",
     "status": "completed"
    },
    "tags": []
   },
   "outputs": [],
   "source": [
    "pand_df = tweet_df4.toPandas()\n"
   ]
  },
  {
   "cell_type": "code",
   "execution_count": 16,
   "metadata": {
    "execution": {
     "iopub.execute_input": "2021-01-12T19:17:21.596848Z",
     "iopub.status.busy": "2021-01-12T19:17:21.592861Z",
     "iopub.status.idle": "2021-01-12T19:17:21.606625Z",
     "shell.execute_reply": "2021-01-12T19:17:21.608216Z"
    },
    "papermill": {
     "duration": 0.046056,
     "end_time": "2021-01-12T19:17:21.608770",
     "exception": false,
     "start_time": "2021-01-12T19:17:21.562714",
     "status": "completed"
    },
    "tags": []
   },
   "outputs": [
    {
     "data": {
      "text/html": [
       "<div>\n",
       "<style scoped>\n",
       "    .dataframe tbody tr th:only-of-type {\n",
       "        vertical-align: middle;\n",
       "    }\n",
       "\n",
       "    .dataframe tbody tr th {\n",
       "        vertical-align: top;\n",
       "    }\n",
       "\n",
       "    .dataframe thead th {\n",
       "        text-align: right;\n",
       "    }\n",
       "</style>\n",
       "<table border=\"1\" class=\"dataframe\">\n",
       "  <thead>\n",
       "    <tr style=\"text-align: right;\">\n",
       "      <th></th>\n",
       "      <th>tweet</th>\n",
       "      <th>location</th>\n",
       "    </tr>\n",
       "  </thead>\n",
       "  <tbody>\n",
       "    <tr>\n",
       "      <th>0</th>\n",
       "      <td>RT @laggy_mads: Y’all got me fucked up if you ...</td>\n",
       "      <td>Oregon</td>\n",
       "    </tr>\n",
       "    <tr>\n",
       "      <th>1</th>\n",
       "      <td>I've been trying to sign my 102-year-old grand...</td>\n",
       "      <td>New York</td>\n",
       "    </tr>\n",
       "    <tr>\n",
       "      <th>2</th>\n",
       "      <td>Pro-life my ass.????</td>\n",
       "      <td>Colorado</td>\n",
       "    </tr>\n",
       "    <tr>\n",
       "      <th>3</th>\n",
       "      <td>RT @ImmunoFever: Every single vaccination plac...</td>\n",
       "      <td>Arizona</td>\n",
       "    </tr>\n",
       "    <tr>\n",
       "      <th>4</th>\n",
       "      <td>RT @WSJ: U.S. officials will suggest anyone ov...</td>\n",
       "      <td>New York</td>\n",
       "    </tr>\n",
       "    <tr>\n",
       "      <th>...</th>\n",
       "      <td>...</td>\n",
       "      <td>...</td>\n",
       "    </tr>\n",
       "    <tr>\n",
       "      <th>4203</th>\n",
       "      <td>Silver lining of a very dark cloud (Covid) bri...</td>\n",
       "      <td>New Hampshire</td>\n",
       "    </tr>\n",
       "    <tr>\n",
       "      <th>4204</th>\n",
       "      <td>RT @mjcontrera: There are some 70,000 American...</td>\n",
       "      <td>California</td>\n",
       "    </tr>\n",
       "    <tr>\n",
       "      <th>4205</th>\n",
       "      <td>RT @DoctorAngry: On @BBCNews  I have just seen...</td>\n",
       "      <td>Louisiana</td>\n",
       "    </tr>\n",
       "    <tr>\n",
       "      <th>4206</th>\n",
       "      <td>400$ a week for unemployment... as if finding ...</td>\n",
       "      <td>Indiana</td>\n",
       "    </tr>\n",
       "    <tr>\n",
       "      <th>4207</th>\n",
       "      <td>RT @blackwhiteALL: Dems are already rewriting ...</td>\n",
       "      <td>California</td>\n",
       "    </tr>\n",
       "  </tbody>\n",
       "</table>\n",
       "<p>4208 rows × 2 columns</p>\n",
       "</div>"
      ],
      "text/plain": [
       "                                                  tweet       location\n",
       "0     RT @laggy_mads: Y’all got me fucked up if you ...         Oregon\n",
       "1     I've been trying to sign my 102-year-old grand...       New York\n",
       "2                                  Pro-life my ass.????       Colorado\n",
       "3     RT @ImmunoFever: Every single vaccination plac...        Arizona\n",
       "4     RT @WSJ: U.S. officials will suggest anyone ov...       New York\n",
       "...                                                 ...            ...\n",
       "4203  Silver lining of a very dark cloud (Covid) bri...  New Hampshire\n",
       "4204  RT @mjcontrera: There are some 70,000 American...     California\n",
       "4205  RT @DoctorAngry: On @BBCNews  I have just seen...      Louisiana\n",
       "4206  400$ a week for unemployment... as if finding ...        Indiana\n",
       "4207  RT @blackwhiteALL: Dems are already rewriting ...     California\n",
       "\n",
       "[4208 rows x 2 columns]"
      ]
     },
     "execution_count": 16,
     "metadata": {},
     "output_type": "execute_result"
    }
   ],
   "source": [
    "pand_df"
   ]
  },
  {
   "cell_type": "code",
   "execution_count": 17,
   "metadata": {
    "execution": {
     "iopub.execute_input": "2021-01-12T19:17:21.652565Z",
     "iopub.status.busy": "2021-01-12T19:17:21.649437Z",
     "iopub.status.idle": "2021-01-12T19:17:21.895222Z",
     "shell.execute_reply": "2021-01-12T19:17:21.896867Z"
    },
    "papermill": {
     "duration": 0.271707,
     "end_time": "2021-01-12T19:17:21.897323",
     "exception": false,
     "start_time": "2021-01-12T19:17:21.625616",
     "status": "completed"
    },
    "tags": []
   },
   "outputs": [
    {
     "data": {
      "text/plain": [
       "0"
      ]
     },
     "execution_count": 17,
     "metadata": {},
     "output_type": "execute_result"
    }
   ],
   "source": [
    "\n",
    "host_name = os.environ.get('host_name')\n",
    "user = \"group2\"\n",
    "passwd = os.environ.get('aws_password')\n",
    "db=\"group2db\"\n",
    "# connect to MySQL\n",
    "con = pymysql.connect(host=host_name,user=user,passwd=passwd,db=db)\n",
    "cursor = con.cursor()\n",
    "# deleting a table in mysql\n",
    "delete_table=\"\"\"DROP TABLE IF EXISTS `tweets_locations`;\"\"\"\n",
    "cursor.execute(delete_table)\n"
   ]
  },
  {
   "cell_type": "code",
   "execution_count": 18,
   "metadata": {
    "execution": {
     "iopub.execute_input": "2021-01-12T19:17:21.938866Z",
     "iopub.status.busy": "2021-01-12T19:17:21.937199Z",
     "iopub.status.idle": "2021-01-12T19:17:22.149990Z",
     "shell.execute_reply": "2021-01-12T19:17:22.151071Z"
    },
    "papermill": {
     "duration": 0.237023,
     "end_time": "2021-01-12T19:17:22.151351",
     "exception": false,
     "start_time": "2021-01-12T19:17:21.914328",
     "status": "completed"
    },
    "tags": []
   },
   "outputs": [
    {
     "data": {
      "text/plain": [
       "0"
      ]
     },
     "execution_count": 18,
     "metadata": {},
     "output_type": "execute_result"
    }
   ],
   "source": [
    "\n",
    "host_name = os.environ.get('host_name')\n",
    "user = \"group2\"\n",
    "passwd = os.environ.get('aws_password')\n",
    "db=\"group2db\"\n",
    "# connect to MySQL\n",
    "con = pymysql.connect(host=host_name,user=user,passwd=passwd,db=db)\n",
    "cursor = con.cursor()\n",
    "# creating a table for sending dataframe into mysql\n",
    "create_table=\"\"\"CREATE TABLE tweets_locations(tweet_id INT(11) not null auto_increment primary key,  tweet TEXT,\n",
    "               location VARCHAR(100));\"\"\"\n",
    "cursor.execute(create_table)\n"
   ]
  },
  {
   "cell_type": "code",
   "execution_count": 19,
   "metadata": {
    "execution": {
     "iopub.execute_input": "2021-01-12T19:17:22.187790Z",
     "iopub.status.busy": "2021-01-12T19:17:22.185022Z",
     "iopub.status.idle": "2021-01-12T19:19:15.229531Z",
     "shell.execute_reply": "2021-01-12T19:19:15.227025Z"
    },
    "papermill": {
     "duration": 113.066055,
     "end_time": "2021-01-12T19:19:15.230285",
     "exception": false,
     "start_time": "2021-01-12T19:17:22.164230",
     "status": "completed"
    },
    "tags": []
   },
   "outputs": [],
   "source": [
    "cols = \"`,`\".join([str(i) for i in pand_df.columns.tolist()])\n",
    "\n",
    "# Insert DataFrame records one by one.\n",
    "for i,row in pand_df.iterrows():\n",
    "    sql = \"INSERT INTO `tweets_locations` (`\" +cols + \"`) VALUES (\" + \"%s,\"*(len(row)-1) + \"%s)\"\n",
    "    cursor.execute(sql, tuple(row))\n",
    "\n",
    "    # the connection is not autocommitted by default, so we must commit to save our changes\n",
    "    con.commit()"
   ]
  },
  {
   "cell_type": "code",
   "execution_count": null,
   "metadata": {
    "papermill": {
     "duration": 0.017734,
     "end_time": "2021-01-12T19:19:15.277078",
     "exception": false,
     "start_time": "2021-01-12T19:19:15.259344",
     "status": "completed"
    },
    "tags": []
   },
   "outputs": [],
   "source": []
  }
 ],
 "metadata": {
  "kernelspec": {
   "display_name": "Python 3",
   "language": "python",
   "name": "python3"
  },
  "language_info": {
   "codemirror_mode": {
    "name": "ipython",
    "version": 3
   },
   "file_extension": ".py",
   "mimetype": "text/x-python",
   "name": "python",
   "nbconvert_exporter": "python",
   "pygments_lexer": "ipython3",
   "version": "3.8.3"
  },
  "papermill": {
   "default_parameters": {},
   "duration": 151.143459,
   "end_time": "2021-01-12T19:19:16.014054",
   "environment_variables": {},
   "exception": null,
   "input_path": "/Users/suma/ZCW-FinalProject/extra_files/twitter_delete_create_data.ipynb",
   "output_path": "/Users/suma/ZCW-FinalProject/jupyter_files/output_twitter_data.ipynb",
   "parameters": {
    "QUICK_RUN": true,
    "TEST": true
   },
   "start_time": "2021-01-12T19:16:44.870595",
   "version": "2.2.2"
  }
 },
 "nbformat": 4,
 "nbformat_minor": 4
}
