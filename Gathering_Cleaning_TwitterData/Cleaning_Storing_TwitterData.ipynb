{
 "cells": [
  {
   "cell_type": "code",
   "execution_count": 1,
   "metadata": {
    "execution": {
     "iopub.execute_input": "2021-01-12T19:16:46.490331Z",
     "iopub.status.busy": "2021-01-12T19:16:46.488886Z",
     "iopub.status.idle": "2021-01-12T19:16:46.491436Z",
     "shell.execute_reply": "2021-01-12T19:16:46.492355Z"
    },
    "papermill": {
     "duration": 0.020183,
     "end_time": "2021-01-12T19:16:46.492709",
     "exception": false,
     "start_time": "2021-01-12T19:16:46.472526",
     "status": "completed"
    },
    "tags": [
     "injected-parameters"
    ]
   },
   "outputs": [],
   "source": [
    "# Parameters\n",
    "# TEST = True\n",
    "# QUICK_RUN = True\n"
   ]
  },
  {
   "cell_type": "code",
   "execution_count": 17,
   "metadata": {
    "execution": {
     "iopub.execute_input": "2021-01-12T19:16:46.516154Z",
     "iopub.status.busy": "2021-01-12T19:16:46.514881Z",
     "iopub.status.idle": "2021-01-12T19:16:47.285280Z",
     "shell.execute_reply": "2021-01-12T19:16:47.286185Z"
    },
    "papermill": {
     "duration": 0.783568,
     "end_time": "2021-01-12T19:16:47.286474",
     "exception": false,
     "start_time": "2021-01-12T19:16:46.502906",
     "status": "completed"
    },
    "tags": []
   },
   "outputs": [],
   "source": [
    "import numpy\n",
    "import pandas as pd\n",
    "import os\n",
    "import sys"
   ]
  },
  {
   "cell_type": "code",
   "execution_count": 18,
   "metadata": {
    "execution": {
     "iopub.execute_input": "2021-01-12T19:16:47.309725Z",
     "iopub.status.busy": "2021-01-12T19:16:47.308446Z",
     "iopub.status.idle": "2021-01-12T19:16:47.310876Z",
     "shell.execute_reply": "2021-01-12T19:16:47.311681Z"
    },
    "papermill": {
     "duration": 0.01582,
     "end_time": "2021-01-12T19:16:47.311850",
     "exception": false,
     "start_time": "2021-01-12T19:16:47.296030",
     "status": "completed"
    },
    "tags": []
   },
   "outputs": [],
   "source": [
    "sys.path.insert(0,\"/usr/local/lib/python3.9/site-packages\")"
   ]
  },
  {
   "cell_type": "code",
   "execution_count": 19,
   "metadata": {
    "execution": {
     "iopub.execute_input": "2021-01-12T19:16:47.335801Z",
     "iopub.status.busy": "2021-01-12T19:16:47.334253Z",
     "iopub.status.idle": "2021-01-12T19:16:47.466970Z",
     "shell.execute_reply": "2021-01-12T19:16:47.465689Z"
    },
    "papermill": {
     "duration": 0.144708,
     "end_time": "2021-01-12T19:16:47.467171",
     "exception": false,
     "start_time": "2021-01-12T19:16:47.322463",
     "status": "completed"
    },
    "tags": []
   },
   "outputs": [],
   "source": [
    "import pyspark\n",
    "from pyspark.context import SparkContext\n",
    "from pyspark.sql.session import SparkSession\n",
    "import pymysql"
   ]
  },
  {
   "cell_type": "code",
   "execution_count": 20,
   "metadata": {
    "execution": {
     "iopub.execute_input": "2021-01-12T19:16:47.493303Z",
     "iopub.status.busy": "2021-01-12T19:16:47.491780Z",
     "iopub.status.idle": "2021-01-12T19:16:48.043674Z",
     "shell.execute_reply": "2021-01-12T19:16:48.044815Z"
    },
    "papermill": {
     "duration": 0.567227,
     "end_time": "2021-01-12T19:16:48.045026",
     "exception": false,
     "start_time": "2021-01-12T19:16:47.477799",
     "status": "completed"
    },
    "tags": []
   },
   "outputs": [],
   "source": [
    "host_name = os.environ.get('host_name')\n",
    "user = \"group2\"\n",
    "passwd = os.environ.get('aws_password')\n",
    "db=\"group2db\"\n",
    "# connect to MySQL\n",
    "con = pymysql.connect(host=host_name,user=user,passwd=passwd,db=db)\n",
    "cursor = con.cursor()\n",
    "SQL_Query = pd.read_sql_query(\n",
    "'''select * from tweets_with_location ''', con)"
   ]
  },
  {
   "cell_type": "code",
   "execution_count": 21,
   "metadata": {
    "execution": {
     "iopub.execute_input": "2021-01-12T19:16:48.073118Z",
     "iopub.status.busy": "2021-01-12T19:16:48.069808Z",
     "iopub.status.idle": "2021-01-12T19:16:48.075479Z",
     "shell.execute_reply": "2021-01-12T19:16:48.077420Z"
    },
    "papermill": {
     "duration": 0.02202,
     "end_time": "2021-01-12T19:16:48.077796",
     "exception": false,
     "start_time": "2021-01-12T19:16:48.055776",
     "status": "completed"
    },
    "tags": []
   },
   "outputs": [],
   "source": [
    "df = pd.DataFrame(SQL_Query)"
   ]
  },
  {
   "cell_type": "code",
   "execution_count": 22,
   "metadata": {
    "execution": {
     "iopub.execute_input": "2021-01-12T19:16:48.114103Z",
     "iopub.status.busy": "2021-01-12T19:16:48.112432Z",
     "iopub.status.idle": "2021-01-12T19:17:09.295495Z",
     "shell.execute_reply": "2021-01-12T19:17:09.296761Z"
    },
    "papermill": {
     "duration": 21.205602,
     "end_time": "2021-01-12T19:17:09.296956",
     "exception": false,
     "start_time": "2021-01-12T19:16:48.091354",
     "status": "completed"
    },
    "tags": []
   },
   "outputs": [],
   "source": [
    "spark = SparkSession \\\n",
    "    .builder \\\n",
    "    .appName(\"data_import\") \\\n",
    "    .config(\"spark.dynamicAllocation.enabled\", \"true\") \\\n",
    "    .config(\"spark.shuffle.service.enabled\", \"true\") \\\n",
    "    .enableHiveSupport() \\\n",
    "    .getOrCreate()"
   ]
  },
  {
   "cell_type": "code",
   "execution_count": 23,
   "metadata": {
    "execution": {
     "iopub.execute_input": "2021-01-12T19:17:09.345189Z",
     "iopub.status.busy": "2021-01-12T19:17:09.340518Z",
     "iopub.status.idle": "2021-01-12T19:17:11.965158Z",
     "shell.execute_reply": "2021-01-12T19:17:11.966046Z"
    },
    "papermill": {
     "duration": 2.656326,
     "end_time": "2021-01-12T19:17:11.966230",
     "exception": false,
     "start_time": "2021-01-12T19:17:09.309904",
     "status": "completed"
    },
    "tags": []
   },
   "outputs": [],
   "source": [
    "df_sp = spark.createDataFrame(df)"
   ]
  },
  {
   "cell_type": "code",
   "execution_count": 24,
   "metadata": {
    "execution": {
     "iopub.execute_input": "2021-01-12T19:17:11.997160Z",
     "iopub.status.busy": "2021-01-12T19:17:11.995182Z",
     "iopub.status.idle": "2021-01-12T19:17:15.845530Z",
     "shell.execute_reply": "2021-01-12T19:17:15.846973Z"
    },
    "papermill": {
     "duration": 3.865951,
     "end_time": "2021-01-12T19:17:15.847295",
     "exception": false,
     "start_time": "2021-01-12T19:17:11.981344",
     "status": "completed"
    },
    "tags": []
   },
   "outputs": [
    {
     "name": "stdout",
     "output_type": "stream",
     "text": [
      "+--------+---------------+-------------------+--------------------+-------------+-----------+-----+\n",
      "|tweet_id|       username|         created_at|               tweet|retweet_count|   location|place|\n",
      "+--------+---------------+-------------------+--------------------+-------------+-----------+-----+\n",
      "|       1|    Not_Silvers|2021-01-11 21:32:20|RT @tamrieldude: ...|            0|       Ohio| null|\n",
      "|       2|  EverydayEagle|2021-01-11 21:33:03|RT @GrassRootRevo...|            0|      Texas| null|\n",
      "|       3|        LaRene1|2021-01-11 21:33:22|@akgraham7 @Klapt...|            0|    Florida| null|\n",
      "|       4|       Crankzie|2021-01-11 21:33:48|@ZitoFN_ LMAO THI...|            0| California| null|\n",
      "|       5|       senschuh|2021-01-11 21:34:06|RT @jbryan522: Ma...|            0|Mississippi| null|\n",
      "|       6|RachelleBlidner|2021-01-11 21:34:23|500 people showed...|            0|   New York| null|\n",
      "|       7|       puffypcb|2021-01-11 21:34:29|@GovRonDeSantis H...|            0|    Florida| null|\n",
      "|       8|     StrackeKey|2021-01-11 21:34:49|RT @DrEricDing: H...|            0|   Maryland| null|\n",
      "|       9|       manielse|2021-01-11 21:35:00|Florida counties ...|            0|Connecticut| null|\n",
      "|      10|       dajosc11|2021-01-11 21:35:59|RT @CNN: Joe Bide...|            0|   Michigan| null|\n",
      "|      11|          MLive|2021-01-11 21:36:08|Schools optimisti...|            0|   Michigan| null|\n",
      "|      12|   LauraMarklin|2021-01-11 21:37:32|Old, Tired and Ou...|            0| New Jersey| null|\n",
      "|      13|    ksummerwine|2021-01-11 21:37:41|RT @LadyGretaBail...|            0|    Florida| null|\n",
      "|      14|  FloridaVoter7|2021-01-11 21:37:42|Hillsborough Coun...|            0|    Florida| null|\n",
      "|      15|     raluca3000|2021-01-11 21:38:23|RT @BioNTech_Grou...|            0|   New York| null|\n",
      "|      16|    ksummerwine|2021-01-11 21:38:23|RT @GinaRClark: @...|            0|    Florida| null|\n",
      "|      17|      Elischico|2021-01-11 21:38:54|RT @PortageCoHeal...|            0|       Ohio| null|\n",
      "|      18|  katherinebsph|2021-01-11 21:40:58|RT @Sawbones: Eve...|            0| New Jersey| null|\n",
      "|      19|     digdoug429|2021-01-11 21:41:03|LMAO this place w...|            0| California| null|\n",
      "|      20|   PoliticalBee|2021-01-11 21:41:19|RT @nycHealthy: E...|            0|    Florida| null|\n",
      "+--------+---------------+-------------------+--------------------+-------------+-----------+-----+\n",
      "only showing top 20 rows\n",
      "\n"
     ]
    }
   ],
   "source": [
    "df_sp.show()"
   ]
  },
  {
   "cell_type": "code",
   "execution_count": 25,
   "metadata": {
    "execution": {
     "iopub.execute_input": "2021-01-12T19:17:15.900522Z",
     "iopub.status.busy": "2021-01-12T19:17:15.894832Z",
     "iopub.status.idle": "2021-01-12T19:17:16.611442Z",
     "shell.execute_reply": "2021-01-12T19:17:16.612967Z"
    },
    "papermill": {
     "duration": 0.743259,
     "end_time": "2021-01-12T19:17:16.613273",
     "exception": false,
     "start_time": "2021-01-12T19:17:15.870014",
     "status": "completed"
    },
    "tags": []
   },
   "outputs": [
    {
     "data": {
      "text/plain": [
       "2677"
      ]
     },
     "execution_count": 25,
     "metadata": {},
     "output_type": "execute_result"
    }
   ],
   "source": [
    "df_sp.count()\n"
   ]
  },
  {
   "cell_type": "code",
   "execution_count": 26,
   "metadata": {
    "execution": {
     "iopub.execute_input": "2021-01-12T19:17:16.647849Z",
     "iopub.status.busy": "2021-01-12T19:17:16.646389Z",
     "iopub.status.idle": "2021-01-12T19:17:16.818212Z",
     "shell.execute_reply": "2021-01-12T19:17:16.819674Z"
    },
    "papermill": {
     "duration": 0.191094,
     "end_time": "2021-01-12T19:17:16.820468",
     "exception": false,
     "start_time": "2021-01-12T19:17:16.629374",
     "status": "completed"
    },
    "tags": []
   },
   "outputs": [],
   "source": [
    "tweet_df2 = df_sp.select('tweet_id','tweet','location').distinct()"
   ]
  },
  {
   "cell_type": "code",
   "execution_count": 27,
   "metadata": {
    "execution": {
     "iopub.execute_input": "2021-01-12T19:17:16.849096Z",
     "iopub.status.busy": "2021-01-12T19:17:16.847299Z",
     "iopub.status.idle": "2021-01-12T19:17:17.953739Z",
     "shell.execute_reply": "2021-01-12T19:17:17.955328Z"
    },
    "papermill": {
     "duration": 1.124633,
     "end_time": "2021-01-12T19:17:17.956046",
     "exception": false,
     "start_time": "2021-01-12T19:17:16.831413",
     "status": "completed"
    },
    "tags": []
   },
   "outputs": [
    {
     "name": "stdout",
     "output_type": "stream",
     "text": [
      "+--------+--------------------+-------------+\n",
      "|tweet_id|               tweet|     location|\n",
      "+--------+--------------------+-------------+\n",
      "|     317|RT @JoeBiden: Fol...|     Michigan|\n",
      "|     400|RT @charles_gaba:...|         Ohio|\n",
      "|     546|I will be, Mr. Pr...|Massachusetts|\n",
      "|     638|RT @rmslim: Frien...|     New York|\n",
      "|     948|RT @KyleLacio: Mc...|   New Jersey|\n",
      "|    1000|RT @DavidCaltabia...|      Arizona|\n",
      "|    1308|RT @PowerDNS_Bert...|Massachusetts|\n",
      "|    2133|@eugenegu Why did...|     New York|\n",
      "|    2375|RT @HighImpactFli...|     Michigan|\n",
      "|    2742|RT @NABTU: When w...|     New York|\n",
      "|      15|RT @BioNTech_Grou...|     New York|\n",
      "|     124|RT @harrisonjaime...|        Texas|\n",
      "|     263|RT @JoeBiden: Fol...|        Texas|\n",
      "|     426|RT @charles_gaba:...|     Colorado|\n",
      "|     681|5,422 vaccine dos...|       Oregon|\n",
      "|     860|RT @DrEricDing: 1...|     New York|\n",
      "|     987|Moderna says COVI...|  Puerto Rico|\n",
      "|    1059|RT @SFdirewolf: #...|        Texas|\n",
      "|    2297|@nypost Wear a ma...|   California|\n",
      "|    2417|RT @AynRandPaulRy...|     Colorado|\n",
      "+--------+--------------------+-------------+\n",
      "only showing top 20 rows\n",
      "\n"
     ]
    }
   ],
   "source": [
    "tweet_df2.show()"
   ]
  },
  {
   "cell_type": "code",
   "execution_count": 28,
   "metadata": {
    "execution": {
     "iopub.execute_input": "2021-01-12T19:17:18.003292Z",
     "iopub.status.busy": "2021-01-12T19:17:17.999276Z",
     "iopub.status.idle": "2021-01-12T19:17:20.299046Z",
     "shell.execute_reply": "2021-01-12T19:17:20.300868Z"
    },
    "papermill": {
     "duration": 2.328451,
     "end_time": "2021-01-12T19:17:20.301108",
     "exception": false,
     "start_time": "2021-01-12T19:17:17.972657",
     "status": "completed"
    },
    "tags": []
   },
   "outputs": [
    {
     "data": {
      "text/plain": [
       "2677"
      ]
     },
     "execution_count": 28,
     "metadata": {},
     "output_type": "execute_result"
    }
   ],
   "source": [
    "tweet_df2.count()"
   ]
  },
  {
   "cell_type": "code",
   "execution_count": 29,
   "metadata": {
    "execution": {
     "iopub.execute_input": "2021-01-12T19:17:20.346319Z",
     "iopub.status.busy": "2021-01-12T19:17:20.343287Z",
     "iopub.status.idle": "2021-01-12T19:17:20.357130Z",
     "shell.execute_reply": "2021-01-12T19:17:20.358681Z"
    },
    "papermill": {
     "duration": 0.043312,
     "end_time": "2021-01-12T19:17:20.361075",
     "exception": false,
     "start_time": "2021-01-12T19:17:20.317763",
     "status": "completed"
    },
    "tags": []
   },
   "outputs": [],
   "source": [
    "tweet_df4 = tweet_df2.select('tweet','location')"
   ]
  },
  {
   "cell_type": "code",
   "execution_count": 30,
   "metadata": {
    "execution": {
     "iopub.execute_input": "2021-01-12T19:17:20.405642Z",
     "iopub.status.busy": "2021-01-12T19:17:20.402872Z",
     "iopub.status.idle": "2021-01-12T19:17:21.542589Z",
     "shell.execute_reply": "2021-01-12T19:17:21.544244Z"
    },
    "papermill": {
     "duration": 1.16584,
     "end_time": "2021-01-12T19:17:21.544546",
     "exception": false,
     "start_time": "2021-01-12T19:17:20.378706",
     "status": "completed"
    },
    "tags": []
   },
   "outputs": [],
   "source": [
    "pand_df = tweet_df4.toPandas()\n"
   ]
  },
  {
   "cell_type": "code",
   "execution_count": 31,
   "metadata": {
    "execution": {
     "iopub.execute_input": "2021-01-12T19:17:21.596848Z",
     "iopub.status.busy": "2021-01-12T19:17:21.592861Z",
     "iopub.status.idle": "2021-01-12T19:17:21.606625Z",
     "shell.execute_reply": "2021-01-12T19:17:21.608216Z"
    },
    "papermill": {
     "duration": 0.046056,
     "end_time": "2021-01-12T19:17:21.608770",
     "exception": false,
     "start_time": "2021-01-12T19:17:21.562714",
     "status": "completed"
    },
    "tags": []
   },
   "outputs": [
    {
     "data": {
      "text/html": [
       "<div>\n",
       "<style scoped>\n",
       "    .dataframe tbody tr th:only-of-type {\n",
       "        vertical-align: middle;\n",
       "    }\n",
       "\n",
       "    .dataframe tbody tr th {\n",
       "        vertical-align: top;\n",
       "    }\n",
       "\n",
       "    .dataframe thead th {\n",
       "        text-align: right;\n",
       "    }\n",
       "</style>\n",
       "<table border=\"1\" class=\"dataframe\">\n",
       "  <thead>\n",
       "    <tr style=\"text-align: right;\">\n",
       "      <th></th>\n",
       "      <th>tweet</th>\n",
       "      <th>location</th>\n",
       "    </tr>\n",
       "  </thead>\n",
       "  <tbody>\n",
       "    <tr>\n",
       "      <th>0</th>\n",
       "      <td>RT @JoeBiden: Folks, I just received the secon...</td>\n",
       "      <td>Michigan</td>\n",
       "    </tr>\n",
       "    <tr>\n",
       "      <th>1</th>\n",
       "      <td>RT @charles_gaba: Holy shit. They’re holding v...</td>\n",
       "      <td>Ohio</td>\n",
       "    </tr>\n",
       "    <tr>\n",
       "      <th>2</th>\n",
       "      <td>I will be, Mr. President. Need to know when th...</td>\n",
       "      <td>Massachusetts</td>\n",
       "    </tr>\n",
       "    <tr>\n",
       "      <th>3</th>\n",
       "      <td>RT @rmslim: Friends, all of whom are physician...</td>\n",
       "      <td>New York</td>\n",
       "    </tr>\n",
       "    <tr>\n",
       "      <th>4</th>\n",
       "      <td>RT @KyleLacio: McMaster is skipping the grocer...</td>\n",
       "      <td>New Jersey</td>\n",
       "    </tr>\n",
       "    <tr>\n",
       "      <th>...</th>\n",
       "      <td>...</td>\n",
       "      <td>...</td>\n",
       "    </tr>\n",
       "    <tr>\n",
       "      <th>2672</th>\n",
       "      <td>So why did we (NY) throw vaccines away? #CNN #...</td>\n",
       "      <td>New York</td>\n",
       "    </tr>\n",
       "    <tr>\n",
       "      <th>2673</th>\n",
       "      <td>RT @TorontoStar: Canada will get enough COVID-...</td>\n",
       "      <td>District of Columbia</td>\n",
       "    </tr>\n",
       "    <tr>\n",
       "      <th>2674</th>\n",
       "      <td>RT @rickberke: NEW reporting from @HelenBransw...</td>\n",
       "      <td>New York</td>\n",
       "    </tr>\n",
       "    <tr>\n",
       "      <th>2675</th>\n",
       "      <td>RT @BreeNewsome: This is the state sentencing ...</td>\n",
       "      <td>Texas</td>\n",
       "    </tr>\n",
       "    <tr>\n",
       "      <th>2676</th>\n",
       "      <td>RT @brandonjsmith5: I expect we'll hear this l...</td>\n",
       "      <td>Indiana</td>\n",
       "    </tr>\n",
       "  </tbody>\n",
       "</table>\n",
       "<p>2677 rows × 2 columns</p>\n",
       "</div>"
      ],
      "text/plain": [
       "                                                  tweet              location\n",
       "0     RT @JoeBiden: Folks, I just received the secon...              Michigan\n",
       "1     RT @charles_gaba: Holy shit. They’re holding v...                  Ohio\n",
       "2     I will be, Mr. President. Need to know when th...         Massachusetts\n",
       "3     RT @rmslim: Friends, all of whom are physician...              New York\n",
       "4     RT @KyleLacio: McMaster is skipping the grocer...            New Jersey\n",
       "...                                                 ...                   ...\n",
       "2672  So why did we (NY) throw vaccines away? #CNN #...              New York\n",
       "2673  RT @TorontoStar: Canada will get enough COVID-...  District of Columbia\n",
       "2674  RT @rickberke: NEW reporting from @HelenBransw...              New York\n",
       "2675  RT @BreeNewsome: This is the state sentencing ...                 Texas\n",
       "2676  RT @brandonjsmith5: I expect we'll hear this l...               Indiana\n",
       "\n",
       "[2677 rows x 2 columns]"
      ]
     },
     "execution_count": 31,
     "metadata": {},
     "output_type": "execute_result"
    }
   ],
   "source": [
    "pand_df"
   ]
  },
  {
   "cell_type": "code",
   "execution_count": 34,
   "metadata": {
    "execution": {
     "iopub.execute_input": "2021-01-12T19:17:21.652565Z",
     "iopub.status.busy": "2021-01-12T19:17:21.649437Z",
     "iopub.status.idle": "2021-01-12T19:17:21.895222Z",
     "shell.execute_reply": "2021-01-12T19:17:21.896867Z"
    },
    "papermill": {
     "duration": 0.271707,
     "end_time": "2021-01-12T19:17:21.897323",
     "exception": false,
     "start_time": "2021-01-12T19:17:21.625616",
     "status": "completed"
    },
    "tags": []
   },
   "outputs": [
    {
     "data": {
      "text/plain": [
       "0"
      ]
     },
     "execution_count": 34,
     "metadata": {},
     "output_type": "execute_result"
    }
   ],
   "source": [
    "\n",
    "host_name = os.environ.get('host_name')\n",
    "user = \"group2\"\n",
    "passwd = os.environ.get('aws_password')\n",
    "db=\"group2db\"\n",
    "# connect to MySQL\n",
    "con = pymysql.connect(host=host_name,user=user,passwd=passwd,db=db)\n",
    "cursor = con.cursor()\n",
    "# #### deleting a table in mysql\n",
    "delete_table=\"\"\"DROP TABLE IF EXISTS `tweets_locations`;\"\"\"\n",
    "cursor.execute(delete_table)\n",
    "# #"
   ]
  },
  {
   "cell_type": "code",
   "execution_count": 33,
   "metadata": {
    "execution": {
     "iopub.execute_input": "2021-01-12T19:17:21.938866Z",
     "iopub.status.busy": "2021-01-12T19:17:21.937199Z",
     "iopub.status.idle": "2021-01-12T19:17:22.149990Z",
     "shell.execute_reply": "2021-01-12T19:17:22.151071Z"
    },
    "papermill": {
     "duration": 0.237023,
     "end_time": "2021-01-12T19:17:22.151351",
     "exception": false,
     "start_time": "2021-01-12T19:17:21.914328",
     "status": "completed"
    },
    "tags": []
   },
   "outputs": [
    {
     "data": {
      "text/plain": [
       "0"
      ]
     },
     "execution_count": 33,
     "metadata": {},
     "output_type": "execute_result"
    }
   ],
   "source": [
    "\n",
    "host_name = os.environ.get('host_name')\n",
    "user = \"group2\"\n",
    "passwd = os.environ.get('aws_password')\n",
    "db=\"group2db\"\n",
    "# connect to MySQL\n",
    "con = pymysql.connect(host=host_name,user=user,passwd=passwd,db=db)\n",
    "cursor = con.cursor()\n",
    "# #### creating a table for sending dataframe into mysql\n",
    "create_table=\"\"\"CREATE TABLE tweets_locations(tweet_id INT(11) not null auto_increment primary key,  tweet TEXT,\n",
    "               location VARCHAR(100));\"\"\"\n",
    "cursor.execute(create_table)\n",
    "# #\n",
    "\n"
   ]
  },
  {
   "cell_type": "code",
   "execution_count": 19,
   "metadata": {
    "execution": {
     "iopub.execute_input": "2021-01-12T19:17:22.187790Z",
     "iopub.status.busy": "2021-01-12T19:17:22.185022Z",
     "iopub.status.idle": "2021-01-12T19:19:15.229531Z",
     "shell.execute_reply": "2021-01-12T19:19:15.227025Z"
    },
    "papermill": {
     "duration": 113.066055,
     "end_time": "2021-01-12T19:19:15.230285",
     "exception": false,
     "start_time": "2021-01-12T19:17:22.164230",
     "status": "completed"
    },
    "tags": []
   },
   "outputs": [],
   "source": [
    "cols = \"`,`\".join([str(i) for i in pand_df.columns.tolist()])\n",
    "\n",
    "# Insert DataFrame records one by one.\n",
    "for i,row in pand_df.iterrows():\n",
    "    sql = \"INSERT INTO `tweets_locations` (`\" +cols + \"`) VALUES (\" + \"%s,\"*(len(row)-1) + \"%s)\"\n",
    "    cursor.execute(sql, tuple(row))\n",
    "\n",
    "    # the connection is not autocommitted by default, so we must commit to save our changes\n",
    "    con.commit()"
   ]
  },
  {
   "cell_type": "code",
   "execution_count": null,
   "metadata": {
    "papermill": {
     "duration": 0.017734,
     "end_time": "2021-01-12T19:19:15.277078",
     "exception": false,
     "start_time": "2021-01-12T19:19:15.259344",
     "status": "completed"
    },
    "tags": []
   },
   "outputs": [],
   "source": []
  }
 ],
 "metadata": {
  "kernelspec": {
   "display_name": "Python 3",
   "language": "python",
   "name": "python3"
  },
  "language_info": {
   "codemirror_mode": {
    "name": "ipython",
    "version": 3
   },
   "file_extension": ".py",
   "mimetype": "text/x-python",
   "name": "python",
   "nbconvert_exporter": "python",
   "pygments_lexer": "ipython3",
   "version": "3.8.3"
  },
  "papermill": {
   "default_parameters": {},
   "duration": 151.143459,
   "end_time": "2021-01-12T19:19:16.014054",
   "environment_variables": {},
   "exception": null,
   "input_path": "/Users/suma/ZCW-FinalProject/extra_files/twitter_delete_create_data.ipynb",
   "output_path": "/Users/suma/ZCW-FinalProject/jupyter_files/output_twitter_data.ipynb",
   "parameters": {
    "QUICK_RUN": true,
    "TEST": true
   },
   "start_time": "2021-01-12T19:16:44.870595",
   "version": "2.2.2"
  }
 },
 "nbformat": 4,
 "nbformat_minor": 4
}
