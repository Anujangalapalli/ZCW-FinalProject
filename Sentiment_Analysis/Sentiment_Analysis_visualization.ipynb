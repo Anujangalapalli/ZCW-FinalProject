{
 "cells": [
  {
   "cell_type": "code",
   "execution_count": 1,
   "metadata": {},
   "outputs": [],
   "source": [
    "import pymysql\n",
    "from textblob import TextBlob\n",
    "from wordcloud import WordCloud\n",
    "import pandas as pd\n",
    "import numpy as np\n",
    "import matplotlib.pyplot as plt\n",
    "import seaborn as sns\n",
    "\n",
    "from nltk.stem import PorterStemmer, WordNetLemmatizer\n",
    "from nltk.corpus import stopwords\n",
    "from nltk.tokenize import word_tokenize, sent_tokenize\n",
    "import gensim\n",
    "from gensim.utils import simple_preprocess\n",
    "from gensim.parsing.preprocessing import STOPWORDS\n",
    "import plotly.express as px"
   ]
  },
  {
   "cell_type": "code",
   "execution_count": 2,
   "metadata": {},
   "outputs": [],
   "source": [
    "import os\n",
    "\n",
    "host_name = os.getenv('HOST_NAME')\n",
    "passwd = os.getenv('AWS_PASSWORD')\n",
    "user='group2'\n",
    "database='group2db'"
   ]
  },
  {
   "cell_type": "code",
   "execution_count": 3,
   "metadata": {},
   "outputs": [],
   "source": [
    "# Connecting AWS mysql Database\n",
    "db = pymysql.connect(host_name, user, passwd, database)"
   ]
  },
  {
   "cell_type": "code",
   "execution_count": 4,
   "metadata": {},
   "outputs": [],
   "source": [
    "cursor = db.cursor()"
   ]
  },
  {
   "cell_type": "code",
   "execution_count": 5,
   "metadata": {},
   "outputs": [],
   "source": [
    "# Reading sql table for WEST into pandas DataFrame\n",
    "west = pd.read_sql_query('''select * from tweets_locations where location IN ('Washington', 'Oregan', 'California', 'Montana', 'Idaho', 'Wyoming', 'Nevada', 'Utah', 'Colorado', 'Arizona', 'New Mexico') ''', db)"
   ]
  },
  {
   "cell_type": "code",
   "execution_count": 6,
   "metadata": {},
   "outputs": [
    {
     "data": {
      "text/plain": [
       "(582, 3)"
      ]
     },
     "execution_count": 6,
     "metadata": {},
     "output_type": "execute_result"
    }
   ],
   "source": [
    "west.shape"
   ]
  },
  {
   "cell_type": "code",
   "execution_count": 7,
   "metadata": {},
   "outputs": [],
   "source": [
    "# Reading sql table for Mid WEST into pandas DataFrame\n",
    "midwest = pd.read_sql_query('''select * from tweets_locations where location IN ('North Dakota', 'Minnesota', 'South Dakota', 'Iowa', 'Nebraska', 'Kansas', 'Missouri', 'Wisconsin', 'Michigan', 'Illinois', 'Indiana', 'Ohio'\n",
    ") ''', db)"
   ]
  },
  {
   "cell_type": "code",
   "execution_count": 8,
   "metadata": {},
   "outputs": [
    {
     "data": {
      "text/plain": [
       "(482, 3)"
      ]
     },
     "execution_count": 8,
     "metadata": {},
     "output_type": "execute_result"
    }
   ],
   "source": [
    "midwest.shape"
   ]
  },
  {
   "cell_type": "code",
   "execution_count": 9,
   "metadata": {},
   "outputs": [],
   "source": [
    "\n",
    "# Reading sql table for South into pandas DataFrame\n",
    "south = pd.read_sql_query('''select * from tweets_locations where location IN ('Oklahoma', 'Arkansas', 'Texas', 'Louisiana', 'Kentucky', 'Tennessee', 'Mississippi', 'Alabama', 'Maryland', 'Delaware', 'West Virginia', 'Virginia', 'North Carolina', 'South Carolina', 'Georgia', 'Florida')\n",
    " ''', db)"
   ]
  },
  {
   "cell_type": "code",
   "execution_count": 10,
   "metadata": {},
   "outputs": [
    {
     "data": {
      "text/plain": [
       "(968, 3)"
      ]
     },
     "execution_count": 10,
     "metadata": {},
     "output_type": "execute_result"
    }
   ],
   "source": [
    "south.shape"
   ]
  },
  {
   "cell_type": "code",
   "execution_count": 11,
   "metadata": {},
   "outputs": [],
   "source": [
    "# Reading sql table for EAST into pandas DataFrame\n",
    "east = pd.read_sql_query('''select * from tweets_locations where location IN ('ME', 'Maine', 'NH', 'New Hampshire', 'VT', 'Vermont', 'MA', 'Massachusetts', 'CT', 'Connecticut', 'RI', 'Rhode Island', 'NY', 'New York', 'PA', 'Pennsylvania', 'NJ', 'New Jersey') ''', db)"
   ]
  },
  {
   "cell_type": "code",
   "execution_count": 12,
   "metadata": {},
   "outputs": [
    {
     "data": {
      "text/plain": [
       "(856, 3)"
      ]
     },
     "execution_count": 12,
     "metadata": {},
     "output_type": "execute_result"
    }
   ],
   "source": [
    "east.shape"
   ]
  },
  {
   "cell_type": "code",
   "execution_count": 13,
   "metadata": {},
   "outputs": [
    {
     "data": {
      "text/plain": [
       "'!\"#$%&\\'()*+,-./:;<=>?@[\\\\]^_`{|}~'"
      ]
     },
     "execution_count": 13,
     "metadata": {},
     "output_type": "execute_result"
    }
   ],
   "source": [
    "import string\n",
    "string.punctuation"
   ]
  },
  {
   "cell_type": "code",
   "execution_count": 14,
   "metadata": {},
   "outputs": [],
   "source": [
    "#  Function to clean the tweets\n",
    "def remove_punc(message):\n",
    "    Test_punc_removed = [ char for char in message if char not in string.punctuation]\n",
    "    Test_punc_removed_join = ''.join(Test_punc_removed)\n",
    "    return Test_punc_removed_join"
   ]
  },
  {
   "cell_type": "code",
   "execution_count": 15,
   "metadata": {},
   "outputs": [],
   "source": [
    "west['tweet'] = west['tweet'].apply(remove_punc)\n",
    "midwest['tweet'] = midwest['tweet'].apply(remove_punc)\n",
    "south['tweet'] = south['tweet'].apply(remove_punc)\n",
    "east['tweet'] = east['tweet'].apply(remove_punc)"
   ]
  },
  {
   "cell_type": "code",
   "execution_count": 16,
   "metadata": {},
   "outputs": [],
   "source": [
    "from nltk.corpus import stopwords\n",
    "stop_words = stopwords.words('english')\n",
    "stop_words.extend(['from', 'subject', 're', 'edu', 'use','will','aap','co','day','user','tweet','today','week','year', 'https','httpstco', 'rt', 'RT'])"
   ]
  },
  {
   "cell_type": "code",
   "execution_count": 17,
   "metadata": {},
   "outputs": [],
   "source": [
    "# Remove stopwords and remove short words (less than 2 characters)\n",
    "def preprocess(text):\n",
    "    result = []\n",
    "    for token in gensim.utils.simple_preprocess(text):\n",
    "        if token not in stop_words and len(token) >= 2:\n",
    "            result.append(token)\n",
    "    return result"
   ]
  },
  {
   "cell_type": "code",
   "execution_count": 18,
   "metadata": {},
   "outputs": [],
   "source": [
    "west['tweet'] = west['tweet'].apply(preprocess).apply(lambda x: \" \".join(x))\n",
    "midwest['tweet'] = midwest['tweet'].apply(preprocess).apply(lambda x: \" \".join(x))\n",
    "south['tweet'] = south['tweet'].apply(preprocess).apply(lambda x: \" \".join(x))\n",
    "east['tweet'] = east['tweet'].apply(preprocess).apply(lambda x: \" \".join(x))\n"
   ]
  },
  {
   "cell_type": "code",
   "execution_count": 19,
   "metadata": {},
   "outputs": [],
   "source": [
    "# Function to get the subjectivity\n",
    "def getSubjectivity(text):\n",
    "    return TextBlob(text).sentiment.subjectivity\n",
    "\n",
    "# Create a function to get the polarity\n",
    "def getPolarity(text):\n",
    "    return TextBlob(text).sentiment.polarity\n",
    "\n",
    "# Creating two new columns Subjectivity, Polarity\n",
    "west['Subjectivity'] = west['tweet'].apply(getSubjectivity)\n",
    "west['Polarity'] = west['tweet'].apply(getPolarity)\n",
    "\n",
    "midwest['Subjectivity'] = midwest['tweet'].apply(getSubjectivity)\n",
    "midwest['Polarity'] = midwest['tweet'].apply(getPolarity)\n",
    "\n",
    "south['Subjectivity'] = south['tweet'].apply(getSubjectivity)\n",
    "south['Polarity'] = south['tweet'].apply(getPolarity)\n",
    "\n",
    "east['Subjectivity'] = east['tweet'].apply(getSubjectivity)\n",
    "east['Polarity'] = east['tweet'].apply(getPolarity)"
   ]
  },
  {
   "cell_type": "code",
   "execution_count": 20,
   "metadata": {},
   "outputs": [
    {
     "data": {
      "text/html": [
       "<div>\n",
       "<style scoped>\n",
       "    .dataframe tbody tr th:only-of-type {\n",
       "        vertical-align: middle;\n",
       "    }\n",
       "\n",
       "    .dataframe tbody tr th {\n",
       "        vertical-align: top;\n",
       "    }\n",
       "\n",
       "    .dataframe thead th {\n",
       "        text-align: right;\n",
       "    }\n",
       "</style>\n",
       "<table border=\"1\" class=\"dataframe\">\n",
       "  <thead>\n",
       "    <tr style=\"text-align: right;\">\n",
       "      <th></th>\n",
       "      <th>tweet_id</th>\n",
       "      <th>tweet</th>\n",
       "      <th>location</th>\n",
       "      <th>Subjectivity</th>\n",
       "      <th>Polarity</th>\n",
       "    </tr>\n",
       "  </thead>\n",
       "  <tbody>\n",
       "    <tr>\n",
       "      <th>0</th>\n",
       "      <td>3</td>\n",
       "      <td>prolife ass</td>\n",
       "      <td>Colorado</td>\n",
       "      <td>0.000000</td>\n",
       "      <td>0.000000</td>\n",
       "    </tr>\n",
       "    <tr>\n",
       "      <th>1</th>\n",
       "      <td>4</td>\n",
       "      <td>immunofever every single vaccination place nee...</td>\n",
       "      <td>Arizona</td>\n",
       "      <td>0.416667</td>\n",
       "      <td>0.238095</td>\n",
       "    </tr>\n",
       "    <tr>\n",
       "      <th>2</th>\n",
       "      <td>8</td>\n",
       "      <td>lisachristinect way line question man twofold ...</td>\n",
       "      <td>California</td>\n",
       "      <td>0.000000</td>\n",
       "      <td>0.000000</td>\n",
       "    </tr>\n",
       "    <tr>\n",
       "      <th>3</th>\n",
       "      <td>17</td>\n",
       "      <td>mailonline biontech strikes gold biotech compa...</td>\n",
       "      <td>Washington</td>\n",
       "      <td>0.566667</td>\n",
       "      <td>-0.133333</td>\n",
       "    </tr>\n",
       "    <tr>\n",
       "      <th>4</th>\n",
       "      <td>23</td>\n",
       "      <td>icklezoe trying hard fuck pandemic likely help</td>\n",
       "      <td>California</td>\n",
       "      <td>0.713889</td>\n",
       "      <td>-0.230556</td>\n",
       "    </tr>\n",
       "    <tr>\n",
       "      <th>...</th>\n",
       "      <td>...</td>\n",
       "      <td>...</td>\n",
       "      <td>...</td>\n",
       "      <td>...</td>\n",
       "      <td>...</td>\n",
       "    </tr>\n",
       "    <tr>\n",
       "      <th>577</th>\n",
       "      <td>3015</td>\n",
       "      <td>scampdog see running pcr tests cycles accuracy...</td>\n",
       "      <td>Arizona</td>\n",
       "      <td>0.545455</td>\n",
       "      <td>0.227273</td>\n",
       "    </tr>\n",
       "    <tr>\n",
       "      <th>578</th>\n",
       "      <td>3016</td>\n",
       "      <td>demand covid vaccine high local health departm...</td>\n",
       "      <td>Utah</td>\n",
       "      <td>0.360000</td>\n",
       "      <td>0.106667</td>\n",
       "    </tr>\n",
       "    <tr>\n",
       "      <th>579</th>\n",
       "      <td>3034</td>\n",
       "      <td>even best circumstances writes author rollout ...</td>\n",
       "      <td>Arizona</td>\n",
       "      <td>0.300000</td>\n",
       "      <td>1.000000</td>\n",
       "    </tr>\n",
       "    <tr>\n",
       "      <th>580</th>\n",
       "      <td>3036</td>\n",
       "      <td>westjournalism physician developed rare blood ...</td>\n",
       "      <td>Nevada</td>\n",
       "      <td>0.500000</td>\n",
       "      <td>0.133333</td>\n",
       "    </tr>\n",
       "    <tr>\n",
       "      <th>581</th>\n",
       "      <td>3055</td>\n",
       "      <td>case missed recording dhws second weekly media...</td>\n",
       "      <td>Idaho</td>\n",
       "      <td>0.000000</td>\n",
       "      <td>0.000000</td>\n",
       "    </tr>\n",
       "  </tbody>\n",
       "</table>\n",
       "<p>582 rows × 5 columns</p>\n",
       "</div>"
      ],
      "text/plain": [
       "     tweet_id                                              tweet    location  \\\n",
       "0           3                                        prolife ass    Colorado   \n",
       "1           4  immunofever every single vaccination place nee...     Arizona   \n",
       "2           8  lisachristinect way line question man twofold ...  California   \n",
       "3          17  mailonline biontech strikes gold biotech compa...  Washington   \n",
       "4          23     icklezoe trying hard fuck pandemic likely help  California   \n",
       "..        ...                                                ...         ...   \n",
       "577      3015  scampdog see running pcr tests cycles accuracy...     Arizona   \n",
       "578      3016  demand covid vaccine high local health departm...        Utah   \n",
       "579      3034  even best circumstances writes author rollout ...     Arizona   \n",
       "580      3036  westjournalism physician developed rare blood ...      Nevada   \n",
       "581      3055  case missed recording dhws second weekly media...       Idaho   \n",
       "\n",
       "     Subjectivity  Polarity  \n",
       "0        0.000000  0.000000  \n",
       "1        0.416667  0.238095  \n",
       "2        0.000000  0.000000  \n",
       "3        0.566667 -0.133333  \n",
       "4        0.713889 -0.230556  \n",
       "..            ...       ...  \n",
       "577      0.545455  0.227273  \n",
       "578      0.360000  0.106667  \n",
       "579      0.300000  1.000000  \n",
       "580      0.500000  0.133333  \n",
       "581      0.000000  0.000000  \n",
       "\n",
       "[582 rows x 5 columns]"
      ]
     },
     "execution_count": 20,
     "metadata": {},
     "output_type": "execute_result"
    }
   ],
   "source": [
    "west"
   ]
  },
  {
   "cell_type": "code",
   "execution_count": 21,
   "metadata": {},
   "outputs": [
    {
     "data": {
      "text/html": [
       "<div>\n",
       "<style scoped>\n",
       "    .dataframe tbody tr th:only-of-type {\n",
       "        vertical-align: middle;\n",
       "    }\n",
       "\n",
       "    .dataframe tbody tr th {\n",
       "        vertical-align: top;\n",
       "    }\n",
       "\n",
       "    .dataframe thead th {\n",
       "        text-align: right;\n",
       "    }\n",
       "</style>\n",
       "<table border=\"1\" class=\"dataframe\">\n",
       "  <thead>\n",
       "    <tr style=\"text-align: right;\">\n",
       "      <th></th>\n",
       "      <th>tweet_id</th>\n",
       "      <th>tweet</th>\n",
       "      <th>location</th>\n",
       "      <th>Subjectivity</th>\n",
       "      <th>Polarity</th>\n",
       "    </tr>\n",
       "  </thead>\n",
       "  <tbody>\n",
       "    <tr>\n",
       "      <th>0</th>\n",
       "      <td>6</td>\n",
       "      <td>mom called tell got covid vaccine got ran old ...</td>\n",
       "      <td>Michigan</td>\n",
       "      <td>0.200000</td>\n",
       "      <td>0.100000</td>\n",
       "    </tr>\n",
       "    <tr>\n",
       "      <th>1</th>\n",
       "      <td>19</td>\n",
       "      <td>straightforward always ken langone speaks facts</td>\n",
       "      <td>Minnesota</td>\n",
       "      <td>0.375000</td>\n",
       "      <td>0.375000</td>\n",
       "    </tr>\n",
       "    <tr>\n",
       "      <th>2</th>\n",
       "      <td>20</td>\n",
       "      <td>language effective reaching americans especial...</td>\n",
       "      <td>Michigan</td>\n",
       "      <td>0.622222</td>\n",
       "      <td>0.144444</td>\n",
       "    </tr>\n",
       "    <tr>\n",
       "      <th>3</th>\n",
       "      <td>24</td>\n",
       "      <td>usrebellion theyre prepping minds brainwashed ...</td>\n",
       "      <td>Michigan</td>\n",
       "      <td>0.517857</td>\n",
       "      <td>0.392857</td>\n",
       "    </tr>\n",
       "    <tr>\n",
       "      <th>4</th>\n",
       "      <td>27</td>\n",
       "      <td>charlesgaba update response govwhitmer</td>\n",
       "      <td>Wisconsin</td>\n",
       "      <td>0.000000</td>\n",
       "      <td>0.000000</td>\n",
       "    </tr>\n",
       "    <tr>\n",
       "      <th>...</th>\n",
       "      <td>...</td>\n",
       "      <td>...</td>\n",
       "      <td>...</td>\n",
       "      <td>...</td>\n",
       "      <td>...</td>\n",
       "    </tr>\n",
       "    <tr>\n",
       "      <th>477</th>\n",
       "      <td>3033</td>\n",
       "      <td>chicagotribune data released tuesday shows rou...</td>\n",
       "      <td>Illinois</td>\n",
       "      <td>0.377778</td>\n",
       "      <td>-0.050000</td>\n",
       "    </tr>\n",
       "    <tr>\n",
       "      <th>478</th>\n",
       "      <td>3035</td>\n",
       "      <td>nd dose covid vaccine kicked ass still noragrets</td>\n",
       "      <td>Minnesota</td>\n",
       "      <td>0.000000</td>\n",
       "      <td>0.000000</td>\n",
       "    </tr>\n",
       "    <tr>\n",
       "      <th>479</th>\n",
       "      <td>3044</td>\n",
       "      <td>biden plans release covid vaccine doses break ...</td>\n",
       "      <td>Illinois</td>\n",
       "      <td>0.000000</td>\n",
       "      <td>0.000000</td>\n",
       "    </tr>\n",
       "    <tr>\n",
       "      <th>480</th>\n",
       "      <td>3052</td>\n",
       "      <td>icymi new heritage hall ohiou opens doors covi...</td>\n",
       "      <td>Ohio</td>\n",
       "      <td>0.454545</td>\n",
       "      <td>0.136364</td>\n",
       "    </tr>\n",
       "    <tr>\n",
       "      <th>481</th>\n",
       "      <td>3053</td>\n",
       "      <td>yesterday gets first covid vaccine gets text s...</td>\n",
       "      <td>Wisconsin</td>\n",
       "      <td>0.439394</td>\n",
       "      <td>0.238636</td>\n",
       "    </tr>\n",
       "  </tbody>\n",
       "</table>\n",
       "<p>482 rows × 5 columns</p>\n",
       "</div>"
      ],
      "text/plain": [
       "     tweet_id                                              tweet   location  \\\n",
       "0           6  mom called tell got covid vaccine got ran old ...   Michigan   \n",
       "1          19    straightforward always ken langone speaks facts  Minnesota   \n",
       "2          20  language effective reaching americans especial...   Michigan   \n",
       "3          24  usrebellion theyre prepping minds brainwashed ...   Michigan   \n",
       "4          27             charlesgaba update response govwhitmer  Wisconsin   \n",
       "..        ...                                                ...        ...   \n",
       "477      3033  chicagotribune data released tuesday shows rou...   Illinois   \n",
       "478      3035   nd dose covid vaccine kicked ass still noragrets  Minnesota   \n",
       "479      3044  biden plans release covid vaccine doses break ...   Illinois   \n",
       "480      3052  icymi new heritage hall ohiou opens doors covi...       Ohio   \n",
       "481      3053  yesterday gets first covid vaccine gets text s...  Wisconsin   \n",
       "\n",
       "     Subjectivity  Polarity  \n",
       "0        0.200000  0.100000  \n",
       "1        0.375000  0.375000  \n",
       "2        0.622222  0.144444  \n",
       "3        0.517857  0.392857  \n",
       "4        0.000000  0.000000  \n",
       "..            ...       ...  \n",
       "477      0.377778 -0.050000  \n",
       "478      0.000000  0.000000  \n",
       "479      0.000000  0.000000  \n",
       "480      0.454545  0.136364  \n",
       "481      0.439394  0.238636  \n",
       "\n",
       "[482 rows x 5 columns]"
      ]
     },
     "execution_count": 21,
     "metadata": {},
     "output_type": "execute_result"
    }
   ],
   "source": [
    "midwest"
   ]
  },
  {
   "cell_type": "code",
   "execution_count": 22,
   "metadata": {},
   "outputs": [
    {
     "data": {
      "text/html": [
       "<div>\n",
       "<style scoped>\n",
       "    .dataframe tbody tr th:only-of-type {\n",
       "        vertical-align: middle;\n",
       "    }\n",
       "\n",
       "    .dataframe tbody tr th {\n",
       "        vertical-align: top;\n",
       "    }\n",
       "\n",
       "    .dataframe thead th {\n",
       "        text-align: right;\n",
       "    }\n",
       "</style>\n",
       "<table border=\"1\" class=\"dataframe\">\n",
       "  <thead>\n",
       "    <tr style=\"text-align: right;\">\n",
       "      <th></th>\n",
       "      <th>tweet_id</th>\n",
       "      <th>tweet</th>\n",
       "      <th>location</th>\n",
       "      <th>Subjectivity</th>\n",
       "      <th>Polarity</th>\n",
       "    </tr>\n",
       "  </thead>\n",
       "  <tbody>\n",
       "    <tr>\n",
       "      <th>0</th>\n",
       "      <td>7</td>\n",
       "      <td>mistresshicks needs covid vaccine httpstcopdh ...</td>\n",
       "      <td>Texas</td>\n",
       "      <td>0.000000</td>\n",
       "      <td>0.000000</td>\n",
       "    </tr>\n",
       "    <tr>\n",
       "      <th>1</th>\n",
       "      <td>11</td>\n",
       "      <td>joebiden folks received second dose covid vacc...</td>\n",
       "      <td>West Virginia</td>\n",
       "      <td>0.333333</td>\n",
       "      <td>0.270833</td>\n",
       "    </tr>\n",
       "    <tr>\n",
       "      <th>2</th>\n",
       "      <td>14</td>\n",
       "      <td>okprogressnow stitt skips right part number co...</td>\n",
       "      <td>Oklahoma</td>\n",
       "      <td>0.467857</td>\n",
       "      <td>0.067857</td>\n",
       "    </tr>\n",
       "    <tr>\n",
       "      <th>3</th>\n",
       "      <td>18</td>\n",
       "      <td>janicedean nygovcuomo may get away deadly marc...</td>\n",
       "      <td>Florida</td>\n",
       "      <td>0.625000</td>\n",
       "      <td>-0.300000</td>\n",
       "    </tr>\n",
       "    <tr>\n",
       "      <th>4</th>\n",
       "      <td>25</td>\n",
       "      <td>drdavidsamadi trump administration distributed...</td>\n",
       "      <td>South Carolina</td>\n",
       "      <td>1.000000</td>\n",
       "      <td>-0.500000</td>\n",
       "    </tr>\n",
       "    <tr>\n",
       "      <th>...</th>\n",
       "      <td>...</td>\n",
       "      <td>...</td>\n",
       "      <td>...</td>\n",
       "      <td>...</td>\n",
       "      <td>...</td>\n",
       "    </tr>\n",
       "    <tr>\n",
       "      <th>963</th>\n",
       "      <td>3045</td>\n",
       "      <td>cestephens louisiana administered doses covid ...</td>\n",
       "      <td>Louisiana</td>\n",
       "      <td>0.900000</td>\n",
       "      <td>0.500000</td>\n",
       "    </tr>\n",
       "    <tr>\n",
       "      <th>964</th>\n",
       "      <td>3046</td>\n",
       "      <td>highimpactflix wanted yet another excuse home ...</td>\n",
       "      <td>Florida</td>\n",
       "      <td>0.400000</td>\n",
       "      <td>0.375000</td>\n",
       "    </tr>\n",
       "    <tr>\n",
       "      <th>965</th>\n",
       "      <td>3050</td>\n",
       "      <td>sahanasrini make covid charge distributing cov...</td>\n",
       "      <td>Florida</td>\n",
       "      <td>0.600000</td>\n",
       "      <td>0.200000</td>\n",
       "    </tr>\n",
       "    <tr>\n",
       "      <th>966</th>\n",
       "      <td>3051</td>\n",
       "      <td>januarys rtp nsbe general body meeting virtual...</td>\n",
       "      <td>North Carolina</td>\n",
       "      <td>0.450000</td>\n",
       "      <td>0.025000</td>\n",
       "    </tr>\n",
       "    <tr>\n",
       "      <th>967</th>\n",
       "      <td>3054</td>\n",
       "      <td>whatever gotta get stuff veins huh covidvaccin...</td>\n",
       "      <td>Florida</td>\n",
       "      <td>0.000000</td>\n",
       "      <td>0.000000</td>\n",
       "    </tr>\n",
       "  </tbody>\n",
       "</table>\n",
       "<p>968 rows × 5 columns</p>\n",
       "</div>"
      ],
      "text/plain": [
       "     tweet_id                                              tweet  \\\n",
       "0           7  mistresshicks needs covid vaccine httpstcopdh ...   \n",
       "1          11  joebiden folks received second dose covid vacc...   \n",
       "2          14  okprogressnow stitt skips right part number co...   \n",
       "3          18  janicedean nygovcuomo may get away deadly marc...   \n",
       "4          25  drdavidsamadi trump administration distributed...   \n",
       "..        ...                                                ...   \n",
       "963      3045  cestephens louisiana administered doses covid ...   \n",
       "964      3046  highimpactflix wanted yet another excuse home ...   \n",
       "965      3050  sahanasrini make covid charge distributing cov...   \n",
       "966      3051  januarys rtp nsbe general body meeting virtual...   \n",
       "967      3054  whatever gotta get stuff veins huh covidvaccin...   \n",
       "\n",
       "           location  Subjectivity  Polarity  \n",
       "0             Texas      0.000000  0.000000  \n",
       "1     West Virginia      0.333333  0.270833  \n",
       "2          Oklahoma      0.467857  0.067857  \n",
       "3           Florida      0.625000 -0.300000  \n",
       "4    South Carolina      1.000000 -0.500000  \n",
       "..              ...           ...       ...  \n",
       "963       Louisiana      0.900000  0.500000  \n",
       "964         Florida      0.400000  0.375000  \n",
       "965         Florida      0.600000  0.200000  \n",
       "966  North Carolina      0.450000  0.025000  \n",
       "967         Florida      0.000000  0.000000  \n",
       "\n",
       "[968 rows x 5 columns]"
      ]
     },
     "execution_count": 22,
     "metadata": {},
     "output_type": "execute_result"
    }
   ],
   "source": [
    "south"
   ]
  },
  {
   "cell_type": "code",
   "execution_count": 23,
   "metadata": {},
   "outputs": [
    {
     "data": {
      "text/html": [
       "<div>\n",
       "<style scoped>\n",
       "    .dataframe tbody tr th:only-of-type {\n",
       "        vertical-align: middle;\n",
       "    }\n",
       "\n",
       "    .dataframe tbody tr th {\n",
       "        vertical-align: top;\n",
       "    }\n",
       "\n",
       "    .dataframe thead th {\n",
       "        text-align: right;\n",
       "    }\n",
       "</style>\n",
       "<table border=\"1\" class=\"dataframe\">\n",
       "  <thead>\n",
       "    <tr style=\"text-align: right;\">\n",
       "      <th></th>\n",
       "      <th>tweet_id</th>\n",
       "      <th>tweet</th>\n",
       "      <th>location</th>\n",
       "      <th>Subjectivity</th>\n",
       "      <th>Polarity</th>\n",
       "    </tr>\n",
       "  </thead>\n",
       "  <tbody>\n",
       "    <tr>\n",
       "      <th>0</th>\n",
       "      <td>2</td>\n",
       "      <td>ive trying sign yearold grandfather get covid ...</td>\n",
       "      <td>New York</td>\n",
       "      <td>0.000000</td>\n",
       "      <td>0.000000</td>\n",
       "    </tr>\n",
       "    <tr>\n",
       "      <th>1</th>\n",
       "      <td>5</td>\n",
       "      <td>wsj us officials suggest anyone preexisting co...</td>\n",
       "      <td>New York</td>\n",
       "      <td>0.800000</td>\n",
       "      <td>0.400000</td>\n",
       "    </tr>\n",
       "    <tr>\n",
       "      <th>2</th>\n",
       "      <td>9</td>\n",
       "      <td>ceuhungary ellismonk jadaliyya fatmamugegocek ...</td>\n",
       "      <td>Rhode Island</td>\n",
       "      <td>0.000000</td>\n",
       "      <td>0.000000</td>\n",
       "    </tr>\n",
       "    <tr>\n",
       "      <th>3</th>\n",
       "      <td>10</td>\n",
       "      <td>new jersey residents ages older eligible covid...</td>\n",
       "      <td>New Jersey</td>\n",
       "      <td>0.393939</td>\n",
       "      <td>0.151515</td>\n",
       "    </tr>\n",
       "    <tr>\n",
       "      <th>4</th>\n",
       "      <td>12</td>\n",
       "      <td>matryanelateach get covid vaccine parents seve...</td>\n",
       "      <td>Massachusetts</td>\n",
       "      <td>0.000000</td>\n",
       "      <td>0.000000</td>\n",
       "    </tr>\n",
       "    <tr>\n",
       "      <th>...</th>\n",
       "      <td>...</td>\n",
       "      <td>...</td>\n",
       "      <td>...</td>\n",
       "      <td>...</td>\n",
       "      <td>...</td>\n",
       "    </tr>\n",
       "    <tr>\n",
       "      <th>851</th>\n",
       "      <td>3047</td>\n",
       "      <td>doses covid vaccine administered county httpst...</td>\n",
       "      <td>New York</td>\n",
       "      <td>0.000000</td>\n",
       "      <td>0.000000</td>\n",
       "    </tr>\n",
       "    <tr>\n",
       "      <th>852</th>\n",
       "      <td>3049</td>\n",
       "      <td>known potential benefits product used diagnose...</td>\n",
       "      <td>Maine</td>\n",
       "      <td>0.833333</td>\n",
       "      <td>-0.166667</td>\n",
       "    </tr>\n",
       "    <tr>\n",
       "      <th>853</th>\n",
       "      <td>3056</td>\n",
       "      <td>new jersey residents ages older eligible covid...</td>\n",
       "      <td>New Jersey</td>\n",
       "      <td>0.393939</td>\n",
       "      <td>0.151515</td>\n",
       "    </tr>\n",
       "    <tr>\n",
       "      <th>854</th>\n",
       "      <td>3057</td>\n",
       "      <td>news waiting</td>\n",
       "      <td>New York</td>\n",
       "      <td>0.000000</td>\n",
       "      <td>0.000000</td>\n",
       "    </tr>\n",
       "    <tr>\n",
       "      <th>855</th>\n",
       "      <td>3058</td>\n",
       "      <td>silver lining dark cloud covid brings promisin...</td>\n",
       "      <td>New Hampshire</td>\n",
       "      <td>0.451515</td>\n",
       "      <td>0.062121</td>\n",
       "    </tr>\n",
       "  </tbody>\n",
       "</table>\n",
       "<p>856 rows × 5 columns</p>\n",
       "</div>"
      ],
      "text/plain": [
       "     tweet_id                                              tweet  \\\n",
       "0           2  ive trying sign yearold grandfather get covid ...   \n",
       "1           5  wsj us officials suggest anyone preexisting co...   \n",
       "2           9  ceuhungary ellismonk jadaliyya fatmamugegocek ...   \n",
       "3          10  new jersey residents ages older eligible covid...   \n",
       "4          12  matryanelateach get covid vaccine parents seve...   \n",
       "..        ...                                                ...   \n",
       "851      3047  doses covid vaccine administered county httpst...   \n",
       "852      3049  known potential benefits product used diagnose...   \n",
       "853      3056  new jersey residents ages older eligible covid...   \n",
       "854      3057                                       news waiting   \n",
       "855      3058  silver lining dark cloud covid brings promisin...   \n",
       "\n",
       "          location  Subjectivity  Polarity  \n",
       "0         New York      0.000000  0.000000  \n",
       "1         New York      0.800000  0.400000  \n",
       "2     Rhode Island      0.000000  0.000000  \n",
       "3       New Jersey      0.393939  0.151515  \n",
       "4    Massachusetts      0.000000  0.000000  \n",
       "..             ...           ...       ...  \n",
       "851       New York      0.000000  0.000000  \n",
       "852          Maine      0.833333 -0.166667  \n",
       "853     New Jersey      0.393939  0.151515  \n",
       "854       New York      0.000000  0.000000  \n",
       "855  New Hampshire      0.451515  0.062121  \n",
       "\n",
       "[856 rows x 5 columns]"
      ]
     },
     "execution_count": 23,
     "metadata": {},
     "output_type": "execute_result"
    }
   ],
   "source": [
    "east"
   ]
  },
  {
   "cell_type": "code",
   "execution_count": 24,
   "metadata": {},
   "outputs": [],
   "source": [
    "# Create a function to compute the negative, neutral and positive analysis\n",
    "def getAnalysis(score):\n",
    "    if score < 0:\n",
    "        return 'Negative'\n",
    "    elif score == 0:\n",
    "        return \"Neutral\"\n",
    "    else:\n",
    "        return 'Positive'\n",
    "\n",
    "west['West Analysis'] = west['Polarity'].apply(getAnalysis)\n",
    "midwest['MidWest'] = midwest['Polarity'].apply(getAnalysis)\n",
    "south['South Analysis'] = south['Polarity'].apply(getAnalysis)\n",
    "east['East Analysis'] = east['Polarity'].apply(getAnalysis)"
   ]
  },
  {
   "cell_type": "code",
   "execution_count": 25,
   "metadata": {},
   "outputs": [
    {
     "data": {
      "text/html": [
       "<div>\n",
       "<style scoped>\n",
       "    .dataframe tbody tr th:only-of-type {\n",
       "        vertical-align: middle;\n",
       "    }\n",
       "\n",
       "    .dataframe tbody tr th {\n",
       "        vertical-align: top;\n",
       "    }\n",
       "\n",
       "    .dataframe thead th {\n",
       "        text-align: right;\n",
       "    }\n",
       "</style>\n",
       "<table border=\"1\" class=\"dataframe\">\n",
       "  <thead>\n",
       "    <tr style=\"text-align: right;\">\n",
       "      <th></th>\n",
       "      <th>tweet_id</th>\n",
       "      <th>tweet</th>\n",
       "      <th>location</th>\n",
       "      <th>Subjectivity</th>\n",
       "      <th>Polarity</th>\n",
       "      <th>West Analysis</th>\n",
       "    </tr>\n",
       "  </thead>\n",
       "  <tbody>\n",
       "    <tr>\n",
       "      <th>0</th>\n",
       "      <td>3</td>\n",
       "      <td>prolife ass</td>\n",
       "      <td>Colorado</td>\n",
       "      <td>0.000000</td>\n",
       "      <td>0.000000</td>\n",
       "      <td>Neutral</td>\n",
       "    </tr>\n",
       "    <tr>\n",
       "      <th>1</th>\n",
       "      <td>4</td>\n",
       "      <td>immunofever every single vaccination place nee...</td>\n",
       "      <td>Arizona</td>\n",
       "      <td>0.416667</td>\n",
       "      <td>0.238095</td>\n",
       "      <td>Positive</td>\n",
       "    </tr>\n",
       "    <tr>\n",
       "      <th>2</th>\n",
       "      <td>8</td>\n",
       "      <td>lisachristinect way line question man twofold ...</td>\n",
       "      <td>California</td>\n",
       "      <td>0.000000</td>\n",
       "      <td>0.000000</td>\n",
       "      <td>Neutral</td>\n",
       "    </tr>\n",
       "    <tr>\n",
       "      <th>3</th>\n",
       "      <td>17</td>\n",
       "      <td>mailonline biontech strikes gold biotech compa...</td>\n",
       "      <td>Washington</td>\n",
       "      <td>0.566667</td>\n",
       "      <td>-0.133333</td>\n",
       "      <td>Negative</td>\n",
       "    </tr>\n",
       "    <tr>\n",
       "      <th>4</th>\n",
       "      <td>23</td>\n",
       "      <td>icklezoe trying hard fuck pandemic likely help</td>\n",
       "      <td>California</td>\n",
       "      <td>0.713889</td>\n",
       "      <td>-0.230556</td>\n",
       "      <td>Negative</td>\n",
       "    </tr>\n",
       "  </tbody>\n",
       "</table>\n",
       "</div>"
      ],
      "text/plain": [
       "   tweet_id                                              tweet    location  \\\n",
       "0         3                                        prolife ass    Colorado   \n",
       "1         4  immunofever every single vaccination place nee...     Arizona   \n",
       "2         8  lisachristinect way line question man twofold ...  California   \n",
       "3        17  mailonline biontech strikes gold biotech compa...  Washington   \n",
       "4        23     icklezoe trying hard fuck pandemic likely help  California   \n",
       "\n",
       "   Subjectivity  Polarity West Analysis  \n",
       "0      0.000000  0.000000       Neutral  \n",
       "1      0.416667  0.238095      Positive  \n",
       "2      0.000000  0.000000       Neutral  \n",
       "3      0.566667 -0.133333      Negative  \n",
       "4      0.713889 -0.230556      Negative  "
      ]
     },
     "execution_count": 25,
     "metadata": {},
     "output_type": "execute_result"
    }
   ],
   "source": [
    "west.head()"
   ]
  },
  {
   "cell_type": "code",
   "execution_count": 26,
   "metadata": {},
   "outputs": [
    {
     "data": {
      "text/plain": [
       "<matplotlib.axes._subplots.AxesSubplot at 0x12fd2b0a0>"
      ]
     },
     "execution_count": 26,
     "metadata": {},
     "output_type": "execute_result"
    },
    {
     "data": {
      "image/png": "[encoded data removed]",
      "text/plain": [
       "<Figure size 504x504 with 1 Axes>"
      ]
     },
     "metadata": {},
     "output_type": "display_data"
    }
   ],
   "source": [
    "west['West Analysis'].value_counts().plot(kind='pie', autopct='%1.1f%%', figsize=(7,7), colors=['blue', 'green', 'orange'])"
   ]
  },
  {
   "cell_type": "code",
   "execution_count": 27,
   "metadata": {},
   "outputs": [
    {
     "data": {
      "text/plain": [
       "<matplotlib.axes._subplots.AxesSubplot at 0x12f7089d0>"
      ]
     },
     "execution_count": 27,
     "metadata": {},
     "output_type": "execute_result"
    },
    {
     "data": {
      "image/png": "[encoded data removed]",
      "text/plain": [
       "<Figure size 504x504 with 1 Axes>"
      ]
     },
     "metadata": {},
     "output_type": "display_data"
    }
   ],
   "source": [
    "midwest['MidWest'].value_counts().plot(kind='pie', autopct='%1.1f%%', figsize=(7,7), colors=['green', 'orange', 'blue'])"
   ]
  },
  {
   "cell_type": "code",
   "execution_count": 28,
   "metadata": {},
   "outputs": [
    {
     "data": {
      "text/plain": [
       "<matplotlib.axes._subplots.AxesSubplot at 0x1301a95b0>"
      ]
     },
     "execution_count": 28,
     "metadata": {},
     "output_type": "execute_result"
    },
    {
     "data": {
      "image/png": "[encoded data removed]",
      "text/plain": [
       "<Figure size 504x504 with 1 Axes>"
      ]
     },
     "metadata": {},
     "output_type": "display_data"
    }
   ],
   "source": [
    "south['South Analysis'].value_counts().plot(kind='pie', autopct='%1.1f%%', figsize=(7,7), colors=['green', 'blue', 'orange'])"
   ]
  },
  {
   "cell_type": "code",
   "execution_count": 29,
   "metadata": {},
   "outputs": [
    {
     "data": {
      "text/plain": [
       "<matplotlib.axes._subplots.AxesSubplot at 0x130288280>"
      ]
     },
     "execution_count": 29,
     "metadata": {},
     "output_type": "execute_result"
    },
    {
     "data": {
      "image/png": "[encoded data removed]",
      "text/plain": [
       "<Figure size 504x504 with 1 Axes>"
      ]
     },
     "metadata": {},
     "output_type": "display_data"
    }
   ],
   "source": [
    "east['East Analysis'].value_counts().plot(kind='pie', autopct='%1.1f%%', figsize=(7,7), colors=['green', 'blue', 'orange'])"
   ]
  },
  {
   "cell_type": "code",
   "execution_count": 30,
   "metadata": {},
   "outputs": [
    {
     "data": {
      "text/html": [
       "<div>\n",
       "<style scoped>\n",
       "    .dataframe tbody tr th:only-of-type {\n",
       "        vertical-align: middle;\n",
       "    }\n",
       "\n",
       "    .dataframe tbody tr th {\n",
       "        vertical-align: top;\n",
       "    }\n",
       "\n",
       "    .dataframe thead th {\n",
       "        text-align: right;\n",
       "    }\n",
       "</style>\n",
       "<table border=\"1\" class=\"dataframe\">\n",
       "  <thead>\n",
       "    <tr style=\"text-align: right;\">\n",
       "      <th></th>\n",
       "      <th>West Analysis</th>\n",
       "      <th>MidWest Analysis</th>\n",
       "      <th>South Analysis</th>\n",
       "      <th>East Analysis</th>\n",
       "    </tr>\n",
       "  </thead>\n",
       "  <tbody>\n",
       "    <tr>\n",
       "      <th>0</th>\n",
       "      <td>Neutral</td>\n",
       "      <td>Positive</td>\n",
       "      <td>Neutral</td>\n",
       "      <td>Neutral</td>\n",
       "    </tr>\n",
       "    <tr>\n",
       "      <th>1</th>\n",
       "      <td>Positive</td>\n",
       "      <td>Positive</td>\n",
       "      <td>Positive</td>\n",
       "      <td>Positive</td>\n",
       "    </tr>\n",
       "    <tr>\n",
       "      <th>2</th>\n",
       "      <td>Neutral</td>\n",
       "      <td>Positive</td>\n",
       "      <td>Positive</td>\n",
       "      <td>Neutral</td>\n",
       "    </tr>\n",
       "    <tr>\n",
       "      <th>3</th>\n",
       "      <td>Negative</td>\n",
       "      <td>Positive</td>\n",
       "      <td>Negative</td>\n",
       "      <td>Positive</td>\n",
       "    </tr>\n",
       "    <tr>\n",
       "      <th>4</th>\n",
       "      <td>Negative</td>\n",
       "      <td>Neutral</td>\n",
       "      <td>Negative</td>\n",
       "      <td>Neutral</td>\n",
       "    </tr>\n",
       "  </tbody>\n",
       "</table>\n",
       "</div>"
      ],
      "text/plain": [
       "  West Analysis MidWest Analysis South Analysis East Analysis\n",
       "0       Neutral         Positive        Neutral       Neutral\n",
       "1      Positive         Positive       Positive      Positive\n",
       "2       Neutral         Positive       Positive       Neutral\n",
       "3      Negative         Positive       Negative      Positive\n",
       "4      Negative          Neutral       Negative       Neutral"
      ]
     },
     "execution_count": 30,
     "metadata": {},
     "output_type": "execute_result"
    }
   ],
   "source": [
    "df = pd.DataFrame({'West Analysis':west['West Analysis'], 'MidWest Analysis': midwest['MidWest'], 'South Analysis': south['South Analysis'], 'East Analysis': east['East Analysis']})\n",
    "df.head()\n"
   ]
  },
  {
   "cell_type": "code",
   "execution_count": 31,
   "metadata": {},
   "outputs": [
    {
     "data": {
      "text/html": [
       "<div>\n",
       "<style scoped>\n",
       "    .dataframe tbody tr th:only-of-type {\n",
       "        vertical-align: middle;\n",
       "    }\n",
       "\n",
       "    .dataframe tbody tr th {\n",
       "        vertical-align: top;\n",
       "    }\n",
       "\n",
       "    .dataframe thead th {\n",
       "        text-align: right;\n",
       "    }\n",
       "</style>\n",
       "<table border=\"1\" class=\"dataframe\">\n",
       "  <thead>\n",
       "    <tr style=\"text-align: right;\">\n",
       "      <th></th>\n",
       "      <th>West Analysis</th>\n",
       "      <th>MidWest Analysis</th>\n",
       "      <th>South Analysis</th>\n",
       "      <th>East Analysis</th>\n",
       "    </tr>\n",
       "  </thead>\n",
       "  <tbody>\n",
       "    <tr>\n",
       "      <th>963</th>\n",
       "      <td>NaN</td>\n",
       "      <td>NaN</td>\n",
       "      <td>Positive</td>\n",
       "      <td>NaN</td>\n",
       "    </tr>\n",
       "    <tr>\n",
       "      <th>964</th>\n",
       "      <td>NaN</td>\n",
       "      <td>NaN</td>\n",
       "      <td>Positive</td>\n",
       "      <td>NaN</td>\n",
       "    </tr>\n",
       "    <tr>\n",
       "      <th>965</th>\n",
       "      <td>NaN</td>\n",
       "      <td>NaN</td>\n",
       "      <td>Positive</td>\n",
       "      <td>NaN</td>\n",
       "    </tr>\n",
       "    <tr>\n",
       "      <th>966</th>\n",
       "      <td>NaN</td>\n",
       "      <td>NaN</td>\n",
       "      <td>Positive</td>\n",
       "      <td>NaN</td>\n",
       "    </tr>\n",
       "    <tr>\n",
       "      <th>967</th>\n",
       "      <td>NaN</td>\n",
       "      <td>NaN</td>\n",
       "      <td>Neutral</td>\n",
       "      <td>NaN</td>\n",
       "    </tr>\n",
       "  </tbody>\n",
       "</table>\n",
       "</div>"
      ],
      "text/plain": [
       "    West Analysis MidWest Analysis South Analysis East Analysis\n",
       "963           NaN              NaN       Positive           NaN\n",
       "964           NaN              NaN       Positive           NaN\n",
       "965           NaN              NaN       Positive           NaN\n",
       "966           NaN              NaN       Positive           NaN\n",
       "967           NaN              NaN        Neutral           NaN"
      ]
     },
     "execution_count": 31,
     "metadata": {},
     "output_type": "execute_result"
    }
   ],
   "source": [
    "df.tail()"
   ]
  },
  {
   "cell_type": "code",
   "execution_count": 32,
   "metadata": {},
   "outputs": [],
   "source": [
    "df2 = df.apply(pd.value_counts)"
   ]
  },
  {
   "cell_type": "code",
   "execution_count": 33,
   "metadata": {},
   "outputs": [
    {
     "data": {
      "text/html": [
       "<div>\n",
       "<style scoped>\n",
       "    .dataframe tbody tr th:only-of-type {\n",
       "        vertical-align: middle;\n",
       "    }\n",
       "\n",
       "    .dataframe tbody tr th {\n",
       "        vertical-align: top;\n",
       "    }\n",
       "\n",
       "    .dataframe thead th {\n",
       "        text-align: right;\n",
       "    }\n",
       "</style>\n",
       "<table border=\"1\" class=\"dataframe\">\n",
       "  <thead>\n",
       "    <tr style=\"text-align: right;\">\n",
       "      <th></th>\n",
       "      <th>West Analysis</th>\n",
       "      <th>MidWest Analysis</th>\n",
       "      <th>South Analysis</th>\n",
       "      <th>East Analysis</th>\n",
       "    </tr>\n",
       "  </thead>\n",
       "  <tbody>\n",
       "    <tr>\n",
       "      <th>Negative</th>\n",
       "      <td>78</td>\n",
       "      <td>88</td>\n",
       "      <td>154</td>\n",
       "      <td>165</td>\n",
       "    </tr>\n",
       "    <tr>\n",
       "      <th>Neutral</th>\n",
       "      <td>274</td>\n",
       "      <td>194</td>\n",
       "      <td>430</td>\n",
       "      <td>350</td>\n",
       "    </tr>\n",
       "    <tr>\n",
       "      <th>Positive</th>\n",
       "      <td>230</td>\n",
       "      <td>200</td>\n",
       "      <td>384</td>\n",
       "      <td>341</td>\n",
       "    </tr>\n",
       "  </tbody>\n",
       "</table>\n",
       "</div>"
      ],
      "text/plain": [
       "          West Analysis  MidWest Analysis  South Analysis  East Analysis\n",
       "Negative             78                88             154            165\n",
       "Neutral             274               194             430            350\n",
       "Positive            230               200             384            341"
      ]
     },
     "execution_count": 33,
     "metadata": {},
     "output_type": "execute_result"
    }
   ],
   "source": [
    "df2"
   ]
  },
  {
   "cell_type": "code",
   "execution_count": 34,
   "metadata": {},
   "outputs": [],
   "source": [
    "# df2 = df2.rename(columns={'index':'Analysis'})"
   ]
  },
  {
   "cell_type": "code",
   "execution_count": 35,
   "metadata": {},
   "outputs": [],
   "source": [
    "# df2"
   ]
  },
  {
   "cell_type": "code",
   "execution_count": 36,
   "metadata": {},
   "outputs": [
    {
     "data": {
      "text/plain": [
       "<matplotlib.axes._subplots.AxesSubplot at 0x13037e790>"
      ]
     },
     "execution_count": 36,
     "metadata": {},
     "output_type": "execute_result"
    },
    {
     "data": {
      "image/png": "[encoded data removed]",
      "text/plain": [
       "<Figure size 432x288 with 1 Axes>"
      ]
     },
     "metadata": {
      "needs_background": "light"
     },
     "output_type": "display_data"
    }
   ],
   "source": [
    "df2.plot(y=['West Analysis', 'MidWest Analysis', 'South Analysis', 'East Analysis'], kind='bar')"
   ]
  },
  {
   "cell_type": "code",
   "execution_count": 37,
   "metadata": {},
   "outputs": [
    {
     "data": {
      "text/html": [
       "<div>\n",
       "<style scoped>\n",
       "    .dataframe tbody tr th:only-of-type {\n",
       "        vertical-align: middle;\n",
       "    }\n",
       "\n",
       "    .dataframe tbody tr th {\n",
       "        vertical-align: top;\n",
       "    }\n",
       "\n",
       "    .dataframe thead th {\n",
       "        text-align: right;\n",
       "    }\n",
       "</style>\n",
       "<table border=\"1\" class=\"dataframe\">\n",
       "  <thead>\n",
       "    <tr style=\"text-align: right;\">\n",
       "      <th></th>\n",
       "      <th>Negative</th>\n",
       "      <th>Neutral</th>\n",
       "      <th>Positive</th>\n",
       "    </tr>\n",
       "  </thead>\n",
       "  <tbody>\n",
       "    <tr>\n",
       "      <th>West Analysis</th>\n",
       "      <td>78</td>\n",
       "      <td>274</td>\n",
       "      <td>230</td>\n",
       "    </tr>\n",
       "    <tr>\n",
       "      <th>MidWest Analysis</th>\n",
       "      <td>88</td>\n",
       "      <td>194</td>\n",
       "      <td>200</td>\n",
       "    </tr>\n",
       "    <tr>\n",
       "      <th>South Analysis</th>\n",
       "      <td>154</td>\n",
       "      <td>430</td>\n",
       "      <td>384</td>\n",
       "    </tr>\n",
       "    <tr>\n",
       "      <th>East Analysis</th>\n",
       "      <td>165</td>\n",
       "      <td>350</td>\n",
       "      <td>341</td>\n",
       "    </tr>\n",
       "  </tbody>\n",
       "</table>\n",
       "</div>"
      ],
      "text/plain": [
       "                  Negative  Neutral  Positive\n",
       "West Analysis           78      274       230\n",
       "MidWest Analysis        88      194       200\n",
       "South Analysis         154      430       384\n",
       "East Analysis          165      350       341"
      ]
     },
     "execution_count": 37,
     "metadata": {},
     "output_type": "execute_result"
    }
   ],
   "source": [
    "df3 = df2.T\n",
    "df3"
   ]
  },
  {
   "cell_type": "code",
   "execution_count": null,
   "metadata": {},
   "outputs": [],
   "source": []
  },
  {
   "cell_type": "code",
   "execution_count": 38,
   "metadata": {},
   "outputs": [
    {
     "data": {
      "text/html": [
       "<div>\n",
       "<style scoped>\n",
       "    .dataframe tbody tr th:only-of-type {\n",
       "        vertical-align: middle;\n",
       "    }\n",
       "\n",
       "    .dataframe tbody tr th {\n",
       "        vertical-align: top;\n",
       "    }\n",
       "\n",
       "    .dataframe thead th {\n",
       "        text-align: right;\n",
       "    }\n",
       "</style>\n",
       "<table border=\"1\" class=\"dataframe\">\n",
       "  <thead>\n",
       "    <tr style=\"text-align: right;\">\n",
       "      <th></th>\n",
       "      <th>USA REGIONS</th>\n",
       "      <th>Negative</th>\n",
       "      <th>Neutral</th>\n",
       "      <th>Positive</th>\n",
       "    </tr>\n",
       "  </thead>\n",
       "  <tbody>\n",
       "    <tr>\n",
       "      <th>0</th>\n",
       "      <td>West Analysis</td>\n",
       "      <td>78</td>\n",
       "      <td>274</td>\n",
       "      <td>230</td>\n",
       "    </tr>\n",
       "    <tr>\n",
       "      <th>1</th>\n",
       "      <td>MidWest Analysis</td>\n",
       "      <td>88</td>\n",
       "      <td>194</td>\n",
       "      <td>200</td>\n",
       "    </tr>\n",
       "    <tr>\n",
       "      <th>2</th>\n",
       "      <td>South Analysis</td>\n",
       "      <td>154</td>\n",
       "      <td>430</td>\n",
       "      <td>384</td>\n",
       "    </tr>\n",
       "    <tr>\n",
       "      <th>3</th>\n",
       "      <td>East Analysis</td>\n",
       "      <td>165</td>\n",
       "      <td>350</td>\n",
       "      <td>341</td>\n",
       "    </tr>\n",
       "  </tbody>\n",
       "</table>\n",
       "</div>"
      ],
      "text/plain": [
       "        USA REGIONS  Negative  Neutral  Positive\n",
       "0     West Analysis        78      274       230\n",
       "1  MidWest Analysis        88      194       200\n",
       "2    South Analysis       154      430       384\n",
       "3     East Analysis       165      350       341"
      ]
     },
     "execution_count": 38,
     "metadata": {},
     "output_type": "execute_result"
    }
   ],
   "source": [
    "df4 = df3.reset_index()\n",
    "df4 = df4.rename(columns={'index':'USA REGIONS'})\n",
    "df4"
   ]
  },
  {
   "cell_type": "code",
   "execution_count": 39,
   "metadata": {},
   "outputs": [
    {
     "data": {
      "text/plain": [
       "<matplotlib.axes._subplots.AxesSubplot at 0x130498580>"
      ]
     },
     "execution_count": 39,
     "metadata": {},
     "output_type": "execute_result"
    },
    {
     "data": {
      "image/png": "[encoded data removed]",
      "text/plain": [
       "<Figure size 504x504 with 1 Axes>"
      ]
     },
     "metadata": {
      "needs_background": "light"
     },
     "output_type": "display_data"
    }
   ],
   "source": [
    "df4.plot(x='USA REGIONS', y=['Negative', 'Neutral', 'Positive'], \n",
    "                       kind='bar', stacked=True, \n",
    "                       title='Sentiment Analysis for USA by Region', figsize=(7,7))"
   ]
  },
  {
   "cell_type": "code",
   "execution_count": 40,
   "metadata": {
    "scrolled": true
   },
   "outputs": [
    {
     "data": {
      "image/png": "[encoded data removed]",
      "text/plain": [
       "<Figure size 720x504 with 1 Axes>"
      ]
     },
     "metadata": {
      "needs_background": "light"
     },
     "output_type": "display_data"
    }
   ],
   "source": [
    "#Get values from the group and categories\n",
    "x_axis = df4['USA REGIONS']\n",
    "Negative = df4['Negative']\n",
    "Neutral = df4['Neutral']\n",
    "Positive = df4['Positive']\n",
    "total = Negative + Neutral + Positive\n",
    "# print(total)\n",
    "\n",
    "proportion_Negative = np.true_divide(Negative, total) * 100\n",
    "proportion_Neutral = np.true_divide(Neutral, total) * 100\n",
    "proportion_Positive = np.true_divide(Positive, total) * 100\n",
    "  \n",
    "#add colors\n",
    "colors = ['#FF9999', '#00BFFF','#C1FFC1']\n",
    "\n",
    "# The position of the bars on the x-axis\n",
    "r = range(len(x_axis))\n",
    "\n",
    "barWidth = 1\n",
    "\n",
    "#plot bars\n",
    "plt.figure(figsize=(10, 7))\n",
    "ax1 = plt.bar(r, proportion_Negative, bottom=proportion_Neutral+proportion_Positive, color=colors[0], edgecolor='white', width=barWidth, label=\"Negative\")\n",
    "ax2 = plt.bar(r, proportion_Neutral, bottom=proportion_Positive, color=colors[1], edgecolor='white', width=barWidth, label='Neutral')\n",
    "ax3 = plt.bar(r, proportion_Positive, color=colors[2], edgecolor='white', width=barWidth, label='Positive')\n",
    "plt.legend()\n",
    "plt.xticks(r, x_axis, fontweight='bold')\n",
    "plt.ylabel(\"Analysis\")\n",
    "\n",
    "plt.show()"
   ]
  },
  {
   "cell_type": "code",
   "execution_count": null,
   "metadata": {},
   "outputs": [],
   "source": []
  },
  {
   "cell_type": "code",
   "execution_count": null,
   "metadata": {},
   "outputs": [],
   "source": []
  },
  {
   "cell_type": "code",
   "execution_count": null,
   "metadata": {},
   "outputs": [],
   "source": []
  }
 ],
 "metadata": {
  "kernelspec": {
   "display_name": "Python 3",
   "language": "python",
   "name": "python3"
  },
  "language_info": {
   "codemirror_mode": {
    "name": "ipython",
    "version": 3
   },
   "file_extension": ".py",
   "mimetype": "text/x-python",
   "name": "python",
   "nbconvert_exporter": "python",
   "pygments_lexer": "ipython3",
   "version": "3.8.3"
  }
 },
 "nbformat": 4,
 "nbformat_minor": 4
}
